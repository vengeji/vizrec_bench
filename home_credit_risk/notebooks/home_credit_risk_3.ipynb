{
 "cells": [
  {
   "metadata": {
    "_uuid": "81e16db53fe23d7f531511f996eb6624984d980f",
    "_cell_guid": "2c165ea5-9c16-4765-8f70-4643940c927c"
   },
   "cell_type": "markdown",
   "source": [
    "# Home Credit Default Risk - Exploration + Baseline Model\n",
    "\n",
    "Many people struggle to get loans due to insufficient or non-existent credit histories. And, unfortunately, this population is often taken advantage of by untrustworthy lenders. Home Credit strives to broaden financial inclusion for the unbanked population by providing a positive and safe borrowing experience. In order to make sure this underserved population has a positive loan experience, Home Credit makes use of a variety of alternative data--including telco and transactional information--to predict their clients' repayment abilities.\n",
    "\n",
    "While Home Credit is currently using various statistical and machine learning methods to make these predictions, they're challenging Kagglers to help them unlock the full potential of their data. Doing so will ensure that clients capable of repayment are not rejected and that loans are given with a principal, maturity, and repayment calendar that will empower their clients to be successful.\n",
    "\n",
    "This is a simple notebook on exploration and baseline model of home credit default risk data \n",
    "\n",
    "**Contents**   \n",
    "[1. Dataset Preparation](#1)    \n",
    "[2. Exploration - Applications Train](#2)  \n",
    "&nbsp;&nbsp;&nbsp;&nbsp; [2.1 Snapshot - Application Train](#2.1)    \n",
    "&nbsp;&nbsp;&nbsp;&nbsp; [2.2 Distribution of Target Variable](#2.2)    \n",
    "&nbsp;&nbsp;&nbsp;&nbsp; [2.3 Applicant's Gender Type](#2.3)    \n",
    "&nbsp;&nbsp;&nbsp;&nbsp; [2.4 Family Status of Applicants who takes the loan](#2.4)  \n",
    "&nbsp;&nbsp;&nbsp;&nbsp; [2.5 Does applicants own Real Estate or Car](#2.5)    \n",
    "&nbsp;&nbsp;&nbsp;&nbsp; [2.6 Suite Type and Income Type of Applicants](#2.6)   \n",
    "&nbsp;&nbsp;&nbsp;&nbsp; [2.7 Applicants Contract Type](#2.7)   \n",
    "&nbsp;&nbsp;&nbsp;&nbsp; [2.8 Education Type and Occupation Type](#2.8)   \n",
    "&nbsp;&nbsp;&nbsp;&nbsp; [2.9 Organization Type and Occupation Type](#2.9)   \n",
    "&nbsp;&nbsp;&nbsp;&nbsp; [2.10 Walls Material, Foundation and House Type](#2.10)   \n",
    "&nbsp;&nbsp;&nbsp;&nbsp; [2.11 Amount Credit Distribution](#2.11)    \n",
    "&nbsp;&nbsp;&nbsp;&nbsp; [2.12 Amount Annuity Distribution - Distribution](#2.12)  \n",
    "&nbsp;&nbsp;&nbsp;&nbsp; [2.13 Amount Goods Price - Distribution](#2.13)   \n",
    "&nbsp;&nbsp;&nbsp;&nbsp; [2.14 Amount Region Population Relative](#2.14)    \n",
    "&nbsp;&nbsp;&nbsp;&nbsp; [2.15 Days Birth - Distribution](#2.15)   \n",
    "&nbsp;&nbsp;&nbsp;&nbsp; [2.16 Days Employed - Distribution](#2.16)    \n",
    "&nbsp;&nbsp;&nbsp;&nbsp; [2.17 Distribution of Num Days Registration](#2.17)  \n",
    "&nbsp;&nbsp;&nbsp;&nbsp; [2.18 Applicants Number of Family Members](#2.18)  \n",
    "&nbsp;&nbsp;&nbsp;&nbsp; [2.19 Applicants Number of Children](#2.19)  \n",
    "[3. Exploration - Bureau Data](#3)  \n",
    "&nbsp;&nbsp;&nbsp;&nbsp; [3.1 Snapshot - Bureau Data](#3)    \n",
    "[4. Exploration - Bureau Balance Data](#4)  \n",
    "&nbsp;&nbsp;&nbsp;&nbsp; [4.1 Snapshot - Bureau Balance Data](#3)     \n",
    "[5. Exploration - Credit Card Balance Data](#5)   \n",
    "&nbsp;&nbsp;&nbsp;&nbsp; [5.1 Snapshot - Credit Card Balance Data](#3)   \n",
    "[6. Exploration - POS Cash Balance Data](#6)   \n",
    "&nbsp;&nbsp;&nbsp;&nbsp; [6.1 Snapshot - POS Cash Balance Data](#3)   \n",
    "[7. Exploration - Previous Application Data](#7)   \n",
    "&nbsp;&nbsp;&nbsp;&nbsp; [7.1 Snapshot - Previous Application Data](#7.1)  \n",
    "&nbsp;&nbsp;&nbsp;&nbsp; [7.2 Contract Status Distribution - Previous Applications](#7.2)  \n",
    "&nbsp;&nbsp;&nbsp;&nbsp; [7.3 Suite Type Distribution - Previous Application](#7.3)    \n",
    "&nbsp;&nbsp;&nbsp;&nbsp; [7.4 Client Type Distribution  - Previous Application](#7.4)    \n",
    "&nbsp;&nbsp;&nbsp;&nbsp; [7.5 Channel Type Distribution - Previous Applications](#7.5)  \n",
    "[8. Exploration - Installation Payments](#8)  \n",
    "&nbsp;&nbsp;&nbsp;&nbsp; [8.1 Snapshot of Installation Payments](#3)  \n",
    "[9. Baseline Model](#9)  \n",
    "&nbsp;&nbsp;&nbsp;&nbsp; [9.1 Dataset Preparation](#9.1)  \n",
    "&nbsp;&nbsp;&nbsp;&nbsp; [9.2 Handelling Categorical Features](#9.2)     \n",
    "&nbsp;&nbsp;&nbsp;&nbsp; [9.3 Create Flat Dataset](#9.3)     \n",
    "&nbsp;&nbsp;&nbsp;&nbsp; [9.4 Validation Sets Preparation](#9.4)    \n",
    "&nbsp;&nbsp;&nbsp;&nbsp; [9.5 Model Fitting](#9.5)    \n",
    "&nbsp;&nbsp;&nbsp;&nbsp; [9.6 Feature Importance](#9.6)    \n",
    "&nbsp;&nbsp;&nbsp;&nbsp; [9.7 Prediction](#9.7)   \n",
    "\n",
    "\n",
    "\n",
    "## <a id=\"1\">1. Dataset Preparation </a>"
   ]
  },
  {
   "metadata": {
    "_kg_hide-input": true,
    "_uuid": "51ee747ada40a7cdfb800dfb02046bc353e5ec66",
    "_cell_guid": "38416409-89e8-431a-a206-0f78136ac8f2",
    "trusted": false,
    "collapsed": true
   },
   "cell_type": "code",
   "source": [
    "from plotly.offline import init_notebook_mode, iplot\n",
    "from wordcloud import WordCloud\n",
    "import plotly.graph_objs as go\n",
    "import matplotlib.pyplot as plt\n",
    "import plotly.plotly as py\n",
    "from plotly import tools\n",
    "from datetime import date\n",
    "import pandas as pd\n",
    "import numpy as np \n",
    "import seaborn as sns\n",
    "import random \n",
    "import warnings\n",
    "warnings.filterwarnings(\"ignore\")\n",
    "init_notebook_mode(connected=True)\n",
    "\n",
    "path = \"../\"\n",
    "\n",
    "def bar_hor(df, col, title, color, w=None, h=None, lm=0, limit=100, return_trace=False, rev=False, xlb = False):\n",
    "    cnt_srs = df[col].value_counts()\n",
    "    yy = cnt_srs.head(limit).index[::-1] \n",
    "    xx = cnt_srs.head(limit).values[::-1] \n",
    "    if rev:\n",
    "        yy = cnt_srs.tail(limit).index[::-1] \n",
    "        xx = cnt_srs.tail(limit).values[::-1] \n",
    "    if xlb:\n",
    "        trace = go.Bar(y=xlb, x=xx, orientation = 'h', marker=dict(color=color))\n",
    "    else:\n",
    "        trace = go.Bar(y=yy, x=xx, orientation = 'h', marker=dict(color=color))\n",
    "    if return_trace:\n",
    "        return trace \n",
    "    layout = dict(title=title, margin=dict(l=lm), width=w, height=h)\n",
    "    data = [trace]\n",
    "    fig = go.Figure(data=data, layout=layout)\n",
    "    iplot(fig)\n",
    "\n",
    "def bar_hor_noagg(x, y, title, color, w=None, h=None, lm=0, limit=100, rt=False):\n",
    "    trace = go.Bar(y=x, x=y, orientation = 'h', marker=dict(color=color))\n",
    "    if rt:\n",
    "        return trace\n",
    "    layout = dict(title=title, margin=dict(l=lm), width=w, height=h)\n",
    "    data = [trace]\n",
    "    fig = go.Figure(data=data, layout=layout)\n",
    "    iplot(fig)\n",
    "\n",
    "\n",
    "def bar_ver_noagg(x, y, title, color, w=None, h=None, lm=0, rt = False):\n",
    "    trace = go.Bar(y=y, x=x, marker=dict(color=color))\n",
    "    if rt:\n",
    "        return trace\n",
    "    layout = dict(title=title, margin=dict(l=lm), width=w, height=h)\n",
    "    data = [trace]\n",
    "    fig = go.Figure(data=data, layout=layout)\n",
    "    iplot(fig)\n",
    "    \n",
    "def gp(col, title):\n",
    "    df1 = app_train[app_train[\"TARGET\"] == 1]\n",
    "    df0 = app_train[app_train[\"TARGET\"] == 0]\n",
    "    a1 = df1[col].value_counts()\n",
    "    b1 = df0[col].value_counts()\n",
    "    \n",
    "    total = dict(app_train[col].value_counts())\n",
    "    x0 = a1.index\n",
    "    x1 = b1.index\n",
    "    \n",
    "    y0 = [float(x)*100 / total[x0[i]] for i,x in enumerate(a1.values)]\n",
    "    y1 = [float(x)*100 / total[x1[i]] for i,x in enumerate(b1.values)]\n",
    "\n",
    "    trace1 = go.Bar(x=a1.index, y=y0, name='Target : 1', marker=dict(color=\"#96D38C\"))\n",
    "    trace2 = go.Bar(x=b1.index, y=y1, name='Target : 0', marker=dict(color=\"#FEBFB3\"))\n",
    "    return trace1, trace2 "
   ],
   "execution_count": null,
   "outputs": []
  },
  {
   "metadata": {
    "_uuid": "156bb2d13eb08c1d800307265994060bfc35cde1",
    "_cell_guid": "c156fe19-e526-404c-b1e2-3d04f103ae87"
   },
   "cell_type": "markdown",
   "source": [
    "## <a href=\"2\">2. Exploration of Applications Data </a>\n",
    "\n",
    "### <a href=\"2.1\">2.1 Snapshot of Application Train</a>\n",
    "\n",
    "Application data consists of static data for all applications and every row represents one loan."
   ]
  },
  {
   "metadata": {
    "_kg_hide-input": true,
    "_uuid": "c95dcf079aa5b11cec71fdf6f443d01b51218fb4",
    "_cell_guid": "eb163c92-0997-412e-a351-c954e6c20338",
    "trusted": false,
    "collapsed": true
   },
   "cell_type": "code",
   "source": [
    "app_train = pd.read_csv(path + \"home_credit_risk.csv\")\n",
    "app_train.head()"
   ],
   "execution_count": null,
   "outputs": []
  },
  {
   "metadata": {
    "_uuid": "5e5162264f6388b141ece6c9045f893e49ee17d6",
    "_cell_guid": "9bf8c10b-badd-4189-bcfb-a110774ac101"
   },
   "cell_type": "markdown",
   "source": "> There are total 307,511 rows which contains the information of loans and there are 122 variables. \n\n> The target variable defines if the client had payment difficulties meaning he/she had late payment more than X days on at least one of the first Y installments of the loan. Such case is marked as 1 while other all other cases as 0.\n\n### <a href=\"2.2\">2.2 Distribution of Target Variable </a>\n\nThe target variable defines weather the loan was repayed or not. Let us look at what is the distribution of loan repayment in the training dataset. "
  },
  {
   "metadata": {
    "_kg_hide-input": true,
    "_uuid": "aa165b85c9d4d5d990ce4510df8e78d378b545a1",
    "_cell_guid": "5d0d7438-35db-4da1-937f-fcd7cfcc0d2e",
    "trusted": false,
    "collapsed": true
   },
   "cell_type": "code",
   "source": "# Target Variable Distribution \nbar_hor(app_train, \"TARGET\", \"Distribution of Target Variable\" , [\"#44ff54\", '#ff4444'], h=350, w=600, lm=200, xlb = ['Target : 1','Target : 0'])",
   "execution_count": null,
   "outputs": []
  },
  {
   "metadata": {
    "_uuid": "9c1628bd75bee880b7ef2feb61907ff25059cc53",
    "_cell_guid": "44d9c548-9c20-4bcd-8405-75acf0d3551d"
   },
   "cell_type": "markdown",
   "source": "> The target variable is slightly imbalance with the majority of loans has the target equals to 0 which indicates that individuals did not had any problems in paying installments in given time. There are about 91% loans which is equal to about 282K with target = 0, While only 9% of the total loans (about 24K applicants) in this dataset involved the applicants having problems in repaying the loan / making installments.  \n\n### <a href=\"2.3\">2.3 Gender Type of Applicants </a>"
  },
  {
   "metadata": {
    "_kg_hide-input": true,
    "_uuid": "c5e85db5cdb92d5c662e2e43f88954acef42eb4a",
    "_cell_guid": "442df618-0d36-4575-8802-9e6db878abe9",
    "trusted": false,
    "collapsed": true
   },
   "cell_type": "code",
   "source": "tr0 = bar_hor(app_train, \"CODE_GENDER\", \"Distribution of CODE_GENDER Variable\" ,\"#f975ae\", w=700, lm=100, return_trace= True)\ntr1, tr2 = gp('CODE_GENDER', 'Distribution of Target with Applicant Gender')\n\nfig = tools.make_subplots(rows=1, cols=3, print_grid=False, subplot_titles = [\"Gender Distribution\" , \"Gender, Target=1\" ,\"Gender, Target=0\"])\nfig.append_trace(tr0, 1, 1);\nfig.append_trace(tr1, 1, 2);\nfig.append_trace(tr2, 1, 3);\nfig['layout'].update(height=350, showlegend=False, margin=dict(l=50));\niplot(fig);",
   "execution_count": null,
   "outputs": []
  },
  {
   "metadata": {
    "_uuid": "10eb60b32bea62df50a09b8dd17151c8974bfa28",
    "_cell_guid": "96ae684a-03b3-4c72-8d2b-f03749262478"
   },
   "cell_type": "markdown",
   "source": "> In the applicant's data women have applied for a larger majority of loans which is almost the double as the men. In total, there are about 202,448 loan applications filed by females in contrast to about 105,059 applications filed by males. However, a larger percentage (about 10% of the total) of men had the problems in paying the loan or making installments within time as compared to women applicants (about 7%). \n\n### <a href=\"2.4\">2.4 Family Status of Applicants </a>"
  },
  {
   "metadata": {
    "_kg_hide-input": true,
    "_uuid": "4c51257cf3a0004b4a9e771a256d1d923ec6a5ce",
    "_cell_guid": "252d33aa-3b8c-4ec8-8632-224aa55cee66",
    "trusted": false,
    "collapsed": true
   },
   "cell_type": "code",
   "source": "tr0 = bar_hor(app_train, \"NAME_FAMILY_STATUS\", \"Distribution of CODE_GENDER Variable\" ,\"#f975ae\", w=700, lm=100, return_trace= True)\ntr1, tr2 = gp('NAME_FAMILY_STATUS', 'Distribution of Target with Applicant Gender')\n\nfig = tools.make_subplots(rows=1, cols=3, print_grid=False, subplot_titles = [\"Family Status Distribution\" , \"Family Status, Target = 1\" ,\"Family Status, Target = 0\"])\nfig.append_trace(tr0, 1, 1);\nfig.append_trace(tr1, 1, 2);\nfig.append_trace(tr2, 1, 3);\nfig['layout'].update(height=350, showlegend=False, margin=dict(l=120));\niplot(fig);",
   "execution_count": null,
   "outputs": []
  },
  {
   "metadata": {
    "_uuid": "e29313e46e0914fd8d183a01a95f4c325f597714",
    "_cell_guid": "b1b9da54-1677-4d4b-9077-5643e66da284"
   },
   "cell_type": "markdown",
   "source": "> Married people have applied for a larger number of loan applications about 196K, However, people having Civil Marriage has the highest percentage (about 10%) of loan problems and challenges. \n\n### <a href=\"2.5\">2.5. Does applicants own Real Estate or Car ?</a>"
  },
  {
   "metadata": {
    "_kg_hide-input": true,
    "_uuid": "e4346a77344f67b931f1f697fd6bc5225ecb19cc",
    "_cell_guid": "13575cba-492d-4888-864e-c2faeb88cd17",
    "trusted": false,
    "collapsed": true
   },
   "cell_type": "code",
   "source": "## real estate \nt = app_train['FLAG_OWN_REALTY'].value_counts()\nlabels = t.index\nvalues = t.values\ncolors = ['#96D38C','#FEBFB3']\ntrace = go.Pie(labels=labels, values=values,\n               hoverinfo='', textinfo='',\n               textfont=dict(size=12),\n               marker=dict(colors=colors,\n                           line=dict(color='#fff', width=2)))\nlayout = go.Layout(title='Applicants Owning Real Estate', height=400)\nfig = go.Figure(data=[trace], layout=layout)\niplot(fig)\n\n\nt = app_train['FLAG_OWN_CAR'].value_counts()\nlabels = t.index\nvalues = t.values\ncolors = ['#FEBFB3','#96D38C']\ntrace = go.Pie(labels=labels, values=values,\n               hoverinfo='', textinfo='',\n               textfont=dict(size=12),\n               marker=dict(colors=colors,\n                           line=dict(color='#fff', width=2)))\nlayout = go.Layout(title='Applicants Owning Car', height=400)\nfig = go.Figure(data=[trace], layout=layout)\niplot(fig)\n\n\ntr1, tr2 = gp('FLAG_OWN_REALTY', 'Applicants Owning Real Estate wrt Target Variable')\ntr3, tr4 = gp('FLAG_OWN_CAR', 'Applicants Owning Car wrt Target Variable')\nfig = tools.make_subplots(rows=1, cols=2, print_grid=False, \n                          subplot_titles = [\"% Applicants with RealEstate and Target = 1\", \"% Applicants with Car and Target = 1\"])\nfig.append_trace(tr1, 1, 1);\nfig.append_trace(tr3, 1, 2);\nfig['layout'].update(height=350, showlegend=False, margin=dict(l=120));\niplot(fig);",
   "execution_count": null,
   "outputs": []
  },
  {
   "metadata": {
    "_uuid": "0981a3c786e21b7026f2ddd823450d24ff97f8ab",
    "_cell_guid": "0a1daaef-b843-4f3f-8656-42b9e3036329"
   },
   "cell_type": "markdown",
   "source": "> About 70% of the applicants own Real Estate, while only 34% of applicants own Car who had applied for the loan in the past years. However, a higher percentage of people having payment difficulties was observed with applicants which did not owned Car or which did not owned Real Estate. \n\n### <a href=\"2.6\">2.6 Suite Type and Income Type of Applicants </a>"
  },
  {
   "metadata": {
    "_kg_hide-input": true,
    "_uuid": "5420e580caf623e6782339566b483b077a57ebca",
    "_cell_guid": "d6ee79a4-de90-4c89-a1ce-61ad3e4fd87e",
    "trusted": false,
    "collapsed": true
   },
   "cell_type": "code",
   "source": "tr0 = bar_hor(app_train, \"NAME_TYPE_SUITE\", \"Distribution of CODE_GENDER Variable\" ,\"#f975ae\", w=700, lm=100, return_trace= True)\ntr1 = bar_hor(app_train, \"NAME_INCOME_TYPE\", \"Distribution of CODE_GENDER Variable\" ,\"#f975ae\", w=700, lm=100, return_trace= True)\n\nfig = tools.make_subplots(rows=1, cols=2, print_grid=False, subplot_titles = ['Applicants Suite Type' , 'Applicants Income Type'])\nfig.append_trace(tr0, 1, 1);\nfig.append_trace(tr1, 1, 2);\nfig['layout'].update(height=400, showlegend=False, margin=dict(l=100));\niplot(fig);",
   "execution_count": null,
   "outputs": []
  },
  {
   "metadata": {
    "_uuid": "6c2ae07141da1dde8f99f8143c2b4dab5bf2be61",
    "_cell_guid": "cd90a9aa-f9bf-4bf5-a538-ba53f67fb765"
   },
   "cell_type": "markdown",
   "source": "> Top 3 Type Suites which applies for loan are the houses which are:  \n    - Unaccompanined (about 248K applicants) \n    - Family (about 40K applicants)  \n    - Spouse, partner (about 11K applicants)    \n> The income type of people who applies for loan include about 8 categroes, top ones are : \n    - Working Class (158K)\n    - Commercial Associate (71K)\n    - Pensiner (55K)\n\n### <a id=\"2.6.1\">2.6.1 How does Target Varies with Suite and Income Type of Applicants </a>"
  },
  {
   "metadata": {
    "_kg_hide-input": true,
    "_uuid": "62255e896cd313e4d725ed9e64b77fe57591538f",
    "_cell_guid": "2c1c0b71-d841-4774-9f69-20e0c941c9a7",
    "trusted": false,
    "collapsed": true
   },
   "cell_type": "code",
   "source": "tr1, tr2 = gp('NAME_TYPE_SUITE', 'Applicants Type Suites which repayed the loan')\nfig = tools.make_subplots(rows=1, cols=2, print_grid=False, \n                          subplot_titles = [\"Applicants Type Suites distribution when Target = 1\", \"Applicants Type Suites distribution when Target = 0\"])\nfig.append_trace(tr1, 1, 1);\nfig.append_trace(tr2, 1, 2);\nfig['layout'].update(height=350, showlegend=False, margin=dict(l=120));\niplot(fig);\n\n\ntr1, tr2 = gp('NAME_INCOME_TYPE', 'Applicants Income Types which repayed the loan')\nfig = tools.make_subplots(rows=1, cols=2, print_grid=False, \n                          subplot_titles = [\"Applicants Income Types when Target = 1\", \"Applicants Income Type When Target = 0\"])\nfig.append_trace(tr1, 1, 1);\nfig.append_trace(tr2, 1, 2);\nfig['layout'].update(height=350, showlegend=False, margin=dict(l=120));\niplot(fig);",
   "execution_count": null,
   "outputs": []
  },
  {
   "metadata": {
    "_uuid": "ba88ba077e94ed387d1df8e13665a94beda77fbc",
    "_cell_guid": "b0ca2663-4f35-4294-ab4f-7ef6015cde82"
   },
   "cell_type": "markdown",
   "source": "> We see that Applicants having Income Types : Maternity Leaves and UnEmployed has the highest percentage (about 40% and 36% approx) of Target = 1 ie. having more payment problems, while Pensioners have the least (about 5.3%). \n\n### <a id=\"2.7\">2.7. Applicant's Contract Type</a>"
  },
  {
   "metadata": {
    "_kg_hide-input": true,
    "_uuid": "d48290edfae2f4beb09fd98d605fc43fb1218f6c",
    "_cell_guid": "5b00d571-1a5a-47d9-b0aa-d45dcecf5cb0",
    "trusted": false,
    "collapsed": true
   },
   "cell_type": "code",
   "source": "t = app_train['NAME_CONTRACT_TYPE'].value_counts()\nlabels = t.index\nvalues = t.values\ncolors = ['#FEBFB3','#96D38C']\ntrace = go.Pie(labels=labels, values=values,\n               hoverinfo='', textinfo='',\n               textfont=dict(size=12),\n               marker=dict(colors=colors,\n                           line=dict(color='#fff', width=2)))\nlayout = go.Layout(title='Applicants Contract Type', height=400)\nfig = go.Figure(data=[trace], layout=layout)\niplot(fig)",
   "execution_count": null,
   "outputs": []
  },
  {
   "metadata": {
    "_uuid": "15842ca1961dfb785669c5b23f4a21bc67a0dc0c",
    "_cell_guid": "10c3308c-ee99-4462-b481-cf7bd33b4396"
   },
   "cell_type": "markdown",
   "source": "> Cash loans with about 278K loans contributes to a majorty of total lonas in this dataset. Revolving loans has significantly lesser number equal to about 29K as compared to Cash loans. \n\n### <a id=\"2.8\">2.8 Education Type and Housing Type </a>"
  },
  {
   "metadata": {
    "_kg_hide-input": true,
    "_uuid": "b7902786f27f2d39870aa3bf1a87004608e27d5c",
    "_cell_guid": "b24015be-5bb1-43e7-ab67-ca6134e5ee04",
    "trusted": false,
    "collapsed": true
   },
   "cell_type": "code",
   "source": "tr1 = bar_hor(app_train, \"NAME_EDUCATION_TYPE\", \"Distribution of \" ,\"#f975ae\", w=700, lm=100, return_trace= True)\ntr2 = bar_hor(app_train, \"NAME_HOUSING_TYPE\", \"Distribution of \" ,\"#f975ae\", w=700, lm=100, return_trace = True)\n\nfig = tools.make_subplots(rows=1, cols=2, print_grid=False, subplot_titles = ['Applicants Education Type', 'Applicants Housing Type' ])\nfig.append_trace(tr1, 1, 1);\nfig.append_trace(tr2, 1, 2);\nfig['layout'].update(height=400, showlegend=False, margin=dict(l=100));\niplot(fig);\n\n\ntr1, tr2 = gp('NAME_EDUCATION_TYPE', 'Applicants Income Types which repayed the loan')\ntr3, tr4 = gp('NAME_HOUSING_TYPE', 'Applicants Income Types which repayed the loan')\nfig = tools.make_subplots(rows=1, cols=2, print_grid=False, \n                          subplot_titles = [\"Applicants Education Types, Target=1\", \"Applicants Housing Type, Target=1\"])\nfig.append_trace(tr1, 1, 1);\nfig.append_trace(tr3, 1, 2);\nfig['layout'].update(height=350, showlegend=False, margin=dict(l=30));\niplot(fig);",
   "execution_count": null,
   "outputs": []
  },
  {
   "metadata": {
    "_uuid": "6f00b6ce39f587f08e1fec290e4e077ea1f37247",
    "_cell_guid": "1424ad43-b276-476d-94d8-56778cdb11c4"
   },
   "cell_type": "markdown",
   "source": "> A large number of applications (218K) are filed by people having secondary education followed by people with Higher Education with 75K applications. Applicants living in House / apartments has the highest number of loan apllications equal to 272K. While we see that the applicants with Lower Secondary education status has the highest percentage of payment related problems. Also, Applicants living in apartments or living with parents also shows the same trend. "
  },
  {
   "metadata": {
    "_uuid": "15253e3157f009bf3024ab49119201a688431913",
    "_cell_guid": "a21046cc-aaec-412e-a48d-3f703719c103"
   },
   "cell_type": "markdown",
   "source": "### <a id=\"2.9\">2.9. Which Organization and Occupation Type applies for loan and which repays </a>"
  },
  {
   "metadata": {
    "_kg_hide-input": true,
    "_uuid": "4da4b17a348dc1077f3e0a1c503dd455b40b3482",
    "_cell_guid": "d801838f-659a-4a7a-8487-61dcbc9c7b32",
    "trusted": false,
    "collapsed": true
   },
   "cell_type": "code",
   "source": "tr1 = bar_hor(app_train, \"ORGANIZATION_TYPE\", \"Distribution of \" ,\"#f975ae\", w=700, lm=100, return_trace= True)\ntr2 = bar_hor(app_train, \"OCCUPATION_TYPE\", \"Distribution of \" ,\"#f975ae\", w=700, lm=100, return_trace = True)\nfig = tools.make_subplots(rows=1, cols=2, print_grid=False, subplot_titles = ['Applicants Organization Type', 'Applicants Occupation Type' ])\nfig.append_trace(tr1, 1, 1);\nfig.append_trace(tr2, 1, 2);\nfig['layout'].update(height=600, showlegend=False, margin=dict(l=150));\niplot(fig);",
   "execution_count": null,
   "outputs": []
  },
  {
   "metadata": {
    "_uuid": "a788d09a4297c0ca34f2dfa9f0d4248923c9eb34",
    "_cell_guid": "ef6b95af-4ba5-49fc-908c-f779abbf1bf7"
   },
   "cell_type": "markdown",
   "source": "> Top Applicant's who applied for loan : Laborers - Approx 55 K, Sales Staff - Approx 32 K, Core staff - Approx 28 K. Entity Type 3 type organizations have filed maximum number of loans equal to approx 67K\n\n### <a id=\"2.9.1\">2.9.1 Target Variable with respect to Organization and Occupation Type </a>"
  },
  {
   "metadata": {
    "_kg_hide-input": true,
    "_uuid": "649f9cdfaacc606bd22cce037de014e59cb8c6eb",
    "_cell_guid": "3bccf6a4-022e-421a-a01d-873889ba7ef4",
    "trusted": false,
    "collapsed": true
   },
   "cell_type": "code",
   "source": "tr1, tr2 = gp('ORGANIZATION_TYPE', 'Applicants Income Types which repayed the loan')\ntr3, tr4 = gp('OCCUPATION_TYPE', 'Applicants Income Types which repayed the loan')\nfig = tools.make_subplots(rows=1, cols=2, print_grid=False, \n                          subplot_titles = [\"Applicants Organization Types - Repayed\", \"Applicants Occupation Type - Repayed\"])\nfig.append_trace(tr1, 1, 1);\nfig.append_trace(tr3, 1, 2);\nfig['layout'].update(height=350, showlegend=False, margin=dict(l=120));\niplot(fig);",
   "execution_count": null,
   "outputs": []
  },
  {
   "metadata": {
    "_uuid": "01b48f6d2e0ea1e282dee78cf0eaf04769bfe692",
    "_cell_guid": "944c588e-66b5-4e58-b168-1bb81988e98a"
   },
   "cell_type": "markdown",
   "source": "### <a id=\"2.10\">2.10 Walls Material, Foundation, and House Type </a>"
  },
  {
   "metadata": {
    "_kg_hide-input": true,
    "_uuid": "d4ddc9b411765359a5c5364e9db02517fa80f05d",
    "_cell_guid": "d8b29f65-422d-4e08-955b-e530f9fcaa98",
    "trusted": false,
    "collapsed": true
   },
   "cell_type": "code",
   "source": "tr1 = bar_hor(app_train, \"FONDKAPREMONT_MODE\", \"Distribution of FLAG_OWN_REALTY\" ,\"#639af2\", w=700, lm=100, return_trace= True)\ntr2 = bar_hor(app_train, \"WALLSMATERIAL_MODE\", \"Distribution of FLAG_OWN_CAR\" ,\"#a4c5f9\", w=700, lm=100, return_trace = True)\ntr1 = bar_hor(app_train, \"HOUSETYPE_MODE\", \"Distribution of FLAG_OWN_CAR\" ,\"#a4c5f9\", w=700, lm=100, return_trace = True)\n\nfig = tools.make_subplots(rows=1, cols=2, print_grid=False, subplot_titles = [ 'House Type', 'Walls Material'])\nfig.append_trace(tr1, 1, 1);\nfig.append_trace(tr2, 1, 2);\n# fig.append_trace(tr3, 1, 3);\n\nfig['layout'].update(height=400, showlegend=False, margin=dict(l=100));\niplot(fig);",
   "execution_count": null,
   "outputs": []
  },
  {
   "metadata": {
    "_uuid": "7abc636890de91c57b91c6e2ea09d1943b0cfc78",
    "_cell_guid": "d3909701-1f14-4305-8e74-e9157fe7375e"
   },
   "cell_type": "markdown",
   "source": "> - \"Blocks and Flats\" related house types have filed the largest number of loan applications equal to about 150K, rest of the other categories : Specific Housing and Terraced house have less than 1500 applications. Similarly houses having Panel and Stone Brick type walls material have filed the largest applciations close to 120K combined. \n\n### <a id=\"2.10.1\">2.10.1 Target Variable with respect to Walls Material, Fondkappremont, House Type </a>"
  },
  {
   "metadata": {
    "_kg_hide-input": true,
    "_uuid": "76b981c188baf704a6ded05143325a600e24ac81",
    "_cell_guid": "f0cc4749-3a87-48fe-8d60-795139602394",
    "trusted": false,
    "collapsed": true
   },
   "cell_type": "code",
   "source": "tr1, tr2 = gp('HOUSETYPE_MODE', 'Applicants Income Types which repayed the loan')\ntr3, tr4 = gp('WALLSMATERIAL_MODE', 'Applicants Income Types which repayed the loan')\nfig = tools.make_subplots(rows=1, cols=2, print_grid=False, subplot_titles = [\"HouseTypes - Repayed\", \"WallsMaterial - Repayed\"])\nfig.append_trace(tr1, 1, 1);\nfig.append_trace(tr3, 1, 2);\nfig['layout'].update(height=350, showlegend=False, margin=dict(l=120));\niplot(fig);",
   "execution_count": null,
   "outputs": []
  },
  {
   "metadata": {
    "_uuid": "722da453c5c4af02b281477c6492c7bb6e2b0e38",
    "_cell_guid": "1816b955-1d3e-4aef-8c05-f17fb3383b2d"
   },
   "cell_type": "markdown",
   "source": "### <a id=\"2.11\">2.11. Distribution of Amount Credit </a>"
  },
  {
   "metadata": {
    "_kg_hide-input": true,
    "_uuid": "b12a764b83e17e73090f54f3c8583a1eb8c9420d",
    "_cell_guid": "990e5730-12cd-4050-b434-fb89fdb00446",
    "trusted": false,
    "collapsed": true
   },
   "cell_type": "code",
   "source": "plt.figure(figsize=(12,5))\nplt.title(\"Distribution of AMT_CREDIT\")\nax = sns.distplot(app_train[\"AMT_CREDIT\"])",
   "execution_count": null,
   "outputs": []
  },
  {
   "metadata": {
    "_uuid": "7e46488114454dfcfeee443b79c79584e58519be",
    "_cell_guid": "28618990-d734-4e60-91f1-b8e9239ba745"
   },
   "cell_type": "markdown",
   "source": "### <a id=\"2.12\">2.12 Distribution of Amount AMT_ANNUITY </a>"
  },
  {
   "metadata": {
    "_kg_hide-input": true,
    "_uuid": "de409db59dc4899075a49438f946480768b77816",
    "_cell_guid": "0cded2f2-c56c-45f9-8b3a-960359ec5f47",
    "trusted": false,
    "collapsed": true
   },
   "cell_type": "code",
   "source": "plt.figure(figsize=(12,5))\nplt.title(\"Distribution of AMT_ANNUITY\")\nax = sns.distplot(app_train[\"AMT_ANNUITY\"].dropna())",
   "execution_count": null,
   "outputs": []
  },
  {
   "metadata": {
    "_uuid": "57fbb75649a1eeb1ce5b9f7b2ac423815321f724",
    "_cell_guid": "4e3de61e-e138-42c7-955c-12eff8aa2b91"
   },
   "cell_type": "markdown",
   "source": "### <a id=\"2.13\">2.13 Distribution of Amount AMT_GOODS_PRICE </a>"
  },
  {
   "metadata": {
    "_kg_hide-input": true,
    "_uuid": "fa776d88b103a82dce34b3c71a07056c20765eaa",
    "_cell_guid": "ad976051-52ee-4af9-b132-8b7d25712fd2",
    "trusted": false,
    "collapsed": true
   },
   "cell_type": "code",
   "source": "plt.figure(figsize=(12,5))\nplt.title(\"Distribution of AMT_GOODS_PRICE\")\nax = sns.distplot(app_train[\"AMT_GOODS_PRICE\"].dropna())",
   "execution_count": null,
   "outputs": []
  },
  {
   "metadata": {
    "_uuid": "a39d45f10303bba1e7a0a9dc1d3b022405f33f32",
    "_cell_guid": "f2c59771-3d8d-475c-b947-f2e6f1706be3"
   },
   "cell_type": "markdown",
   "source": "### <a id=\"2.14\">2.14 Distribution of Amount REGION_POPULATION_RELATIVE </a>"
  },
  {
   "metadata": {
    "_kg_hide-input": true,
    "_uuid": "ca9b9e4234d803b99882fff961dab615e813439a",
    "_cell_guid": "1bb22b1a-3356-45d0-b33c-7d7eb93e43c1",
    "trusted": false,
    "collapsed": true
   },
   "cell_type": "code",
   "source": "plt.figure(figsize=(12,5))\nplt.title(\"Distribution of REGION_POPULATION_RELATIVE\")\nax = sns.distplot(app_train[\"REGION_POPULATION_RELATIVE\"])",
   "execution_count": null,
   "outputs": []
  },
  {
   "metadata": {
    "_uuid": "98c03a26c8ec63b7ba231b08cbabf3580900390a",
    "_cell_guid": "ce024235-2643-428d-9611-670065124bd9"
   },
   "cell_type": "markdown",
   "source": "### <a id=\"2.15\">2.15 Distribution of Amount DAYS_BIRTH </a>"
  },
  {
   "metadata": {
    "_kg_hide-input": true,
    "_uuid": "05e227cb7f791d0342fef9706c8c8834873651c1",
    "_cell_guid": "0d64bdd8-0d58-4545-895c-e55df77e4898",
    "trusted": false,
    "collapsed": true
   },
   "cell_type": "code",
   "source": "plt.figure(figsize=(12,5))\nplt.title(\"Distribution of DAYS_BIRTH\")\nax = sns.distplot(app_train[\"DAYS_BIRTH\"])",
   "execution_count": null,
   "outputs": []
  },
  {
   "metadata": {
    "_uuid": "33132c54442e0fc616de776e67cf07aa5427e94c",
    "_cell_guid": "5b4de0af-1d9c-4a11-853c-1376f08405f9"
   },
   "cell_type": "markdown",
   "source": "### <a id=\"2.16\">2.16 Distribution of Amount DAYS_EMPLOYED </a>"
  },
  {
   "metadata": {
    "_kg_hide-input": true,
    "_uuid": "011f46cbf2e15df67b9bc421bce75b26185dd063",
    "_cell_guid": "88ab2863-ac1f-49f3-8e20-a1d99c77b806",
    "trusted": false,
    "collapsed": true
   },
   "cell_type": "code",
   "source": "plt.figure(figsize=(12,5))\nplt.title(\"Distribution of DAYS_EMPLOYED\")\nax = sns.distplot(app_train[\"DAYS_EMPLOYED\"])",
   "execution_count": null,
   "outputs": []
  },
  {
   "metadata": {
    "_uuid": "4747eda62b578e2f70fa8041fca9b0bf89189103",
    "_cell_guid": "38f9c744-1cc6-4f73-98eb-e745a92aaa0b"
   },
   "cell_type": "markdown",
   "source": "### <a id=\"2.17\">2.17 Distribution of Number of Days for Registration</a>"
  },
  {
   "metadata": {
    "_kg_hide-input": true,
    "_uuid": "966035af648af94461e7be000edd3d277a6ff0aa",
    "_cell_guid": "e4945b0c-bea0-4cc9-a886-4d6937a6339f",
    "trusted": false,
    "collapsed": true
   },
   "cell_type": "code",
   "source": "plt.figure(figsize=(12,5))\nplt.title(\"Distribution of DAYS_REGISTRATION\")\nax = sns.distplot(app_train[\"DAYS_REGISTRATION\"])",
   "execution_count": null,
   "outputs": []
  },
  {
   "metadata": {
    "_uuid": "8e1d531274f1ab7caf5aeea3a9457fc8a1af15dd",
    "_cell_guid": "741612f7-2edd-496c-9e20-597957fca3af"
   },
   "cell_type": "markdown",
   "source": "### <a id=\"2.18\">2.18 How many Family Members does the applicants has </a>"
  },
  {
   "metadata": {
    "_kg_hide-input": true,
    "_uuid": "aff6eef4a480681aed36e3fbfec8d23234a90523",
    "_cell_guid": "3fda7238-94db-47ef-ad51-a37c625741e1",
    "trusted": false,
    "collapsed": true
   },
   "cell_type": "code",
   "source": "t = app_train[\"CNT_FAM_MEMBERS\"].value_counts()\nt1 = pd.DataFrame()\nt1['x'] = t.index \nt1['y'] = t.values \n\nplt.figure(figsize=(12,5));\nplt.title(\"Distribution of Applicant's Family Members Count\");\nax = sns.barplot(data=t1, x=\"x\", y=\"y\", color=\"#f975ae\");\nax.spines['right'].set_visible(False);\nax.spines['top'].set_visible(False);\n\nax.set_ylabel('');    \nax.set_xlabel('');",
   "execution_count": null,
   "outputs": []
  },
  {
   "metadata": {
    "_uuid": "0fe1bf832102f9a1d6e4160b81b75a0c4443fc79",
    "_cell_guid": "f4a5f89f-42fa-4bbb-8b55-9d32016934ec"
   },
   "cell_type": "markdown",
   "source": "> Most of the applicants who applied for loan had 2 family members in total\n\n### <a id=\"2.19\"> 2.19 How many Children does the applicants have </a>"
  },
  {
   "metadata": {
    "_kg_hide-input": true,
    "_uuid": "5ea10b2ddef2f0a392ecb9e61c3caba4a3aeb184",
    "_cell_guid": "2ad2aa23-71c3-46ef-850a-76362cee8ac5",
    "trusted": false,
    "collapsed": true
   },
   "cell_type": "code",
   "source": "t = app_train[\"CNT_CHILDREN\"].value_counts()\nt1 = pd.DataFrame()\nt1['x'] = t.index \nt1['y'] = t.values \n\nplt.figure(figsize=(12,5));\nplt.title(\"Distribution of Applicant's Number of Children\");\nax = sns.barplot(data=t1, x=\"x\", y=\"y\", color=\"#f975ae\");\nax.spines['right'].set_visible(False);\nax.spines['top'].set_visible(False);\n\nax.set_ylabel('');    \nax.set_xlabel('');",
   "execution_count": null,
   "outputs": []
  },
  {
   "metadata": {
    "_uuid": "1b128ab27ea0291424856bf4d612aa85d2ba7a5a",
    "_cell_guid": "916d65fa-363a-446b-a2e8-9b149689caf2"
   },
   "cell_type": "markdown",
   "source": "> A large majority of applicants did not had children when they applied for loan\n\n## <a id=\"3\">3. Exploration of Bureau Data</a>\n\nAll client's previous credits provided by other financial institutions that were reported to Credit Bureau (for clients who have a loan in our sample). For every loan in our sample, there are as many rows as number of credits the client had in Credit Bureau before the application date.\n\n### <a id=\"3.1\">3.1 Snapshot of Bureau Data</a>"
  },
  {
   "metadata": {
    "_kg_hide-input": true,
    "_uuid": "9529bef2d954adb828c2e35ec2cf89e7ea42c002",
    "_cell_guid": "c0de05d8-2a4d-4834-bd1e-daabc8b9610f",
    "trusted": false,
    "collapsed": true
   },
   "cell_type": "code",
   "source": "bureau = pd.read_csv(path + \"bureau.csv\")\nbureau.head()",
   "execution_count": null,
   "outputs": []
  },
  {
   "metadata": {
    "_uuid": "b50d744e5f0934ebc7965a57f4eecfc5b401e9ce",
    "_cell_guid": "abed0e47-f848-4b17-ac4e-d912db58c71d"
   },
   "cell_type": "markdown",
   "source": "## <a id=\"4\">4. Exploration of Bureau Balance Data</a>\n\nMonthly balances of previous credits in Credit Bureau. This table has one row for each month of history of every previous credit reported to Credit Bureau – i.e the table has (#loans in sample * # of relative previous credits * # of months where we have some history observable for the previous credits) rows.\n\n### <a id=\"4.1\">4.1 Snapshot of Bureau Balance Data</a>"
  },
  {
   "metadata": {
    "_kg_hide-input": true,
    "_uuid": "ac67d7d783e9e13f3775ddf803d010e3d664c4f6",
    "_cell_guid": "c14ec3ef-7db0-4317-b449-0124db8572d8",
    "trusted": false,
    "collapsed": true
   },
   "cell_type": "code",
   "source": "bureau_balance = pd.read_csv(path + \"bureau_balance.csv\")\nbureau_balance.head()",
   "execution_count": null,
   "outputs": []
  },
  {
   "metadata": {
    "_uuid": "76f36853e9a9812c5a9ef82fc31d50ef87da1d41",
    "_cell_guid": "d552c14d-f574-4392-9706-f4c12db8b549"
   },
   "cell_type": "markdown",
   "source": "## <a id=\"5\">5. Exploration of Credit Card Balance</a>\n\nMonthly balance snapshots of previous credit cards that the applicant has with Home Credit.This table has one row for each month of history of every previous credit in Home Credit (consumer credit and cash loans) related to loans in our sample – i.e. the table has (#loans in sample * # of relative previous credit cards * # of months where we have some history observable for the previous credit card) rows.\n\n### <a id=\"5.1\">5.1 Snapshot of Credit Card Balance</a>"
  },
  {
   "metadata": {
    "_kg_hide-input": true,
    "_uuid": "89ef3131f2f1a6125b4a0b3df9aef52c1e985039",
    "_cell_guid": "0407eeec-c672-4f64-95e4-633893271130",
    "trusted": false,
    "collapsed": true
   },
   "cell_type": "code",
   "source": "credit_card_balance = pd.read_csv(path + \"credit_card_balance.csv\")\ncredit_card_balance.head()",
   "execution_count": null,
   "outputs": []
  },
  {
   "metadata": {
    "_uuid": "1c083b3fdd9a9f6df7ea762c85f6b87b49479369",
    "_cell_guid": "e437d24d-2db4-4750-998d-5fee2aa0857e"
   },
   "cell_type": "markdown",
   "source": "## <a id=\"6\">6. Exploration of POS CASH Balance Data</a>\n\nMonthly balance snapshots of previous POS (point of sales) and cash loans that the applicant had with Home Credit. This table has one row for each month of history of every previous credit in Home Credit (consumer credit and cash loans) related to loans in our sample – i.e. the table has (#loans in sample * # of relative previous credits * # of months in which we have some history observable for the previous credits) rows.\n\n### <a id=\"6.1\">6.1 Snapshot of POS CASH Balance Data</a>"
  },
  {
   "metadata": {
    "_kg_hide-input": true,
    "_uuid": "6a28d16a578c39e441b7c7542b3957c1ffcb9d1c",
    "_cell_guid": "e466a665-ae96-4014-b2e3-d898b9ff1127",
    "trusted": false,
    "collapsed": true
   },
   "cell_type": "code",
   "source": "pcb = pd.read_csv(path + \"POS_CASH_balance.csv\")\npcb.head()",
   "execution_count": null,
   "outputs": []
  },
  {
   "metadata": {
    "_uuid": "0840360310311a1b4d835cf9f5612b61d39115fe",
    "_cell_guid": "5fa69a3c-9e73-4d6e-b3c7-ec0689c75f30"
   },
   "cell_type": "markdown",
   "source": "## <a id=\"7\">7. Exploration of Prev Application</a>\n\n### <a id=\"7.1\">7.1 Snapshot of Prev Application</a>"
  },
  {
   "metadata": {
    "_kg_hide-input": true,
    "_uuid": "2e163de1e8b97df7059624eba3b0ad5f3d51fa9b",
    "_cell_guid": "1bb291e8-65f2-43c4-a09d-2a785837a395",
    "trusted": false,
    "collapsed": true
   },
   "cell_type": "code",
   "source": "previous_application = pd.read_csv(path + \"previous_application.csv\")\nprevious_application.head()",
   "execution_count": null,
   "outputs": []
  },
  {
   "metadata": {
    "_uuid": "5a97d1025d3151b74d5d9387d2523ff51b2d4049",
    "_cell_guid": "4215674c-cf90-4a98-9628-5bc33f7b3d96"
   },
   "cell_type": "markdown",
   "source": "### <a id=\"7.2\">7.2 Contract Status Distribution in Previously Filed Applications</a>"
  },
  {
   "metadata": {
    "_kg_hide-input": true,
    "_uuid": "972f2148294c720e5f06d25484895567e3bfc594",
    "_cell_guid": "b2ff9309-d467-4ff5-8226-9af7e713dc74",
    "trusted": false,
    "collapsed": true
   },
   "cell_type": "code",
   "source": "t = previous_application['NAME_CONTRACT_STATUS'].value_counts()\nlabels = t.index\nvalues = t.values\n\ncolors = ['#FEBFB3', '#E1396C', '#96D38C', '#D0F9B1']\n\ntrace = go.Pie(labels=labels, values=values,\n               hoverinfo='', textinfo='',\n               textfont=dict(size=12),\n               marker=dict(colors=colors,\n                           line=dict(color='#fff', width=2)))\n\nlayout = go.Layout(title='Name Contract Status in Previous Applications', height=400)\nfig = go.Figure(data=[trace], layout=layout)\niplot(fig)",
   "execution_count": null,
   "outputs": []
  },
  {
   "metadata": {
    "_uuid": "b1d764955f864244143a58a2f036945755d6ef8e",
    "_cell_guid": "b310cc84-4e47-490e-abda-326dd3ca50fb"
   },
   "cell_type": "markdown",
   "source": "> - A large number of people (about 62%) had their previous applications approved, while about 19% of them had cancelled and other 17% were resued. \n\n### <a id=\"7.3\">7.3 Suite Type Distribution of Previous Applications</a>"
  },
  {
   "metadata": {
    "_kg_hide-input": true,
    "_uuid": "bd0009f9babfb6e399a105c4723f51faf98b7e31",
    "_cell_guid": "e9a278ed-0653-43ad-9df4-3daff8b9578c",
    "trusted": false,
    "collapsed": true
   },
   "cell_type": "code",
   "source": "t = previous_application['NAME_TYPE_SUITE'].value_counts()\nlabels = t.index\nvalues = t.values\n\ncolors = ['#FEBFB3', '#E1396C', '#96D38C', '#D0F9B1']\n\ntrace = go.Pie(labels=labels, values=values,\n               hoverinfo='', textinfo='',\n               textfont=dict(size=12),\n               marker=dict(colors=colors,\n                           line=dict(color='#fff', width=2)))\n\nlayout = go.Layout(title='Suite Type in Previous Application Distribution', height=400)\nfig = go.Figure(data=[trace], layout=layout)\niplot(fig)",
   "execution_count": null,
   "outputs": []
  },
  {
   "metadata": {
    "_uuid": "3a73a8e16611a5061e96b43e1f06bcffe5570bad",
    "_cell_guid": "7a01e53a-85fc-43a1-9c51-bd0c2f616d54"
   },
   "cell_type": "markdown",
   "source": "> - A majority of applicants had previous applications having Unaccompanied Suite Type (about 60%) followed by Family related suite type (about 25%)\n\n### <a id=\"7.4\">7.4 Client Type of Previous Applications</a>"
  },
  {
   "metadata": {
    "_kg_hide-input": true,
    "_uuid": "3addc73066d5601a382390d05bd14f841db8f599",
    "_cell_guid": "5176fb10-38ce-4b5e-a22b-6526dee9e519",
    "trusted": false,
    "collapsed": true
   },
   "cell_type": "code",
   "source": "t = previous_application['NAME_CLIENT_TYPE'].value_counts()\nlabels = t.index\nvalues = t.values\n\ncolors = ['#FEBFB3', '#E1396C', '#96D38C', '#D0F9B1']\n\ntrace = go.Pie(labels=labels, values=values,\n               hoverinfo='', textinfo='',\n               textfont=dict(size=12),\n               marker=dict(colors=colors,\n                           line=dict(color='#fff', width=2)))\n\nlayout = go.Layout(title='Client Type in Previous Applications', height=400)\nfig = go.Figure(data=[trace], layout=layout)\niplot(fig)",
   "execution_count": null,
   "outputs": []
  },
  {
   "metadata": {
    "_uuid": "36fb1d0c298781a6205a17865003d2ca0fa786f6",
    "_cell_guid": "7816f904-97ab-4f9e-aa5a-454e4ef428d8",
    "collapsed": true
   },
   "cell_type": "markdown",
   "source": "> - About 74% of the previous applications were Repeater Clients, while only 18% are new. About 8% are refreshed. \n\n### <a id=\"7.5\">7.5 Channel Type - Previous Applications </a>"
  },
  {
   "metadata": {
    "_kg_hide-input": true,
    "_uuid": "c8e0f239fd06aef97e10e51af1131945bc60a2c4",
    "_cell_guid": "d3d903f1-5dae-439f-ad54-f1e87fa7d569",
    "trusted": false,
    "collapsed": true
   },
   "cell_type": "code",
   "source": "t = previous_application['CHANNEL_TYPE'].value_counts()\nlabels = t.index\nvalues = t.values\n\ncolors = ['#FEBFB3', '#E1396C', '#96D38C', '#D0F9B1']\n\ntrace = go.Pie(labels=labels, values=values,\n               hoverinfo='', textinfo='',\n               textfont=dict(size=12),\n               marker=dict(colors=colors,\n                           line=dict(color='#fff', width=2)))\n\nlayout = go.Layout(title='Channel Type in Previous Applications', height=400)\nfig = go.Figure(data=[trace], layout=layout)\niplot(fig)",
   "execution_count": null,
   "outputs": []
  },
  {
   "metadata": {
    "_uuid": "3292c40aae11e71d2724862163132c86353d69d7",
    "_cell_guid": "0e2f999c-0b11-4e4e-88ff-2f7717dca833"
   },
   "cell_type": "markdown",
   "source": "## <a id=\"8\">8. Exploration of Installation Payments </a>\n### <a id=\"8.1\">8.1 Snapshot of Installation Payments </a>"
  },
  {
   "metadata": {
    "_kg_hide-input": true,
    "_uuid": "233a79452495afeccba562a2b7def7e64d0a41f0",
    "_cell_guid": "e06752f4-1545-4afe-93e6-faaf6303ef80",
    "trusted": false,
    "collapsed": true
   },
   "cell_type": "code",
   "source": "installments_payments = pd.read_csv(path + \"installments_payments.csv\")\ninstallments_payments.head()",
   "execution_count": null,
   "outputs": []
  },
  {
   "metadata": {
    "_uuid": "282f624b00c2a71fdb4164b6977d44a9d10124b2",
    "_cell_guid": "2cfd03cc-f0bb-462a-a0d3-34158797cad7"
   },
   "cell_type": "markdown",
   "source": "## <a id=\"9\">9. Baseline Model </a>\n\n### <a id=\"9.1\">9.1 Dataset Preparation</a>"
  },
  {
   "metadata": {
    "_kg_hide-input": false,
    "_uuid": "adf0822296c484e7ced0e6ec5dbb974e219c7d57",
    "_cell_guid": "4dcc95a1-8e83-4984-9546-0dbccab81810",
    "collapsed": true,
    "trusted": false
   },
   "cell_type": "code",
   "source": "from sklearn.model_selection import train_test_split \nimport lightgbm as lgb\n\n# read the test files \napp_test = pd.read_csv('../input/application_test.csv')\n\napp_test['is_test'] = 1 \napp_test['is_train'] = 0\napp_train['is_test'] = 0\napp_train['is_train'] = 1\n\n# target variable\nY = app_train['TARGET']\ntrain_X = app_train.drop(['TARGET'], axis = 1)\n\n# test ID\ntest_id = app_test['SK_ID_CURR']\ntest_X = app_test\n\n# merge train and test datasets for preprocessing\ndata = pd.concat([train_X, test_X], axis=0)",
   "execution_count": null,
   "outputs": []
  },
  {
   "metadata": {
    "_uuid": "9f906d1da1bccc7fafa88af8ec369a1c9f9d82ae",
    "_cell_guid": "30f83912-ecf4-49d9-bd27-ba9d2a3a4d0d"
   },
   "cell_type": "markdown",
   "source": "### <a id=\"9.2\">9.2 Handelling Categorical Features</a>"
  },
  {
   "metadata": {
    "_kg_hide-input": false,
    "_uuid": "17438fe941c9d5c16ff99ea76abae92915baf42e",
    "_cell_guid": "bbbb40c8-b420-4472-b1cc-3d8e9199f736",
    "collapsed": true,
    "trusted": false
   },
   "cell_type": "code",
   "source": "# function to obtain Categorical Features\ndef _get_categorical_features(df):\n    feats = [col for col in list(df.columns) if df[col].dtype == 'object']\n    return feats\n\n# function to factorize categorical features\ndef _factorize_categoricals(df, cats):\n    for col in cats:\n        df[col], _ = pd.factorize(df[col])\n    return df \n\n# function to create dummy variables of categorical features\ndef _get_dummies(df, cats):\n    for col in cats:\n        df = pd.concat([df, pd.get_dummies(df[col], prefix=col)], axis=1)\n    return df \n\n# get categorical features\ndata_cats = _get_categorical_features(data)\nprev_app_cats = _get_categorical_features(previous_application)\nbureau_cats = _get_categorical_features(bureau)\npcb_cats = _get_categorical_features(pcb)\nccbal_cats = _get_categorical_features(credit_card_balance)\n\n# create additional dummy features - \nprevious_application = _get_dummies(previous_application, prev_app_cats)\nbureau = _get_dummies(bureau, bureau_cats)\npcb = _get_dummies(pcb, pcb_cats)\ncredit_card_balance = _get_dummies(credit_card_balance, ccbal_cats)\n\n# factorize the categorical features from train and test data\ndata = _factorize_categoricals(data, data_cats)",
   "execution_count": null,
   "outputs": []
  },
  {
   "metadata": {
    "_uuid": "4c85c54935d70e7ae62705d7daec1913c1332941",
    "_cell_guid": "bb478ad4-70b7-43de-9043-4d162da1bcfb"
   },
   "cell_type": "markdown",
   "source": "### <a id=\"9.3\">9.3 Feature Engineering</a>"
  },
  {
   "metadata": {
    "_uuid": "5e4542f9d60ccf2f6075d8f8ce135c16d6f133f2",
    "_cell_guid": "297608a9-e175-45df-9969-24f06103ac24"
   },
   "cell_type": "markdown",
   "source": "### <a id=\"9.3.1\">9.3.1 Feature Engineering - Previous Applications</a>\n\nCredits to excellent kernel shared by Olivier for more ideas: https://www.kaggle.com/ogrellier/good-fun-with-ligthgbm \n"
  },
  {
   "metadata": {
    "_uuid": "6f14a7ac451246b17e071bf7c090d4a3c94bd14d",
    "_cell_guid": "c580da5f-931b-40b8-8ab5-94191c17687d",
    "collapsed": true,
    "trusted": false
   },
   "cell_type": "code",
   "source": "## More Feature Ideas Reference : https://www.kaggle.com/ogrellier/good-fun-with-ligthgbm \n\n## count the number of previous applications for a given ID\nprev_apps_count = previous_application[['SK_ID_CURR', 'SK_ID_PREV']].groupby('SK_ID_CURR').count()\nprevious_application['SK_ID_PREV'] = previous_application['SK_ID_CURR'].map(prev_apps_count['SK_ID_PREV'])\n\n## Average values for all other features in previous applications\nprev_apps_avg = previous_application.groupby('SK_ID_CURR').mean()\nprev_apps_avg.columns = ['p_' + col for col in prev_apps_avg.columns]\ndata = data.merge(right=prev_apps_avg.reset_index(), how='left', on='SK_ID_CURR')",
   "execution_count": null,
   "outputs": []
  },
  {
   "metadata": {
    "_uuid": "89a60099b3c00ea4a655b87faec58518da49ed4f",
    "_cell_guid": "17a0e75a-0cc2-4b57-b49f-9a7bb2de8ae8"
   },
   "cell_type": "markdown",
   "source": "### <a id=\"9.3.2\">9.3.2 Feature Engineering - Bureau Data</a>"
  },
  {
   "metadata": {
    "_uuid": "a60c27e992209f896a8506c753541b230e8e059a",
    "_cell_guid": "34e4a082-8b0a-401b-a6f5-445a80ff914c",
    "collapsed": true,
    "trusted": false
   },
   "cell_type": "code",
   "source": "# Average Values for all bureau features \nbureau_avg = bureau.groupby('SK_ID_CURR').mean()\nbureau_avg['buro_count'] = bureau[['SK_ID_BUREAU','SK_ID_CURR']].groupby('SK_ID_CURR').count()['SK_ID_BUREAU']\nbureau_avg.columns = ['b_' + f_ for f_ in bureau_avg.columns]\ndata = data.merge(right=bureau_avg.reset_index(), how='left', on='SK_ID_CURR')\n",
   "execution_count": null,
   "outputs": []
  },
  {
   "metadata": {
    "_uuid": "3189330af669cbc014df9fd0184f40bb5b705c2a",
    "_cell_guid": "6fb9b781-ddd2-48b4-ab5d-329ad4b2c7c9"
   },
   "cell_type": "markdown",
   "source": "### <a id=\"9.3.3\">9.3.3 Feature Engineering - Previous Installments</a>"
  },
  {
   "metadata": {
    "_uuid": "6225de449619e9caef0cfa377e5902bc23fc2efa",
    "_cell_guid": "db1c8cae-fda4-4d8c-ad01-d9dafddcc5d0",
    "collapsed": true,
    "trusted": false
   },
   "cell_type": "code",
   "source": "## count the number of previous installments\ncnt_inst = installments_payments[['SK_ID_CURR', 'SK_ID_PREV']].groupby('SK_ID_CURR').count()\ninstallments_payments['SK_ID_PREV'] = installments_payments['SK_ID_CURR'].map(cnt_inst['SK_ID_PREV'])\n\n## Average values for all other variables in installments payments\navg_inst = installments_payments.groupby('SK_ID_CURR').mean()\navg_inst.columns = ['i_' + f_ for f_ in avg_inst.columns]\ndata = data.merge(right=avg_inst.reset_index(), how='left', on='SK_ID_CURR')",
   "execution_count": null,
   "outputs": []
  },
  {
   "metadata": {
    "_uuid": "e6ceb2f03c136ee5e87da21e7bedfbdf2894017f",
    "_cell_guid": "60867702-d206-40f5-b7c9-2b16d43dde50"
   },
   "cell_type": "markdown",
   "source": "### <a id=\"9.3.4\">9.3.4 Feature Engineering - Pos Cash Balance</a>"
  },
  {
   "metadata": {
    "_uuid": "c55e63ed63a14d5fa7a0ddda9c4e3df0f8e3fa5c",
    "_cell_guid": "d86090df-92a6-4e4b-ae54-7b9a672076ca",
    "collapsed": true,
    "trusted": false
   },
   "cell_type": "code",
   "source": "### count the number of pos cash for a given ID\npcb_count = pcb[['SK_ID_CURR', 'SK_ID_PREV']].groupby('SK_ID_CURR').count()\npcb['SK_ID_PREV'] = pcb['SK_ID_CURR'].map(pcb_count['SK_ID_PREV'])\n\n## Average Values for all other variables in pos cash\npcb_avg = pcb.groupby('SK_ID_CURR').mean()\ndata = data.merge(right=pcb_avg.reset_index(), how='left', on='SK_ID_CURR')",
   "execution_count": null,
   "outputs": []
  },
  {
   "metadata": {
    "_uuid": "7e9b9e71475186b2061c4d172cc74a17080f235f",
    "_cell_guid": "992ee018-7b43-4e73-9c0d-326689406fc0"
   },
   "cell_type": "markdown",
   "source": "### <a id=\"9.3.5\">9.3.5 Feature Engineering - Credit Card Balance </a>"
  },
  {
   "metadata": {
    "_uuid": "efe17c3db4d8b2899373d277dc31ea85d33628aa",
    "_cell_guid": "84f69895-b332-4bfc-a0e8-54f222f27508",
    "collapsed": true,
    "trusted": false
   },
   "cell_type": "code",
   "source": "### count the number of previous applications for a given ID\nnb_prevs = credit_card_balance[['SK_ID_CURR', 'SK_ID_PREV']].groupby('SK_ID_CURR').count()\ncredit_card_balance['SK_ID_PREV'] = credit_card_balance['SK_ID_CURR'].map(nb_prevs['SK_ID_PREV'])\n\n### average of all other columns \navg_cc_bal = credit_card_balance.groupby('SK_ID_CURR').mean()\navg_cc_bal.columns = ['cc_bal_' + f_ for f_ in avg_cc_bal.columns]\ndata = data.merge(right=avg_cc_bal.reset_index(), how='left', on='SK_ID_CURR')",
   "execution_count": null,
   "outputs": []
  },
  {
   "metadata": {
    "_uuid": "35923472110207bcc9aecbd4ff12796618f7e931",
    "_cell_guid": "7f56b30f-086a-4499-917c-5aacd07a725b"
   },
   "cell_type": "markdown",
   "source": "### <a id=\"9.3.6\">9.3.6 Prepare Final Train and Test data</a>"
  },
  {
   "metadata": {
    "_uuid": "4f32b92d4c6369152af943ab22004b35715b86df",
    "_cell_guid": "bced14cf-71fc-4337-b145-1e10f85bb28f",
    "collapsed": true,
    "trusted": false
   },
   "cell_type": "code",
   "source": "#### prepare final Train X and Test X dataframes \nignore_features = ['SK_ID_CURR', 'is_train', 'is_test']\nrelevant_features = [col for col in data.columns if col not in ignore_features]\ntrainX = data[data['is_train'] == 1][relevant_features]\ntestX = data[data['is_test'] == 1][relevant_features]",
   "execution_count": null,
   "outputs": []
  },
  {
   "metadata": {
    "_uuid": "070e36e001dfc99b20059bf8fd328d2fcafbb2e3",
    "_cell_guid": "b67627ef-250c-4571-a75f-e14f5289b076"
   },
   "cell_type": "markdown",
   "source": "### <a id=\"9.4\">9.4 Create Validation Sets</a>"
  },
  {
   "metadata": {
    "_uuid": "6b8584e37a3563f272abfba4e21f534240494b52",
    "_cell_guid": "a55f5d67-fadc-4c7d-9e34-952ec96b42c7",
    "collapsed": true,
    "trusted": false
   },
   "cell_type": "code",
   "source": "x_train, x_val, y_train, y_val = train_test_split(trainX, Y, test_size=0.2, random_state=18)\nlgb_train = lgb.Dataset(data=x_train, label=y_train)\nlgb_eval = lgb.Dataset(data=x_val, label=y_val)",
   "execution_count": null,
   "outputs": []
  },
  {
   "metadata": {
    "_uuid": "d2788b8496e5210d3a2fcbd812d2a82a84934d6a",
    "_cell_guid": "8cd7bbf8-0a9f-4d5d-a563-0fd85bd3244e"
   },
   "cell_type": "markdown",
   "source": "### <a id=\"9.5\">9.5 Fit the Model</a>"
  },
  {
   "metadata": {
    "_kg_hide-input": false,
    "_uuid": "2fb7bc4662df2c07cfbfabe9860c79d0d4635553",
    "_cell_guid": "1447e73c-e7b1-4aac-a7a3-839b81b9cbae",
    "collapsed": true,
    "trusted": false
   },
   "cell_type": "code",
   "source": "params = {'task': 'train', 'boosting_type': 'gbdt', 'objective': 'binary', 'metric': 'auc', \n          'learning_rate': 0.01, 'num_leaves': 48, 'num_iteration': 5000, 'verbose': 0 ,\n          'colsample_bytree':.8, 'subsample':.9, 'max_depth':7, 'reg_alpha':.1, 'reg_lambda':.1, \n          'min_split_gain':.01, 'min_child_weight':1}\nmodel = lgb.train(params, lgb_train, valid_sets=lgb_eval, early_stopping_rounds=150, verbose_eval=200)",
   "execution_count": null,
   "outputs": []
  },
  {
   "metadata": {
    "_uuid": "2e517e7014d049789c97b393a7ab8e72f9932672",
    "_cell_guid": "95e66f13-c1ba-46a3-9fca-53422cb5014f"
   },
   "cell_type": "markdown",
   "source": "### <a id=\"9.6\">9.6 Feature Importance </a>"
  },
  {
   "metadata": {
    "_kg_hide-input": false,
    "_uuid": "74f91f79d44b44c46445c6ad7e248b5fd8bfe90e",
    "_cell_guid": "d5acdc09-bf70-489e-a6f5-7db8f9a10b87",
    "collapsed": true,
    "trusted": false
   },
   "cell_type": "code",
   "source": "lgb.plot_importance(model, figsize=(12, 25), max_num_features=100);",
   "execution_count": null,
   "outputs": []
  },
  {
   "metadata": {
    "_uuid": "dcc834ec4ff78a3529c4a8488534999a23ba040e",
    "_cell_guid": "f6454263-3924-45a8-bdeb-870d9ace4277"
   },
   "cell_type": "markdown",
   "source": "### <a id=\"9.7\">9.7 Predict</a>"
  },
  {
   "metadata": {
    "_uuid": "7976790886f7d85428dbaf40703cdd6a93586ba7",
    "_cell_guid": "d1513dd9-5e5f-4157-b7fe-dceb9db5483b",
    "collapsed": true,
    "trusted": false
   },
   "cell_type": "code",
   "source": "preds = model.predict(testX)\nsub_lgb = pd.DataFrame()\nsub_lgb['SK_ID_CURR'] = test_id\nsub_lgb['TARGET'] = preds\nsub_lgb.to_csv(\"lgb_baseline.csv\", index=False)\nsub_lgb.head()",
   "execution_count": null,
   "outputs": []
  },
  {
   "metadata": {
    "_uuid": "b1536d6705f869b7f7f61f4fdad0ed911778d815",
    "_cell_guid": "0d33c52f-93c7-463f-8036-2c004b27ce3e"
   },
   "cell_type": "markdown",
   "source": "Thanks for viewing. "
  },
  {
   "metadata": {
    "collapsed": true,
    "_uuid": "002f47c24377d8e3fb5abb1b9243d6224bf37017",
    "trusted": false
   },
   "cell_type": "code",
   "source": "",
   "execution_count": null,
   "outputs": []
  }
 ],
 "metadata": {
  "kernelspec": {
   "display_name": "Python 3",
   "language": "python",
   "name": "python3"
  },
  "language_info": {
   "name": "python",
   "version": "3.6.5",
   "mimetype": "text/x-python",
   "codemirror_mode": {
    "name": "ipython",
    "version": 3
   },
   "pygments_lexer": "ipython3",
   "nbconvert_exporter": "python",
   "file_extension": ".py"
  },
  "pycharm": {
   "stem_cell": {
    "cell_type": "raw",
    "source": [],
    "metadata": {
     "collapsed": false
    }
   }
  }
 },
 "nbformat": 4,
 "nbformat_minor": 1
}