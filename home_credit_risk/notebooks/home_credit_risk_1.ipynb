{
 "cells": [
  {
   "metadata": {
    "_cell_guid": "e8c21cb6-1d93-4356-962a-6523349f54b7",
    "_uuid": "c6d3d82b20ec1911d04a7fe511365f1e3b4fd8ae"
   },
   "cell_type": "markdown",
   "source": [
    "![](http://www.homecredit.net/~/media/Images/H/Home-Credit-Group/image-gallery/full/image-gallery-01-11-2016-b.png)"
   ]
  },
  {
   "metadata": {
    "_uuid": "f39845c344f54ce3c0986dbda56404f3986b3f1b"
   },
   "cell_type": "markdown",
   "source": [
    "- <a href='#1'>1. Introduction</a>  \n",
    "- <a href='#2'>2. Retrieving the Data</a>\n",
    "- <a href='#3'>3. Glimpse of Data</a>\n",
    "- <a href='#4'> 4. Check for missing data</a>\n",
    "- <a href='#5'>5. Data Exploration</a>\n",
    "    - <a href='#5-1'>5.1 Distribution of AMT_CREDIT</a>\n",
    "    - <a href='#5-2'>5.2 Distribution of AMT_INCOME_TOTAL</a>\n",
    "    - <a href='#5-3'>5.3 Distribution of AMT_GOODS_PRICE</a>\n",
    "    - <a href='#5-4'>5.4 Distribution of Name of type of the Suite</a>\n",
    "    - <a href='#5-5'>5.5 Data is balanced or imbalanced</a>\n",
    "    - <a href='#5-6'>5.6 Types of loan</a>\n",
    "    - <a href='#5-7'>5.7 Purpose of loan</a>\n",
    "    - <a href='#5-8'>5.8 Income sources of Applicant's who applied for loan</a>\n",
    "    - <a href='#5-9'>5.9 Family Status of Applicant's who applied for loan</a>\n",
    "    - <a href='#5-10'>5.10 Occupation of Applicant's who applied for loan</a>\n",
    "    - <a href='#5-11'>5.11 Education of Applicant's who applied for loan</a>\n",
    "    - <a href='#5-12'>5.12 For which types of house higher applicant's applied for loan ?</a>\n",
    "    - <a href='#5-13'>5.13 Types of Organizations who applied for loan </a>\n",
    "    - <a href='#5-14'>5.14 Exploration in terms of loan is repayed or not</a>\n",
    "        - <a href='#5-14-1'>5.14.1 Income sources of Applicant's in terms of loan is repayed or not</a>\n",
    "        - <a href='#5-14-2'>5.14.2 Family Status of Applicant's in terms of loan is repayed or not</a>\n",
    "        - <a href='#5-14-3'>5.14.3 Occupation of Applicant's in terms of loan is repayed or not</a>\n",
    "        - <a href='#5-14-4'>5.14.4 Education of Applicant's in terms of loan is repayed or not</a>\n",
    "        - <a href='#5-14-5'>5.14.5 For which types of house higher applicant's applied for loan in terms of loan is repayed or not</a>\n",
    "        - <a href='#5-14-6'>5.14.6 Types of Organizations in terms of loan is repayed or not</a>\n",
    "        - <a href='#5-14-7'>5.14.7 Distribution of Name of type of the Suite in terms of loan is repayed or not</a>\n",
    "    - <a href='#5-15'>5.15 Exploartion of previous application data</a>\n",
    "        - <a href='#5-15-1'>5.15.1 Contract product type of previous application</a>\n",
    "        - <a href='#5-15-2'>5.15.2 On which day highest number of clients applied in prevoies application</a>\n",
    "        - <a href='#5-15-3'>5.15.3 Purpose of cash loan in previous application</a>\n",
    "        - <a href='#5-15-4'>5.15.4 Contract was approved or not in previous application</a>\n",
    "        - <a href='#5-15-5'>5.15.5 Payment method that client choose to pay for the previous application</a>\n",
    "        - <a href='#5-15-6'>5.15.6 Why was the previous application rejected ?</a>\n",
    "        - <a href='#5-15-7'>5.15.7 Who accompanied client when applying for the previous application</a>\n",
    "        - <a href='#5-15-8'>5.15.8 Was the client old or new client when applying for the previous application</a>\n",
    "        - <a href='#5-15-9'>5.15.9 What kind of goods did the client apply for in the previous application</a>\n",
    "        - <a href='#5=15=10'>5.15.10 Was the previous application for CASH, POS, CAR, …</a>\n",
    "        - <a href='#5-15-11'>5.15.11 Was the previous application x-sell or walk-in ?</a>\n",
    "        - <a href='#5-15-12'>5.15.12 Top channels  through which they acquired the client on the previous application</a>\n",
    "        - <a href='#5-15-13'>5.15.13 Top industry of the seller</a>\n",
    "        - <a href='#5-15-14'>5.15.14 Grouped interest rate into small medium and high of the previous application</a>\n",
    "        - <a href='#5-15-15'>5.15.15 Top Detailed product combination of the previous application</a>\n",
    "        - <a href='#5-15-16'>5.15.16 Did the client requested insurance during the previous application</a>\n",
    "- <a href='#6'>6. Pearson Correlation of features</a>\n",
    "- <a href='#7'>7. Feature Importance using Random forest</a>"
   ]
  },
  {
   "metadata": {
    "_cell_guid": "631b9db9-a94d-4aab-9ee1-ef028b05181e",
    "_uuid": "77ae4f459f7ccb8d40f576658cde0c55a6b2b2a8"
   },
   "cell_type": "markdown",
   "source": [
    "# <a id='1'>1. Introduction</a>"
   ]
  },
  {
   "metadata": {
    "_uuid": "880ec502a492295155318817243142b2f85fe6a9"
   },
   "cell_type": "markdown",
   "source": [
    "Home Credit strives to broaden financial inclusion for the unbanked population by providing a positive and safe borrowing experience. In order to make sure this underserved population has a positive loan experience, Home Credit makes use of a variety of alternative data--including telco and transactional information--to predict their clients' repayment abilities.\n",
    "\n",
    "While Home Credit is currently using various statistical and machine learning methods to make these predictions, they're challenging Kagglers to help them unlock the full potential of their data. Doing so will ensure that clients capable of repayment are not rejected and that loans are given with a principal, maturity, and repayment calendar that will empower their clients to be successful."
   ]
  },
  {
   "metadata": {
    "_cell_guid": "524d4c51-dada-4c6a-bcba-13e768f9bc6f",
    "_uuid": "eae9d7872de9b75c028adb8cdcad02dda532ad94"
   },
   "cell_type": "markdown",
   "source": [
    " # <a id='2'>2. Retrieving the Data</a>"
   ]
  },
  {
   "metadata": {
    "_cell_guid": "8a70df85-37cf-4f42-a71c-d1f48c0a52d9",
    "_kg_hide-input": true,
    "_uuid": "99a9e3d0f7b2b2d8503477b97d11ed0c030d40c5",
    "trusted": false,
    "collapsed": true
   },
   "cell_type": "code",
   "source": [
    "import pandas as pd # package for high-performance, easy-to-use data structures and data analysis\n",
    "import numpy as np # fundamental package for scientific computing with Python\n",
    "import matplotlib\n",
    "import matplotlib.pyplot as plt # for plotting\n",
    "import seaborn as sns # for making plots with seaborn\n",
    "color = sns.color_palette()\n",
    "import plotly.offline as py\n",
    "py.init_notebook_mode(connected=True)\n",
    "from plotly.offline import init_notebook_mode, iplot\n",
    "init_notebook_mode(connected=True)\n",
    "import plotly.graph_objs as go\n",
    "import plotly.offline as offline\n",
    "offline.init_notebook_mode()\n",
    "# from plotly import tools\n",
    "# import plotly.tools as tls\n",
    "# import squarify\n",
    "# from mpl_toolkits.basemap import Basemap\n",
    "# from numpy import array\n",
    "# from matplotlib import cm\n",
    "\n",
    "# from sklearn import preprocessing\n",
    "# # Supress unnecessary warnings so that presentation looks clean\n",
    "# import warnings\n",
    "# warnings.filterwarnings(\"ignore\")\n",
    "\n",
    "# # Print all rows and columns\n",
    "# pd.set_option('display.max_columns', None)\n",
    "# pd.set_option('display.max_rows', None)"
   ],
   "execution_count": null,
   "outputs": []
  },
  {
   "metadata": {
    "collapsed": true,
    "_cell_guid": "79c7e3d0-c299-4dcb-8224-4455121ee9b0",
    "_kg_hide-input": true,
    "_uuid": "d629ff2d2480ee46fbb7e2d37f6b5fab8052498a",
    "trusted": false
   },
   "cell_type": "code",
   "source": [
    "application_train = pd.read_csv('../home_credit_risk.csv')\n",
    "previous_application = pd.read_csv('../previous_application.csv')"
   ],
   "execution_count": null,
   "outputs": []
  },
  {
   "metadata": {
    "_cell_guid": "a1d86b14-dff9-4bdc-acba-f20784047f86",
    "_uuid": "e9a401e7bb0604cc2e0219f80b7ab2d47b9440bd",
    "trusted": false,
    "collapsed": true
   },
   "cell_type": "code",
   "source": [
    "print('Size of application_train data', application_train.shape)"
   ],
   "execution_count": null,
   "outputs": []
  },
  {
   "metadata": {
    "_cell_guid": "6eaf55b2-9dad-48c2-b9f3-b190a5e20a3a",
    "_uuid": "58b8141dbaf2939b957ef0f0c2a15526774d7674"
   },
   "cell_type": "markdown",
   "source": [
    "# <a id='3'>3. Glimpse of Data</a>"
   ]
  },
  {
   "metadata": {
    "_cell_guid": "3420e50f-8508-4d8a-86ac-ba18076334b1",
    "_uuid": "bc25b022e2c35358db3eb6ffdc89329cfa4efb2c"
   },
   "cell_type": "markdown",
   "source": [
    "**application_train data**"
   ]
  },
  {
   "metadata": {
    "_cell_guid": "d8a70558-cb54-4e34-b210-21344d8e0943",
    "_kg_hide-input": true,
    "_uuid": "1e4c5a34a50d5e8cd46367562c9d553a7a02f377",
    "trusted": false,
    "collapsed": true
   },
   "cell_type": "code",
   "source": [
    "application_train.head()"
   ],
   "execution_count": null,
   "outputs": []
  },
  {
   "metadata": {
    "collapsed": true,
    "_cell_guid": "cf020ec7-e2a7-4cbc-8494-22460073ee90",
    "_kg_hide-input": true,
    "_uuid": "0e59960b43a7cd47ad0f60f247bd15bd99a27489",
    "trusted": false
   },
   "cell_type": "code",
   "source": [
    "application_train.columns.values"
   ],
   "execution_count": null,
   "outputs": []
  },
  {
   "metadata": {
    "_cell_guid": "71c8293b-87f4-47db-84fc-0e181e264bde",
    "_uuid": "e39ac575c247c034c169049ed1a3c082f0c85358"
   },
   "cell_type": "markdown",
   "source": [
    "**bureau_balance data**"
   ]
  },
  {
   "metadata": {
    "_cell_guid": "a12db337-43c0-497a-8d31-db71360711a1",
    "_uuid": "3fc75bdf7cdbd9d1689f7d7be30241ccacc237ad"
   },
   "cell_type": "markdown",
   "source": [
    "**previous_application data**"
   ]
  },
  {
   "metadata": {
    "collapsed": true,
    "_cell_guid": "e4a19ad9-3f73-4327-9bb9-69cfa3085bbe",
    "_uuid": "3020ad29299ad3b826865687bd98218787808209",
    "trusted": false
   },
   "cell_type": "code",
   "source": [
    "previous_application.head()"
   ],
   "execution_count": null,
   "outputs": []
  },
  {
   "metadata": {
    "collapsed": true,
    "_cell_guid": "27522f84-f54c-4d84-8252-ed7e86bb545a",
    "_kg_hide-input": true,
    "_uuid": "f272e8849d39214eb85eb2aa9bb4bf27f41cf112",
    "trusted": false
   },
   "cell_type": "code",
   "source": [
    "previous_application.columns.values"
   ],
   "execution_count": null,
   "outputs": []
  },
  {
   "metadata": {
    "collapsed": true,
    "_cell_guid": "6b9799ca-d61b-46d5-9927-a3abf27ae1a8",
    "_kg_hide-input": true,
    "_uuid": "511527bf89ddcf2d74a7969a2588364296dd568f",
    "trusted": false
   },
   "cell_type": "code",
   "source": [
    "# checking missing data\n",
    "total = application_train.isnull().sum().sort_values(ascending = False)\n",
    "percent = (application_train.isnull().sum()/application_train.isnull().count()*100).sort_values(ascending = False)\n",
    "missing_application_train_data  = pd.concat([total, percent], axis=1, keys=['Total', 'Percent'])\n",
    "missing_application_train_data.head(20)\n"
   ],
   "execution_count": null,
   "outputs": []
  },
  {
   "metadata": {
    "_cell_guid": "fa1ea90e-5a51-4b35-afd8-0580b0521d7d",
    "_uuid": "01041e6d83e53b60df80698d3f91311cc3a7763d"
   },
   "cell_type": "markdown",
   "source": [
    "**checking missing data in bureau_balance **"
   ]
  },
  {
   "metadata": {
    "_cell_guid": "6b47ac84-3cfb-48b4-b3d0-5b8669d6bd4c",
    "_uuid": "e5e886fa1dfa747e3e9abc6802ba4351b263971c"
   },
   "cell_type": "markdown",
   "source": [
    "**checking missing data in previous_application **"
   ]
  },
  {
   "metadata": {
    "collapsed": true,
    "_cell_guid": "83424ebd-bbcb-4511-a1b0-c8946dda300f",
    "_kg_hide-input": true,
    "_uuid": "c163ea22030858882ccb9af2e0d73a4a830497c7",
    "trusted": false
   },
   "cell_type": "code",
   "source": [
    "# checking missing data\n",
    "total = previous_application.isnull().sum().sort_values(ascending = False)\n",
    "percent = (previous_application.isnull().sum()/previous_application.isnull().count()*100).sort_values(ascending = False)\n",
    "missing_previous_application_data  = pd.concat([total, percent], axis=1, keys=['Total', 'Percent'])\n",
    "missing_previous_application_data.head(15)"
   ],
   "execution_count": null,
   "outputs": []
  },
  {
   "metadata": {
    "_cell_guid": "82adfb2d-7bbc-4bf7-9fb4-cbee26d52d90",
    "_uuid": "cb81be1e3223198871f38e8545432d7d2d24f4e6"
   },
   "cell_type": "markdown",
   "source": [
    "**checking missing data in installments_payments **"
   ]
  },
  {
   "metadata": {
    "_cell_guid": "7cbc8de1-5cb9-4880-8587-4bb2842738c5",
    "_uuid": "28d69ecfaaaea282aaaedfe4ba7e488a76b7adb7"
   },
   "cell_type": "markdown",
   "source": [
    "**checking missing data in credit_card_balance **"
   ]
  },
  {
   "metadata": {
    "_cell_guid": "a63316d0-1adb-465f-b16e-d2788817d3f8",
    "_uuid": "65cb4804aa7a72eaeeefe47c5d75634c375dff6f"
   },
   "cell_type": "markdown",
   "source": [
    "# <a id='5'>5. Data Exploration</a>"
   ]
  },
  {
   "metadata": {
    "_cell_guid": "be41c9f5-4649-49cc-89c1-f3ffa2a9ad5d",
    "_uuid": "2ac29b8901a6d61afcb5dd83709fe7f1d346a2cf"
   },
   "cell_type": "markdown",
   "source": [
    "## <a id='5-1'>5.1 Distribution of AMT_CREDIT</a>"
   ]
  },
  {
   "metadata": {
    "collapsed": true,
    "_cell_guid": "c3a93bfe-6f34-41a3-ac69-48db004beb5b",
    "_kg_hide-input": true,
    "_uuid": "7fceb70a909aebd88695429266a469187834fea4",
    "trusted": false
   },
   "cell_type": "code",
   "source": [
    "plt.figure(figsize=(12,5))\n",
    "plt.title(\"Distribution of AMT_CREDIT\")\n",
    "ax = sns.distplot(application_train[\"AMT_CREDIT\"])"
   ],
   "execution_count": null,
   "outputs": []
  },
  {
   "metadata": {
    "_cell_guid": "0aa63cff-d756-4f41-9244-4e33f45289a2",
    "_uuid": "6f0db72c30a34ecff74671f0eeec1c3a4440ef5d"
   },
   "cell_type": "markdown",
   "source": [
    "## <a id='5-2'>5.2 Distribution of AMT_INCOME_TOTAL</a>"
   ]
  },
  {
   "metadata": {
    "collapsed": true,
    "_cell_guid": "fc45c404-caf9-4ab5-bce2-7f027928c9d4",
    "_kg_hide-input": true,
    "_uuid": "3918fa104e3922dd991abd3cc76152b3e14506d2",
    "trusted": false
   },
   "cell_type": "code",
   "source": [
    "plt.figure(figsize=(12,5))\n",
    "plt.title(\"Distribution of AMT_INCOME_TOTAL\")\n",
    "ax = sns.distplot(application_train[\"AMT_INCOME_TOTAL\"].dropna())"
   ],
   "execution_count": null,
   "outputs": []
  },
  {
   "metadata": {
    "_cell_guid": "3d4a14c7-ea4b-433e-9c33-da6b6c8ac726",
    "_uuid": "a347c59b1d88afb6e875921e88e47f27fea3e059"
   },
   "cell_type": "markdown",
   "source": [
    "## <a id='5-3'>5.3 Distribution of AMT_GOODS_PRICE</a>"
   ]
  },
  {
   "metadata": {
    "collapsed": true,
    "_cell_guid": "acadcf6a-1227-4515-9120-2ea142bc1d0a",
    "_kg_hide-input": true,
    "_uuid": "79877041b256c221f16d39834d969e4de34dab20",
    "trusted": false
   },
   "cell_type": "code",
   "source": [
    "plt.figure(figsize=(12,5))\n",
    "plt.title(\"Distribution of AMT_GOODS_PRICE\")\n",
    "ax = sns.distplot(application_train[\"AMT_GOODS_PRICE\"].dropna())"
   ],
   "execution_count": null,
   "outputs": []
  },
  {
   "metadata": {
    "_cell_guid": "ac9ebdf7-c349-4735-b4bb-d0821fd2bc7e",
    "_uuid": "026c409d01e7bb2cfb126ceafe647ec134f6775f"
   },
   "cell_type": "markdown",
   "source": [
    "## <a id='5-4'>5.4 Who accompanied client when applying for the  application</a>"
   ]
  },
  {
   "metadata": {
    "collapsed": true,
    "_cell_guid": "432eba00-8166-4323-bcb9-5d668b3749b0",
    "_kg_hide-input": true,
    "_uuid": "6d25e83408274ad0d711bf12af3838fb0c543ffb",
    "trusted": false
   },
   "cell_type": "code",
   "source": [
    "temp = application_train[\"NAME_TYPE_SUITE\"].value_counts()\n",
    "#print(\"Total number of states : \",len(temp))\n",
    "trace = go.Bar(\n",
    "    x = temp.index,\n",
    "    y = (temp / temp.sum())*100,\n",
    ")\n",
    "data = [trace]\n",
    "layout = go.Layout(\n",
    "    title = \"Who accompanied client when applying for the  application in % \",\n",
    "    xaxis=dict(\n",
    "        title='Name of type of the Suite',\n",
    "        tickfont=dict(\n",
    "            size=14,\n",
    "            color='rgb(107, 107, 107)'\n",
    "        )\n",
    "    ),\n",
    "    yaxis=dict(\n",
    "        title='Count of Name of type of the Suite in %',\n",
    "        titlefont=dict(\n",
    "            size=16,\n",
    "            color='rgb(107, 107, 107)'\n",
    "        ),\n",
    "        tickfont=dict(\n",
    "            size=14,\n",
    "            color='rgb(107, 107, 107)'\n",
    "        )\n",
    ")\n",
    ")\n",
    "fig = go.Figure(data=data, layout=layout)\n",
    "py.iplot(fig, filename='schoolStateNames')"
   ],
   "execution_count": null,
   "outputs": []
  },
  {
   "metadata": {
    "_cell_guid": "b909b399-b5e4-4efc-8761-a8f1a0ad8cd6",
    "_uuid": "386bb1f1570ddecc5c88230842ecfd71bb3b761c"
   },
   "cell_type": "markdown",
   "source": [
    "## <a id='5-5'>5.5 Data is balanced or imbalanced</a>"
   ]
  },
  {
   "metadata": {
    "collapsed": true,
    "_cell_guid": "c69e95e4-2806-47cc-81d7-7aa1020d19b5",
    "_kg_hide-input": true,
    "_uuid": "54e80c90bb1fa958ea363a85a851b80138b9f48c",
    "trusted": false
   },
   "cell_type": "code",
   "source": [
    "temp = application_train[\"TARGET\"].value_counts()\n",
    "df = pd.DataFrame({'labels': temp.index,\n",
    "                   'values': temp.values\n",
    "                  })\n",
    "df.iplot(kind='pie',labels='labels',values='values', title='Loan Repayed or not')"
   ],
   "execution_count": null,
   "outputs": []
  },
  {
   "metadata": {
    "_cell_guid": "79b6d53e-7e50-4da5-afea-985ae8892a55",
    "_uuid": "a6c650bd9de4d099d3a98722bb1b176ec118e497"
   },
   "cell_type": "markdown",
   "source": [
    "* As we can see data is highly imbalanced."
   ]
  },
  {
   "metadata": {
    "_cell_guid": "8899990b-d9a3-42bb-a231-ecfba0eb891d",
    "_uuid": "fffd8aaab0827bf53284bea8474da635953b65a0"
   },
   "cell_type": "markdown",
   "source": [
    "## <a id='5-6'>5.6 Types of loan</a>"
   ]
  },
  {
   "metadata": {
    "_cell_guid": "513a1961-0d85-4020-86b1-e57a866149d0",
    "_uuid": "997e682e73b03680361ed1c3ffa4b8d6161d67f5"
   },
   "cell_type": "markdown",
   "source": [
    "* **Rovolving loans :**  Arrangement which allows for the loan amount to be withdrawn, repaid, and redrawn again in any manner and any number of times, until the arrangement expires. Credit card loans and overdrafts are revolving loans. Also called evergreen loan"
   ]
  },
  {
   "metadata": {
    "collapsed": true,
    "_cell_guid": "f7f5d9d3-7e30-49c0-92d7-9f1ba91aa871",
    "_kg_hide-input": true,
    "_uuid": "bf7fc1691347cf2c2fa4dcfbfbe7873b67d9bddd",
    "trusted": false
   },
   "cell_type": "code",
   "source": [
    "temp = application_train[\"NAME_CONTRACT_TYPE\"].value_counts()\n",
    "fig = {\n",
    "  \"data\": [\n",
    "    {\n",
    "      \"values\": temp.values,\n",
    "      \"labels\": temp.index,\n",
    "      \"domain\": {\"x\": [0, .48]},\n",
    "      #\"name\": \"Types of Loans\",\n",
    "      #\"hoverinfo\":\"label+percent+name\",\n",
    "      \"hole\": .7,\n",
    "      \"type\": \"pie\"\n",
    "    },\n",
    "    \n",
    "    ],\n",
    "  \"layout\": {\n",
    "        \"title\":\"Types of loan\",\n",
    "        \"annotations\": [\n",
    "            {\n",
    "                \"font\": {\n",
    "                    \"size\": 20\n",
    "                },\n",
    "                \"showarrow\": False,\n",
    "                \"text\": \"Loan Types\",\n",
    "                \"x\": 0.17,\n",
    "                \"y\": 0.5\n",
    "            }\n",
    "            \n",
    "        ]\n",
    "    }\n",
    "}\n",
    "iplot(fig, filename='donut')"
   ],
   "execution_count": null,
   "outputs": []
  },
  {
   "metadata": {
    "_cell_guid": "231426d5-d5ce-4e74-a187-9fde6be726e0",
    "_uuid": "3d4df15ed585870a049bb73ef808267db11bf8a2"
   },
   "cell_type": "markdown",
   "source": [
    "* Most of the loans are Cash loans which were taken by applicants. **90.5 %** loans are Cash loans."
   ]
  },
  {
   "metadata": {
    "_cell_guid": "f5f4fb32-bc35-4c11-a3a5-eeb0c52a510b",
    "_uuid": "43e4c868a147fccc1f51d97b490e09cb9e4517da"
   },
   "cell_type": "markdown",
   "source": [
    "## <a id='5-7'>5.7 Purpose of loan</a>"
   ]
  },
  {
   "metadata": {
    "collapsed": true,
    "_cell_guid": "958e658e-18e6-4e7a-9076-f159305fe5b3",
    "_kg_hide-input": true,
    "_uuid": "668accf7033ff1128b4c7bf7d2276394f8de79ff",
    "trusted": false
   },
   "cell_type": "code",
   "source": [
    "temp1 = application_train[\"FLAG_OWN_CAR\"].value_counts()\n",
    "temp2 = application_train[\"FLAG_OWN_REALTY\"].value_counts()\n",
    "\n",
    "fig = {\n",
    "  \"data\": [\n",
    "    {\n",
    "      \"values\": temp1.values,\n",
    "      \"labels\": temp1.index,\n",
    "      \"domain\": {\"x\": [0, .48]},\n",
    "      \"name\": \"Own Car\",\n",
    "      \"hoverinfo\":\"label+percent+name\",\n",
    "      \"hole\": .6,\n",
    "      \"type\": \"pie\"\n",
    "    },\n",
    "    {\n",
    "      \"values\": temp2.values,\n",
    "      \"labels\": temp2.index,\n",
    "      \"text\":\"Own Realty\",\n",
    "      \"textposition\":\"inside\",\n",
    "      \"domain\": {\"x\": [.52, 1]},\n",
    "      \"name\": \"Own Reality\",\n",
    "      \"hoverinfo\":\"label+percent+name\",\n",
    "      \"hole\": .6,\n",
    "      \"type\": \"pie\"\n",
    "    }],\n",
    "  \"layout\": {\n",
    "        \"title\":\"Purpose of loan\",\n",
    "        \"annotations\": [\n",
    "            {\n",
    "                \"font\": {\n",
    "                    \"size\": 20\n",
    "                },\n",
    "                \"showarrow\": False,\n",
    "                \"text\": \"Own Car\",\n",
    "                \"x\": 0.20,\n",
    "                \"y\": 0.5\n",
    "            },\n",
    "            {\n",
    "                \"font\": {\n",
    "                    \"size\": 20\n",
    "                },\n",
    "                \"showarrow\": False,\n",
    "                \"text\": \"Own Realty\",\n",
    "                \"x\": 0.8,\n",
    "                \"y\": 0.5\n",
    "            }\n",
    "        ]\n",
    "    }\n",
    "}\n",
    "iplot(fig, filename='donut')\n",
    "\n"
   ],
   "execution_count": null,
   "outputs": []
  },
  {
   "metadata": {
    "_cell_guid": "d4aeda7b-8658-4c8a-85be-a039d73b6dae",
    "_uuid": "12b2716a2d49cfa3fbdee210fb7f3822b201048f"
   },
   "cell_type": "markdown",
   "source": [
    "## <a id='5-8'>5.8 Income sources of Applicant's who applied for loan</a>"
   ]
  },
  {
   "metadata": {
    "collapsed": true,
    "_cell_guid": "c003b408-b8cf-4b1c-8d21-6643bdb46c53",
    "_kg_hide-input": true,
    "_uuid": "d854d5047695f7276978490e1b9300aaca7e430a",
    "trusted": false
   },
   "cell_type": "code",
   "source": [
    "temp = application_train[\"NAME_INCOME_TYPE\"].value_counts()\n",
    "df = pd.DataFrame({'labels': temp.index,\n",
    "                   'values': temp.values\n",
    "                  })\n",
    "df.iplot(kind='pie',labels='labels',values='values', title='Income sources of Applicant\\'s', hole = 0.5)"
   ],
   "execution_count": null,
   "outputs": []
  },
  {
   "metadata": {
    "_cell_guid": "480fb3ea-67d9-4e9f-8c5e-3ecd18f3bbea",
    "_uuid": "fcdc06c5d982735b119cb6e90c5a3361b196d503"
   },
   "cell_type": "markdown",
   "source": [
    "* 51.6 % Applicants mentioned that they are working.  23.3 % are Commercial Associate and 18 % are Pensioner etc. "
   ]
  },
  {
   "metadata": {
    "_cell_guid": "789146d9-de4a-4fa7-a386-007bc729083f",
    "_uuid": "9a432fd54b11cbdf3f8d45a0db6b07e05d9a1dda"
   },
   "cell_type": "markdown",
   "source": [
    "## <a id='5-9'>5.9 Family Status of Applicant's who applied for loan</a>"
   ]
  },
  {
   "metadata": {
    "collapsed": true,
    "_cell_guid": "8a083df4-9395-4005-9547-d61ef40442fb",
    "_kg_hide-input": true,
    "_uuid": "5bc0d87f57eb89332e3fda0e6b3f326287eae65a",
    "trusted": false
   },
   "cell_type": "code",
   "source": [
    "temp = application_train[\"NAME_FAMILY_STATUS\"].value_counts()\n",
    "df = pd.DataFrame({'labels': temp.index,\n",
    "                   'values': temp.values\n",
    "                  })\n",
    "df.iplot(kind='pie',labels='labels',values='values', title='Family Status of Applicant\\'s', hole = 0.5)"
   ],
   "execution_count": null,
   "outputs": []
  },
  {
   "metadata": {
    "_cell_guid": "4c735ab8-2319-4f9b-8b6d-f60622c7d139",
    "_uuid": "f8fa8334881da2ab5fd27a30db35600c2b3d9dd7"
   },
   "cell_type": "markdown",
   "source": [
    "* 63.9 % applicants are married. 14.8 % are single etc."
   ]
  },
  {
   "metadata": {
    "_cell_guid": "fd9fd6b2-085f-4a8e-a909-b7ccaefbb43d",
    "_uuid": "953bcd9b7b946c17c8c538609b7de07b4be4494c"
   },
   "cell_type": "markdown",
   "source": [
    "## <a id='5-10'>5.10 Occupation of Applicant's who applied for loan</a>"
   ]
  },
  {
   "metadata": {
    "collapsed": true,
    "_cell_guid": "e2c0c311-50cc-4e8a-8114-dd1aaf25cc28",
    "_kg_hide-input": true,
    "_uuid": "cbeb67aebe2ae4b1ad1e9c3e020ee85bb4838d2f",
    "trusted": false
   },
   "cell_type": "code",
   "source": [
    "temp = application_train[\"OCCUPATION_TYPE\"].value_counts()\n",
    "temp.iplot(kind='bar', xTitle = 'Occupation', yTitle = \"Count\", title = 'Occupation of Applicant\\'s who applied for loan', color = 'green')"
   ],
   "execution_count": null,
   "outputs": []
  },
  {
   "metadata": {
    "_cell_guid": "66239ac2-d487-468f-b684-cb756e9b2b7f",
    "_uuid": "2c26a32b1ee6b5bcd7834a97a30a3ac615ec25e9"
   },
   "cell_type": "markdown",
   "source": [
    "* **Top Applicant's who applied for loan :**\n",
    "  * Laborers - Apprx. 55 K\n",
    "  * Sales Staff - Approx. 32 K\n",
    "  * Core staff - Approx. 28 K\n",
    "  * Managers - Approx. 21 K\n",
    "  * Drivers - Approx. 19 K"
   ]
  },
  {
   "metadata": {
    "_cell_guid": "38e7d546-490b-42e4-8bfa-2ddbdda7c8e4",
    "_uuid": "ffcf5d16f6f6b9f350402d8975e7494e646ae19c"
   },
   "cell_type": "markdown",
   "source": [
    "## <a id='5-11'>5.11 Education of Applicant's who applied for loan</a>"
   ]
  },
  {
   "metadata": {
    "collapsed": true,
    "_cell_guid": "658df347-ac81-4702-892b-35edbc520f26",
    "_kg_hide-input": true,
    "_uuid": "2cc8b4779239d5b4022e8205b8a666198c292203",
    "trusted": false
   },
   "cell_type": "code",
   "source": [
    "temp = application_train[\"NAME_EDUCATION_TYPE\"].value_counts()\n",
    "df = pd.DataFrame({'labels': temp.index,\n",
    "                   'values': temp.values\n",
    "                  })\n",
    "df.iplot(kind='pie',labels='labels',values='values', title='Education of Applicant\\'s', hole = 0.5)"
   ],
   "execution_count": null,
   "outputs": []
  },
  {
   "metadata": {
    "_cell_guid": "c12ac4de-c5f5-4147-8e26-a24619183b18",
    "_uuid": "0716e37411bb805c7c41a6adfc87db3f0f25facf"
   },
   "cell_type": "markdown",
   "source": [
    "* 71 % applicants have secondary and 24.3 % having higher education."
   ]
  },
  {
   "metadata": {
    "_cell_guid": "39fab4aa-f1f2-4f69-9cf3-7285cfbd90db",
    "_uuid": "88c0f4ca7430f7a5bc271bdf6fce0b31d142eb34"
   },
   "cell_type": "markdown",
   "source": [
    "## <a id='5-12'>5.12 For which types of house higher applicant's applied for loan ?</a>"
   ]
  },
  {
   "metadata": {
    "collapsed": true,
    "_cell_guid": "839f2003-c306-4b70-b611-a8eb31700e86",
    "_kg_hide-input": true,
    "_uuid": "78db92c864f33c19d308eb1b6ca0abd6738c9719",
    "_kg_hide-output": false,
    "trusted": false
   },
   "cell_type": "code",
   "source": [
    "temp = application_train[\"NAME_HOUSING_TYPE\"].value_counts()\n",
    "df = pd.DataFrame({'labels': temp.index,\n",
    "                   'values': temp.values\n",
    "                  })\n",
    "df.iplot(kind='pie',labels='labels',values='values', title='Type of House', hole = 0.5)"
   ],
   "execution_count": null,
   "outputs": []
  },
  {
   "metadata": {
    "_cell_guid": "4c188d39-547e-4aff-9049-3ee61cd45613",
    "_uuid": "9367ec5434208420eec2380e3f4ad523cdd97023"
   },
   "cell_type": "markdown",
   "source": [
    "* Approx. 89 % peoples applied for loan, they mentioned type of house is **House / Appartment**."
   ]
  },
  {
   "metadata": {
    "_cell_guid": "2ad4af55-8d40-4700-b1f2-19896c641082",
    "_uuid": "359928d033441d8d812c55c7eba45adaf7876420"
   },
   "cell_type": "markdown",
   "source": [
    "## <a id='5-13'>5.13 Types of Organizations who applied for loan </a>"
   ]
  },
  {
   "metadata": {
    "collapsed": true,
    "_cell_guid": "94e428c8-7466-4592-9457-b705c78f7783",
    "_kg_hide-input": true,
    "_uuid": "c44846855471455afd76ca446e3da95160f73055",
    "trusted": false
   },
   "cell_type": "code",
   "source": [
    "temp = application_train[\"ORGANIZATION_TYPE\"].value_counts()\n",
    "temp.iplot(kind='bar', xTitle = 'Organization Name', yTitle = \"Count\", title = 'Types of Organizations who applied for loan ', color = 'red')"
   ],
   "execution_count": null,
   "outputs": []
  },
  {
   "metadata": {
    "_cell_guid": "ee11769f-31e2-43e6-a6b8-e43bf0a0eef8",
    "_uuid": "4c650f4009ff4ac218f1de8a7b3d42a38183db03"
   },
   "cell_type": "markdown",
   "source": [
    "* **Types of Organizations who applied for loan :**\n",
    "  * Business Entity Type 3 - Approx. 68 K\n",
    "  * XNA - Approx. 55 K\n",
    "  * Self employed - Approx. 38 K\n",
    "  * Others - Approx. 17 K\n",
    "  * Medicine - Approx. 11 K\n",
    " "
   ]
  },
  {
   "metadata": {
    "_cell_guid": "8b9c4d3b-ec67-416d-a08b-b035cf9b64a9",
    "_uuid": "8594cf915232d133be2a291964c931f063e55217"
   },
   "cell_type": "markdown",
   "source": [
    "## <a id='5-14'>5.14 Exploration in terms of loan is repayed or not</a>"
   ]
  },
  {
   "metadata": {
    "_cell_guid": "56f53040-05fd-4ae3-8926-44abbe6c3701",
    "_uuid": "aed46fc7bb4e90b4dde1d626e030a0c77162b2c0"
   },
   "cell_type": "markdown",
   "source": [
    "## <a id='5-14-1'>5.14.1 Income sources of Applicant's in terms of loan is repayed or not in %</a>"
   ]
  },
  {
   "metadata": {
    "collapsed": true,
    "_cell_guid": "27745f99-49c4-401d-895a-8436c9b25501",
    "_kg_hide-input": true,
    "_uuid": "c7a697b9a6482414d52a4003a9bbbd1dd01c6483",
    "trusted": false
   },
   "cell_type": "code",
   "source": [
    "temp = application_train[\"NAME_INCOME_TYPE\"].value_counts()\n",
    "#print(temp.values)\n",
    "temp_y0 = []\n",
    "temp_y1 = []\n",
    "for val in temp.index:\n",
    "    temp_y1.append(np.sum(application_train[\"TARGET\"][application_train[\"NAME_INCOME_TYPE\"]==val] == 1))\n",
    "    temp_y0.append(np.sum(application_train[\"TARGET\"][application_train[\"NAME_INCOME_TYPE\"]==val] == 0))    \n",
    "trace1 = go.Bar(\n",
    "    x = temp.index,\n",
    "    y = (temp_y1 / temp.sum()) * 100,\n",
    "    name='YES'\n",
    ")\n",
    "trace2 = go.Bar(\n",
    "    x = temp.index,\n",
    "    y = (temp_y0 / temp.sum()) * 100, \n",
    "    name='NO'\n",
    ")\n",
    "\n",
    "data = [trace1, trace2]\n",
    "layout = go.Layout(\n",
    "    title = \"Income sources of Applicant's in terms of loan is repayed or not  in %\",\n",
    "    #barmode='stack',\n",
    "    width = 1000,\n",
    "    xaxis=dict(\n",
    "        title='Income source',\n",
    "        tickfont=dict(\n",
    "            size=14,\n",
    "            color='rgb(107, 107, 107)'\n",
    "        )\n",
    "    ),\n",
    "    yaxis=dict(\n",
    "        title='Count in %',\n",
    "        titlefont=dict(\n",
    "            size=16,\n",
    "            color='rgb(107, 107, 107)'\n",
    "        ),\n",
    "        tickfont=dict(\n",
    "            size=14,\n",
    "            color='rgb(107, 107, 107)'\n",
    "        )\n",
    ")\n",
    ")\n",
    "\n",
    "fig = go.Figure(data=data, layout=layout)\n",
    "iplot(fig)"
   ],
   "execution_count": null,
   "outputs": []
  },
  {
   "metadata": {
    "_cell_guid": "3d838402-03db-49f8-913f-065602dfde1b",
    "_uuid": "b886039b24af887b63ee95b52a75446e44c43f1b"
   },
   "cell_type": "markdown",
   "source": [
    "## <a id='5-14-2'>5.14.2 Family Status of Applicant's in terms of loan is repayed or not in %</a>"
   ]
  },
  {
   "metadata": {
    "collapsed": true,
    "_cell_guid": "92788f8c-8603-4e33-8397-79bf532c7023",
    "_kg_hide-input": true,
    "_uuid": "bc9bd93b4296754b61d40786d2727aa9d66d4927",
    "trusted": false
   },
   "cell_type": "code",
   "source": [
    "temp = application_train[\"NAME_FAMILY_STATUS\"].value_counts()\n",
    "#print(temp.values)\n",
    "temp_y0 = []\n",
    "temp_y1 = []\n",
    "for val in temp.index:\n",
    "    temp_y1.append(np.sum(application_train[\"TARGET\"][application_train[\"NAME_FAMILY_STATUS\"]==val] == 1))\n",
    "    temp_y0.append(np.sum(application_train[\"TARGET\"][application_train[\"NAME_FAMILY_STATUS\"]==val] == 0))    \n",
    "trace1 = go.Bar(\n",
    "    x = temp.index,\n",
    "    y = (temp_y1 / temp.sum()) * 100,\n",
    "    name='YES'\n",
    ")\n",
    "trace2 = go.Bar(\n",
    "    x = temp.index,\n",
    "    y = (temp_y0 / temp.sum()) * 100, \n",
    "    name='NO'\n",
    ")\n",
    "\n",
    "data = [trace1, trace2]\n",
    "layout = go.Layout(\n",
    "    title = \"Family Status of Applicant's in terms of loan is repayed or not in %\",\n",
    "    #barmode='stack',\n",
    "    width = 1000,\n",
    "    xaxis=dict(\n",
    "        title='Family Status',\n",
    "        tickfont=dict(\n",
    "            size=14,\n",
    "            color='rgb(107, 107, 107)'\n",
    "        )\n",
    "    ),\n",
    "    yaxis=dict(\n",
    "        title='Count in %',\n",
    "        titlefont=dict(\n",
    "            size=16,\n",
    "            color='rgb(107, 107, 107)'\n",
    "        ),\n",
    "        tickfont=dict(\n",
    "            size=14,\n",
    "            color='rgb(107, 107, 107)'\n",
    "        )\n",
    ")\n",
    ")\n",
    "\n",
    "fig = go.Figure(data=data, layout=layout)\n",
    "iplot(fig)"
   ],
   "execution_count": null,
   "outputs": []
  },
  {
   "metadata": {
    "_cell_guid": "bceac935-bdb1-422e-9525-29931e010638",
    "_uuid": "2d858491a994780e22162bafb908305913edd475"
   },
   "cell_type": "markdown",
   "source": [
    "## <a id='5-14-3'>5.14.3 Occupation of Applicant's in terms of loan is repayed or not in %</a>"
   ]
  },
  {
   "metadata": {
    "collapsed": true,
    "_cell_guid": "6ab4926d-8026-40f9-99a6-297b7fffefdc",
    "_kg_hide-input": true,
    "_uuid": "22441ff315557f45b3f8bd56acb78f8cdd6077cf",
    "trusted": false
   },
   "cell_type": "code",
   "source": [
    "temp = application_train[\"OCCUPATION_TYPE\"].value_counts()\n",
    "#print(temp.values)\n",
    "temp_y0 = []\n",
    "temp_y1 = []\n",
    "for val in temp.index:\n",
    "    temp_y1.append(np.sum(application_train[\"TARGET\"][application_train[\"OCCUPATION_TYPE\"]==val] == 1))\n",
    "    temp_y0.append(np.sum(application_train[\"TARGET\"][application_train[\"OCCUPATION_TYPE\"]==val] == 0))    \n",
    "trace1 = go.Bar(\n",
    "    x = temp.index,\n",
    "    y = (temp_y1 / temp.sum()) * 100,\n",
    "    name='YES'\n",
    ")\n",
    "trace2 = go.Bar(\n",
    "    x = temp.index,\n",
    "    y = (temp_y0 / temp.sum()) * 100, \n",
    "    name='NO'\n",
    ")\n",
    "\n",
    "data = [trace1, trace2]\n",
    "layout = go.Layout(\n",
    "    title = \"Occupation of Applicant's in terms of loan is repayed or not in %\",\n",
    "    #barmode='stack',\n",
    "    width = 1000,\n",
    "    xaxis=dict(\n",
    "        title='Occupation of Applicant\\'s',\n",
    "        tickfont=dict(\n",
    "            size=14,\n",
    "            color='rgb(107, 107, 107)'\n",
    "        )\n",
    "    ),\n",
    "    yaxis=dict(\n",
    "        title='Count in %',\n",
    "        titlefont=dict(\n",
    "            size=16,\n",
    "            color='rgb(107, 107, 107)'\n",
    "        ),\n",
    "        tickfont=dict(\n",
    "            size=14,\n",
    "            color='rgb(107, 107, 107)'\n",
    "        )\n",
    ")\n",
    ")\n",
    "\n",
    "fig = go.Figure(data=data, layout=layout)\n",
    "iplot(fig)"
   ],
   "execution_count": null,
   "outputs": []
  },
  {
   "metadata": {
    "_cell_guid": "cd4d4883-56d7-42a8-9a30-bbf0012ce353",
    "_uuid": "4dcded1fba2c7bd181209784a253721bbcbd888a"
   },
   "cell_type": "markdown",
   "source": [
    "## <a id='5-14-4'>5.14.4 Education of Applicant's in terms of loan is repayed or not in %</a>"
   ]
  },
  {
   "metadata": {
    "collapsed": true,
    "_cell_guid": "790f886f-422d-4089-adc7-465eb6a6a034",
    "_kg_hide-input": true,
    "_uuid": "c59558ba37ee9a4f4c4fdd4d2524ce0def431e66",
    "trusted": false
   },
   "cell_type": "code",
   "source": [
    "temp = application_train[\"NAME_EDUCATION_TYPE\"].value_counts()\n",
    "#print(temp.values)\n",
    "temp_y0 = []\n",
    "temp_y1 = []\n",
    "for val in temp.index:\n",
    "    temp_y1.append(np.sum(application_train[\"TARGET\"][application_train[\"NAME_EDUCATION_TYPE\"]==val] == 1))\n",
    "    temp_y0.append(np.sum(application_train[\"TARGET\"][application_train[\"NAME_EDUCATION_TYPE\"]==val] == 0))    \n",
    "trace1 = go.Bar(\n",
    "    x = temp.index,\n",
    "    y = (temp_y1 / temp.sum()) * 100,\n",
    "    name='YES'\n",
    ")\n",
    "trace2 = go.Bar(\n",
    "    x = temp.index,\n",
    "    y = (temp_y0 / temp.sum()) * 100, \n",
    "    name='NO'\n",
    ")\n",
    "\n",
    "data = [trace1, trace2]\n",
    "layout = go.Layout(\n",
    "    title = \"Education of Applicant's in terms of loan is repayed or not in %\",\n",
    "    #barmode='stack',\n",
    "    width = 1000,\n",
    "    xaxis=dict(\n",
    "        title='Education of Applicant\\'s',\n",
    "        tickfont=dict(\n",
    "            size=14,\n",
    "            color='rgb(107, 107, 107)'\n",
    "        )\n",
    "    ),\n",
    "    yaxis=dict(\n",
    "        title='Count in %',\n",
    "        titlefont=dict(\n",
    "            size=16,\n",
    "            color='rgb(107, 107, 107)'\n",
    "        ),\n",
    "        tickfont=dict(\n",
    "            size=14,\n",
    "            color='rgb(107, 107, 107)'\n",
    "        )\n",
    ")\n",
    ")\n",
    "\n",
    "fig = go.Figure(data=data, layout=layout)\n",
    "iplot(fig)"
   ],
   "execution_count": null,
   "outputs": []
  },
  {
   "metadata": {
    "_cell_guid": "6c82995c-442a-47bf-b103-7d99a482473c",
    "_uuid": "e1ce19d7fa25831f334099040a88149fcb69acb8"
   },
   "cell_type": "markdown",
   "source": [
    "## <a id='5-14-5'>5.14.5 For which types of house higher applicant's applied for loan in terms of loan is repayed or not in %</a>"
   ]
  },
  {
   "metadata": {
    "collapsed": true,
    "_cell_guid": "049ad1dc-5bd8-4bee-af9d-f4a4230f1636",
    "_kg_hide-input": true,
    "_uuid": "d03d459f6ae4585cfbdad80418f304d4da412286",
    "trusted": false
   },
   "cell_type": "code",
   "source": [
    "temp = application_train[\"NAME_HOUSING_TYPE\"].value_counts()\n",
    "#print(temp.values)\n",
    "temp_y0 = []\n",
    "temp_y1 = []\n",
    "for val in temp.index:\n",
    "    temp_y1.append(np.sum(application_train[\"TARGET\"][application_train[\"NAME_HOUSING_TYPE\"]==val] == 1))\n",
    "    temp_y0.append(np.sum(application_train[\"TARGET\"][application_train[\"NAME_HOUSING_TYPE\"]==val] == 0))    \n",
    "trace1 = go.Bar(\n",
    "    x = temp.index,\n",
    "    y = (temp_y1 / temp.sum()) * 100,\n",
    "    name='YES'\n",
    ")\n",
    "trace2 = go.Bar(\n",
    "    x = temp.index,\n",
    "    y = (temp_y0 / temp.sum()) * 100, \n",
    "    name='NO'\n",
    ")\n",
    "\n",
    "data = [trace1, trace2]\n",
    "layout = go.Layout(\n",
    "    title = \"For which types of house higher applicant's applied for loan in terms of loan is repayed or not in %\",\n",
    "    #barmode='stack',\n",
    "    width = 1000,\n",
    "    xaxis=dict(\n",
    "        title='types of house',\n",
    "        tickfont=dict(\n",
    "            size=14,\n",
    "            color='rgb(107, 107, 107)'\n",
    "        )\n",
    "    ),\n",
    "    yaxis=dict(\n",
    "        title='Count in %',\n",
    "        titlefont=dict(\n",
    "            size=16,\n",
    "            color='rgb(107, 107, 107)'\n",
    "        ),\n",
    "        tickfont=dict(\n",
    "            size=14,\n",
    "            color='rgb(107, 107, 107)'\n",
    "        )\n",
    ")\n",
    ")\n",
    "\n",
    "fig = go.Figure(data=data, layout=layout)\n",
    "iplot(fig)"
   ],
   "execution_count": null,
   "outputs": []
  },
  {
   "metadata": {
    "_cell_guid": "66037e24-e764-4d47-9dda-b08fbf139204",
    "_uuid": "fab9fcb2586ff3ac4cc70233dec84f622380a049"
   },
   "cell_type": "markdown",
   "source": [
    "## <a id='5-14-6'>5.14.6 Types of Organizations in terms of loan is repayed or not in %</a>"
   ]
  },
  {
   "metadata": {
    "_cell_guid": "cc8cd61d-c412-4fe4-a7a0-54c835b4e2f3",
    "_kg_hide-input": true,
    "_uuid": "486f1e491a1f0914e71b10d3942c9da45bd3347d",
    "trusted": false,
    "collapsed": true
   },
   "cell_type": "code",
   "source": [
    "temp = application_train[\"ORGANIZATION_TYPE\"].value_counts()\n",
    "#print(temp.values)\n",
    "temp_y0 = []\n",
    "temp_y1 = []\n",
    "for val in temp.index:\n",
    "    temp_y1.append(np.sum(application_train[\"TARGET\"][application_train[\"ORGANIZATION_TYPE\"]==val] == 1))\n",
    "    temp_y0.append(np.sum(application_train[\"TARGET\"][application_train[\"ORGANIZATION_TYPE\"]==val] == 0))    \n",
    "trace1 = go.Bar(\n",
    "    x = temp.index,\n",
    "    y = (temp_y1 / temp.sum()) * 100,\n",
    "    name='YES'\n",
    ")\n",
    "trace2 = go.Bar(\n",
    "    x = temp.index,\n",
    "    y = (temp_y0 / temp.sum()) * 100, \n",
    "    name='NO'\n",
    ")\n",
    "\n",
    "data = [trace1, trace2]\n",
    "layout = go.Layout(\n",
    "    title = \"Types of Organizations in terms of loan is repayed or not in %\",\n",
    "    #barmode='stack',\n",
    "    width = 1000,\n",
    "    xaxis=dict(\n",
    "        title='Types of Organizations',\n",
    "        tickfont=dict(\n",
    "            size=10,\n",
    "            color='rgb(107, 107, 107)'\n",
    "        )\n",
    "    ),\n",
    "    yaxis=dict(\n",
    "        title='Count in %',\n",
    "        titlefont=dict(\n",
    "            size=16,\n",
    "            color='rgb(107, 107, 107)'\n",
    "        ),\n",
    "        tickfont=dict(\n",
    "            size=14,\n",
    "            color='rgb(107, 107, 107)'\n",
    "        )\n",
    ")\n",
    ")\n",
    "\n",
    "fig = go.Figure(data=data, layout=layout)\n",
    "iplot(fig)"
   ],
   "execution_count": null,
   "outputs": []
  },
  {
   "metadata": {
    "_cell_guid": "0f49f21f-8be9-4a66-a9b6-0674ee000848",
    "_uuid": "fc291dd37c514403cb397172aa21093d9a844e60"
   },
   "cell_type": "markdown",
   "source": [
    "## <a id='5-14-7'>5.14.7 Distribution of Name of type of the Suite in terms of loan is repayed or not in %</a>"
   ]
  },
  {
   "metadata": {
    "_cell_guid": "fb09bda1-83dd-40ed-a3d8-f44e4ba96455",
    "_kg_hide-input": true,
    "_uuid": "673c426f57d3e21b59b552d437f3c1b628b378ce",
    "trusted": false,
    "collapsed": true
   },
   "cell_type": "code",
   "source": [
    "temp = application_train[\"NAME_TYPE_SUITE\"].value_counts()\n",
    "#print(temp.values)\n",
    "temp_y0 = []\n",
    "temp_y1 = []\n",
    "for val in temp.index:\n",
    "    temp_y1.append(np.sum(application_train[\"TARGET\"][application_train[\"NAME_TYPE_SUITE\"]==val] == 1))\n",
    "    temp_y0.append(np.sum(application_train[\"TARGET\"][application_train[\"NAME_TYPE_SUITE\"]==val] == 0))    \n",
    "trace1 = go.Bar(\n",
    "    x = temp.index,\n",
    "    y = (temp_y1 / temp.sum()) * 100,\n",
    "    name='YES'\n",
    ")\n",
    "trace2 = go.Bar(\n",
    "    x = temp.index,\n",
    "    y = (temp_y0 / temp.sum()) * 100, \n",
    "    name='NO'\n",
    ")\n",
    "\n",
    "data = [trace1, trace2]\n",
    "layout = go.Layout(\n",
    "    title = \"Distribution of Name of type of the Suite in terms of loan is repayed or not in %\",\n",
    "    #barmode='stack',\n",
    "    width = 1000,\n",
    "    xaxis=dict(\n",
    "        title='Name of type of the Suite',\n",
    "        tickfont=dict(\n",
    "            size=14,\n",
    "            color='rgb(107, 107, 107)'\n",
    "        )\n",
    "    ),\n",
    "    yaxis=dict(\n",
    "        title='Count in %',\n",
    "        titlefont=dict(\n",
    "            size=16,\n",
    "            color='rgb(107, 107, 107)'\n",
    "        ),\n",
    "        tickfont=dict(\n",
    "            size=14,\n",
    "            color='rgb(107, 107, 107)'\n",
    "        )\n",
    ")\n",
    ")\n",
    "\n",
    "fig = go.Figure(data=data, layout=layout)\n",
    "iplot(fig)"
   ],
   "execution_count": null,
   "outputs": []
  },
  {
   "metadata": {
    "_cell_guid": "ed1a6ede-1f5b-4f6f-968a-5fb79df5350f",
    "_uuid": "3a9deca64915994620e86ac51e52de94663d7fe2"
   },
   "cell_type": "markdown",
   "source": [
    "# <a id='5-15'>5.15 Exploartion of previous application data</a>"
   ]
  },
  {
   "metadata": {
    "_cell_guid": "92340e35-e858-4fdc-ba3a-f3c4e4a07041",
    "_uuid": "c5ee13e6141d7f432d9b1be1d3c60d1a5351d64c"
   },
   "cell_type": "markdown",
   "source": [
    "## <a id='5-15-1'>5.15.1 Contract product type of previous application</a>"
   ]
  },
  {
   "metadata": {
    "collapsed": true,
    "_cell_guid": "a8cabf00-b110-470e-8ca5-bde2b9d92063",
    "_kg_hide-input": true,
    "_uuid": "33db4f0b35495c53f7eea93f0c712615a218312e",
    "trusted": false
   },
   "cell_type": "code",
   "source": [
    "temp = previous_application[\"NAME_CONTRACT_TYPE\"].value_counts()\n",
    "fig = {\n",
    "  \"data\": [\n",
    "    {\n",
    "      \"values\": temp.values,\n",
    "      \"labels\": temp.index,\n",
    "      \"domain\": {\"x\": [0, .48]},\n",
    "      #\"name\": \"Types of Loans\",\n",
    "      #\"hoverinfo\":\"label+percent+name\",\n",
    "      \"hole\": .7,\n",
    "      \"type\": \"pie\"\n",
    "    },\n",
    "    \n",
    "    ],\n",
    "  \"layout\": {\n",
    "        \"title\":\"Contract product type of previous application\",\n",
    "        \"annotations\": [\n",
    "            {\n",
    "                \"font\": {\n",
    "                    \"size\": 20\n",
    "                },\n",
    "                \"showarrow\": False,\n",
    "                \"text\": \"Contract product type\",\n",
    "                \"x\": 0.12,\n",
    "                \"y\": 0.5\n",
    "            }\n",
    "            \n",
    "        ]\n",
    "    }\n",
    "}\n",
    "iplot(fig, filename='donut')"
   ],
   "execution_count": null,
   "outputs": []
  },
  {
   "metadata": {
    "_cell_guid": "ddcf31ba-f949-43d6-b319-f5f3a16311d1",
    "_uuid": "c820809cefcc056f0a187cfb85404bc0e2b5b373"
   },
   "cell_type": "markdown",
   "source": [
    "* **Contract product type of previous application :**\n",
    "  * Cash loans - 44.8 %\n",
    "  * Consumer loans - 43.7 %\n",
    "  * Rovolving loan - 11.6 %\n",
    "  * XNA - 0.0207 %"
   ]
  },
  {
   "metadata": {
    "_cell_guid": "f1fc2043-ca4e-45eb-9bfe-5cbe31a77bb4",
    "_uuid": "11dcdb20ffd47c152783f427719f01ecc1ce3baf"
   },
   "cell_type": "markdown",
   "source": [
    "## <a id='5-15-2'>5.15.2 On which day highest number of clients applied in prevoies application</a>"
   ]
  },
  {
   "metadata": {
    "collapsed": true,
    "_cell_guid": "d641d3b2-9535-4eeb-9459-8e7345d84b41",
    "_kg_hide-input": true,
    "_uuid": "42865af21f80e589c2e22c2df885aa2e01293b3a",
    "trusted": false
   },
   "cell_type": "code",
   "source": [
    "temp = previous_application[\"WEEKDAY_APPR_PROCESS_START\"].value_counts()\n",
    "#print(\"Total number of states : \",len(temp))\n",
    "trace = go.Bar(\n",
    "    x = temp.index,\n",
    "    y = (temp / temp.sum())*100,\n",
    ")\n",
    "data = [trace]\n",
    "layout = go.Layout(\n",
    "    title = \"On which day highest number of clients applied in prevoies application in % \",\n",
    "    xaxis=dict(\n",
    "        title='Day of the Week',\n",
    "        tickfont=dict(\n",
    "            size=14,\n",
    "            color='rgb(107, 107, 107)'\n",
    "        )\n",
    "    ),\n",
    "    yaxis=dict(\n",
    "        title='Count of Day of Week in %',\n",
    "        titlefont=dict(\n",
    "            size=16,\n",
    "            color='rgb(107, 107, 107)'\n",
    "        ),\n",
    "        tickfont=dict(\n",
    "            size=14,\n",
    "            color='rgb(107, 107, 107)'\n",
    "        )\n",
    ")\n",
    ")\n",
    "fig = go.Figure(data=data, layout=layout)\n",
    "py.iplot(fig, filename='schoolStateNames')"
   ],
   "execution_count": null,
   "outputs": []
  },
  {
   "metadata": {
    "_cell_guid": "a17fec9f-0041-479e-a040-16a4a78d7b47",
    "_uuid": "c128574637703cf49da880de6faa36a0702a432f"
   },
   "cell_type": "markdown",
   "source": [
    "* What a coincedence, Approximately 15 % clients applied in each 5 days a week i.e, Tuesday, Wednesday, Monday, Friday and Thrusday. "
   ]
  },
  {
   "metadata": {
    "_cell_guid": "4c325a4f-606e-45e2-a850-635d4217fd79",
    "_uuid": "0fc4950aeb0140d8cc88af73d5c8b434b4fc5416"
   },
   "cell_type": "markdown",
   "source": [
    "## <a id='5-15-3'>5.15.3 Purpose of cash loan in previous application</a>"
   ]
  },
  {
   "metadata": {
    "collapsed": true,
    "_cell_guid": "75396121-9a64-45d0-9aea-fefafc68798f",
    "_kg_hide-input": true,
    "_uuid": "2fe7ffb6244d669756e004242350c8fc7749f008",
    "trusted": false
   },
   "cell_type": "code",
   "source": [
    "temp = previous_application[\"NAME_CASH_LOAN_PURPOSE\"].value_counts()\n",
    "#print(\"Total number of states : \",len(temp))\n",
    "trace = go.Bar(\n",
    "    x = temp.index,\n",
    "    y = (temp / temp.sum())*100,\n",
    "    marker=dict(\n",
    "        color=(temp / temp.sum())*100,\n",
    "        colorscale = 'Blues',\n",
    "        reversescale = True\n",
    "    ),\n",
    ")\n",
    "data = [trace]\n",
    "layout = go.Layout(\n",
    "    title = \"Purpose of cash loan in previous application in % \",\n",
    "    xaxis=dict(\n",
    "        title='Purpose of cash loan',\n",
    "        tickfont=dict(\n",
    "            size=14,\n",
    "            color='rgb(107, 107, 107)'\n",
    "        )\n",
    "    ),\n",
    "    yaxis=dict(\n",
    "        title='Count in %',\n",
    "        titlefont=dict(\n",
    "            size=16,\n",
    "            color='rgb(107, 107, 107)'\n",
    "        ),\n",
    "        tickfont=dict(\n",
    "            size=14,\n",
    "            color='rgb(107, 107, 107)'\n",
    "        )\n",
    ")\n",
    ")\n",
    "fig = go.Figure(data=data, layout=layout)\n",
    "py.iplot(fig)"
   ],
   "execution_count": null,
   "outputs": []
  },
  {
   "metadata": {
    "_cell_guid": "518857d7-fbb0-42ff-a958-317040aca3fe",
    "_uuid": "5ebac287b746d78ba000193b5a15fb23766730d0"
   },
   "cell_type": "markdown",
   "source": [
    "* **Main purpose of the cash loan was  :**\n",
    "  * XAP - 55 %\n",
    "  * XNA - 41 %"
   ]
  },
  {
   "metadata": {
    "_cell_guid": "c8ea4b86-2dba-4bcc-8d54-c700fea93c15",
    "_uuid": "02406e789706396393c627449d02cc36fd275b3f"
   },
   "cell_type": "markdown",
   "source": [
    "## <a id='5-15-4'>5.15.4 Contract was approved or not in previous application</a>"
   ]
  },
  {
   "metadata": {
    "collapsed": true,
    "_cell_guid": "8e49eaac-b693-4909-a4ca-82bed584e570",
    "_kg_hide-input": true,
    "_uuid": "2aa59b941b79254e517ea4422be0ac3fd3cd3c9d",
    "trusted": false
   },
   "cell_type": "code",
   "source": [
    "temp = previous_application[\"NAME_CONTRACT_STATUS\"].value_counts()\n",
    "df = pd.DataFrame({'labels': temp.index,\n",
    "                   'values': temp.values\n",
    "                  })\n",
    "df.iplot(kind='pie',labels='labels',values='values', title='Contract approved or not', hole = 0.5)"
   ],
   "execution_count": null,
   "outputs": []
  },
  {
   "metadata": {
    "_cell_guid": "61740054-6dd1-40ea-ba11-ea95c0f427ca",
    "_uuid": "b509aa754efab75f04fed702b62c4d370f5cbce6"
   },
   "cell_type": "markdown",
   "source": [
    "* **Contract was approved or not in previous application :**\n",
    "  * Approved : 62.1 % times\n",
    "  * Cancelled : 18.9 % times\n",
    "  * Refused : 17.4 % times \n",
    "  * Unused offer : 1.58 % times"
   ]
  },
  {
   "metadata": {
    "_cell_guid": "7097dba5-c73c-4ced-9cbe-d5bec7d8ac49",
    "_uuid": "494dc1fcee5f1b497ac5e70038f0320ac6e12c69"
   },
   "cell_type": "markdown",
   "source": [
    "## <a id='5-15-5'>5.15.5 Payment method that client choose to pay for the previous application</a>"
   ]
  },
  {
   "metadata": {
    "collapsed": true,
    "_cell_guid": "303fc303-4e89-4284-9e53-7e9d88804a95",
    "_kg_hide-input": true,
    "_uuid": "a863ed9a64af1d1ff312cd1257346f76fe75e3c8",
    "trusted": false
   },
   "cell_type": "code",
   "source": [
    "temp = previous_application[\"NAME_PAYMENT_TYPE\"].value_counts()\n",
    "df = pd.DataFrame({'labels': temp.index,\n",
    "                   'values': temp.values\n",
    "                  })\n",
    "df.iplot(kind='pie',labels='labels',values='values', title='Payment method that client choose to pay for the previous application', hole = 0.7,colors=['#75e575', '#ea7c96',])"
   ],
   "execution_count": null,
   "outputs": []
  },
  {
   "metadata": {
    "_cell_guid": "a092caea-d738-4865-a6b0-d073940cb684",
    "_uuid": "1d6032c1261455f9591be26862aa37591231aa74"
   },
   "cell_type": "markdown",
   "source": [
    "* As we can most of the payment(61.9 %) has done thorugh cash only. "
   ]
  },
  {
   "metadata": {
    "_cell_guid": "2fbcac52-d0ee-451a-af4a-ab29b3ae143e",
    "_uuid": "f908220d1504ee3c5234caf6a95223169ef35676"
   },
   "cell_type": "markdown",
   "source": [
    "## <a id='5-15-6'>5.15.6 Why was the previous application rejected ?</a>"
   ]
  },
  {
   "metadata": {
    "collapsed": true,
    "_cell_guid": "1fe867c8-43dd-46e5-95c8-99f463443a52",
    "_kg_hide-input": true,
    "_uuid": "bc3f4777821de3331730f1f7660a3a84a2d8f98d",
    "trusted": false
   },
   "cell_type": "code",
   "source": [
    "temp = previous_application[\"CODE_REJECT_REASON\"].value_counts()\n",
    "temp.iplot(kind='bar', xTitle = 'Reason', yTitle = \"Count\", title = 'Top reasons of previous application rejection(Wriiten in some codes)', colors=['#75e575'])"
   ],
   "execution_count": null,
   "outputs": []
  },
  {
   "metadata": {
    "_cell_guid": "e8f1de05-ff87-4261-a5de-b478c7a3464b",
    "_uuid": "25726f25faaf8e95f53f2588f1b3d0b11c3cf548"
   },
   "cell_type": "markdown",
   "source": [
    "## <a id='5-15-7'>5.15.7 Who accompanied client when applying for the previous application</a>"
   ]
  },
  {
   "metadata": {
    "collapsed": true,
    "_cell_guid": "36472f5e-bca8-4d3c-9a60-f505638e052f",
    "_kg_hide-input": true,
    "_uuid": "bd692586d01aa2c27868ef06757b1599c8d4d752",
    "trusted": false
   },
   "cell_type": "code",
   "source": [
    "temp = previous_application[\"NAME_TYPE_SUITE\"].value_counts()\n",
    "trace = go.Bar(\n",
    "    x = temp.index,\n",
    "    y = (temp / temp.sum())*100,\n",
    "    marker=dict(\n",
    "        color=(temp / temp.sum())*100,\n",
    "        colorscale = '#ea7c96',\n",
    "        #reversescale = True\n",
    "    ),\n",
    ")\n",
    "data = [trace]\n",
    "layout = go.Layout(\n",
    "    title = \"Who accompanied client when applying for the previous application in % \",\n",
    "    xaxis=dict(\n",
    "        title='Name of type of the Suite',\n",
    "        tickfont=dict(\n",
    "            size=14,\n",
    "            color='rgb(107, 107, 107)'\n",
    "        )\n",
    "    ),\n",
    "    yaxis=dict(\n",
    "        title='Count of Name of type of the Suite in %',\n",
    "        titlefont=dict(\n",
    "            size=16,\n",
    "            color='rgb(107, 107, 107)'\n",
    "        ),\n",
    "        tickfont=dict(\n",
    "            size=14,\n",
    "            color='rgb(107, 107, 107)'\n",
    "        )\n",
    ")\n",
    ")\n",
    "fig = go.Figure(data=data, layout=layout)\n",
    "py.iplot(fig)"
   ],
   "execution_count": null,
   "outputs": []
  },
  {
   "metadata": {
    "_cell_guid": "6bb9d72f-dd6a-4e25-a141-84c9626a7da5",
    "_uuid": "d717fce5ea63d4d290dbe63c8b25a6a62c0a8f66"
   },
   "cell_type": "markdown",
   "source": [
    "* **Who accompanied client when applying for the previous application :**\n",
    "  * Unaccompanied : Approx. 60 % times\n",
    "  * Family : Approx. 25 % times\n",
    "  * Spouse, Partner : Approx. 8 %\n",
    "  * Childrens : Approx. 4 %"
   ]
  },
  {
   "metadata": {
    "_cell_guid": "1679776a-a712-48db-9568-99a0fd5eb793",
    "_uuid": "20b0f0c8d46d6e38a3cf6dd8ceff6f24d6e6228b"
   },
   "cell_type": "markdown",
   "source": [
    "## <a id='5-15-8'>5.15.8 Was the client old or new client when applying for the previous application</a>"
   ]
  },
  {
   "metadata": {
    "collapsed": true,
    "_cell_guid": "d27e237f-3b18-442c-9dc5-011f1c3580e4",
    "_kg_hide-input": true,
    "_uuid": "019b6d119ef2972aadfa7f4f9e928b03a452e476",
    "trusted": false
   },
   "cell_type": "code",
   "source": [
    "temp = previous_application[\"NAME_CLIENT_TYPE\"].value_counts()\n",
    "df = pd.DataFrame({'labels': temp.index,\n",
    "                   'values': temp.values\n",
    "                  })\n",
    "df.iplot(kind='pie',labels='labels',values='values', title='Was the client old or new client when applying for the previous application', hole = 0.7,colors=['#ea7c96','#75e575',])"
   ],
   "execution_count": null,
   "outputs": []
  },
  {
   "metadata": {
    "_cell_guid": "0fc3e84e-b42b-4246-87be-37ac97b59027",
    "_uuid": "23e46f2f9521145f5a3b43d467e1eaf6a4efe098"
   },
   "cell_type": "markdown",
   "source": [
    "* Approximately 74 % was repeater clients who applied for previous application."
   ]
  },
  {
   "metadata": {
    "_cell_guid": "6820f8ff-1382-467a-8ad1-44032de81d10",
    "_uuid": "a43569610dacccba1b7d97367d3193b1e9d8ed31"
   },
   "cell_type": "markdown",
   "source": [
    "## <a id='5-15-9'>5.15.9 What kind of goods did the client apply for in the previous application</a>"
   ]
  },
  {
   "metadata": {
    "collapsed": true,
    "_cell_guid": "7edea8e3-2e33-49ad-9de9-dd1655379de9",
    "_kg_hide-input": true,
    "_uuid": "9358a7453b390ee89c63e74896fb8e5ddd2e7607",
    "trusted": false
   },
   "cell_type": "code",
   "source": [
    "temp = previous_application[\"NAME_GOODS_CATEGORY\"].value_counts()\n",
    "trace = go.Bar(\n",
    "    x = temp.index,\n",
    "    y = (temp / temp.sum())*100,\n",
    "    marker=dict(\n",
    "        color=(temp / temp.sum())*100,\n",
    "        colorscale = 'Greens',\n",
    "        reversescale = True\n",
    "    ),\n",
    ")\n",
    "data = [trace]\n",
    "layout = go.Layout(\n",
    "    title = \"What kind of goods did the client apply for in the previous application in % \",\n",
    "    xaxis=dict(\n",
    "        title='Name of the goods',\n",
    "        tickfont=dict(\n",
    "            size=14,\n",
    "            color='rgb(107, 107, 107)'\n",
    "        )\n",
    "    ),\n",
    "    yaxis=dict(\n",
    "        title='Count in %',\n",
    "        titlefont=dict(\n",
    "            size=16,\n",
    "            color='rgb(107, 107, 107)'\n",
    "        ),\n",
    "        tickfont=dict(\n",
    "            size=14,\n",
    "            color='rgb(107, 107, 107)'\n",
    "        )\n",
    ")\n",
    ")\n",
    "fig = go.Figure(data=data, layout=layout)\n",
    "py.iplot(fig)"
   ],
   "execution_count": null,
   "outputs": []
  },
  {
   "metadata": {
    "_cell_guid": "8765a035-e644-49d1-92e7-ae353bfb0378",
    "_uuid": "304f6fc864e419153e602a22d36fc9d07a9a4db4"
   },
   "cell_type": "markdown",
   "source": [
    "## <a id='5=15=10'>5.15.10 Was the previous application for CASH, POS, CAR, …</a>"
   ]
  },
  {
   "metadata": {
    "collapsed": true,
    "_cell_guid": "eab3f992-ed01-45ad-ad73-155209b27b4e",
    "_kg_hide-input": true,
    "_uuid": "b4e80e0fde98c699aa296719aa6c53aa8489d870",
    "trusted": false
   },
   "cell_type": "code",
   "source": [
    "temp = previous_application[\"NAME_PORTFOLIO\"].value_counts()\n",
    "df = pd.DataFrame({'labels': temp.index,\n",
    "                   'values': temp.values\n",
    "                  })\n",
    "df.iplot(kind='pie',labels='labels',values='values', title='Was the previous application for CASH, POS, CAR, …', hole = 0.7,colors=['#ea7c96','#75e575',])"
   ],
   "execution_count": null,
   "outputs": []
  },
  {
   "metadata": {
    "_cell_guid": "e2c83f9c-223a-43dc-a2f9-685d1fd31f86",
    "_uuid": "204c043881886f163df07bdc30c6c87eb034c298"
   },
   "cell_type": "markdown",
   "source": [
    "## <a id='5-15-11'>5.15.11 Was the previous application x-sell or walk-in ?</a>"
   ]
  },
  {
   "metadata": {
    "collapsed": true,
    "_cell_guid": "606e43b3-ba93-4626-805c-bc20ad2107da",
    "_kg_hide-input": true,
    "_uuid": "e0753fbb92384630ca23c5dad697efd81dff89f7",
    "trusted": false
   },
   "cell_type": "code",
   "source": [
    "temp = previous_application[\"NAME_PRODUCT_TYPE\"].value_counts()\n",
    "df = pd.DataFrame({'labels': temp.index,\n",
    "                   'values': temp.values\n",
    "                  })\n",
    "df.iplot(kind='pie',labels='labels',values='values', title='Was the previous application x-sell or walk-in', hole = 0.7)"
   ],
   "execution_count": null,
   "outputs": []
  },
  {
   "metadata": {
    "_cell_guid": "7534fc64-eb8e-4754-8943-c8de3f523266",
    "_uuid": "fa1807d8fcd46c730aa1aa366587eb17f5cfea23"
   },
   "cell_type": "markdown",
   "source": [
    "## <a id='5-15-12'>5.15.12 Top channels  through which they acquired the client on the previous application</a>"
   ]
  },
  {
   "metadata": {
    "collapsed": true,
    "_cell_guid": "4bdf39ae-9539-4185-a488-8c7f365e3909",
    "_kg_hide-input": true,
    "_uuid": "8bd9ebc8d74149d1fdd95a04857a58207b73f1c6",
    "trusted": false
   },
   "cell_type": "code",
   "source": [
    "temp = previous_application[\"CHANNEL_TYPE\"].value_counts()\n",
    "trace = go.Bar(\n",
    "    x = temp.index,\n",
    "    y = (temp / temp.sum())*100,\n",
    "    marker=dict(\n",
    "        color=(temp / temp.sum())*100,\n",
    "#         colorscale = 'Violet',\n",
    "#         reversescale = True\n",
    "    ),\n",
    ")\n",
    "data = [trace]\n",
    "layout = go.Layout(\n",
    "    title = \"Top channels  through which they acquired the client on the previous application in % \",\n",
    "    xaxis=dict(\n",
    "        title='Name of the Channel',\n",
    "        tickfont=dict(\n",
    "            size=14,\n",
    "            color='rgb(107, 107, 107)'\n",
    "        )\n",
    "    ),\n",
    "    yaxis=dict(\n",
    "        title='Count in %',\n",
    "        titlefont=dict(\n",
    "            size=16,\n",
    "            color='rgb(107, 107, 107)'\n",
    "        ),\n",
    "        tickfont=dict(\n",
    "            size=14,\n",
    "            color='rgb(107, 107, 107)'\n",
    "        )\n",
    ")\n",
    ")\n",
    "fig = go.Figure(data=data, layout=layout)\n",
    "py.iplot(fig)"
   ],
   "execution_count": null,
   "outputs": []
  },
  {
   "metadata": {
    "_cell_guid": "4126d285-653f-4192-be67-f04351ab7ab7",
    "_uuid": "43a265771041ad07954002d44eced5a1d9e8a8ac"
   },
   "cell_type": "markdown",
   "source": [
    "* **Top channels  through which they acquired the client on the previous application :**\n",
    "  * Credidit and cash offices : 43 % times\n",
    "  * Country_wide : 30 % times\n",
    "  * Stone : 13 % times"
   ]
  },
  {
   "metadata": {
    "_cell_guid": "207d6f0e-4462-4a1c-8d2c-10e540e1d6b5",
    "_uuid": "fe95785c9c5247707c5d28b2a8418a3812446ce9"
   },
   "cell_type": "markdown",
   "source": [
    "## <a id='5-15-13'>5.15.13 Top industry of the seller</a>"
   ]
  },
  {
   "metadata": {
    "collapsed": true,
    "_cell_guid": "4f263079-1142-4eb3-8192-1bcc18ef37a5",
    "_kg_hide-input": true,
    "_uuid": "7754e86dc55fbeca8f09715162d5f57633cb1a21",
    "trusted": false
   },
   "cell_type": "code",
   "source": [
    "temp = previous_application[\"NAME_SELLER_INDUSTRY\"].value_counts()\n",
    "trace = go.Bar(\n",
    "    x = temp.index,\n",
    "    y = (temp / temp.sum())*100,\n",
    "    marker=dict(\n",
    "        color=(temp / temp.sum())*100,\n",
    "        colorscale = 'Greens',\n",
    "        reversescale = True\n",
    "    ),\n",
    ")\n",
    "data = [trace]\n",
    "layout = go.Layout(\n",
    "    title = \"Top industry of the seller in % \",\n",
    "    xaxis=dict(\n",
    "        title='Industry Name',\n",
    "        tickfont=dict(\n",
    "            size=14,\n",
    "            color='rgb(107, 107, 107)'\n",
    "        )\n",
    "    ),\n",
    "    yaxis=dict(\n",
    "        title='Count in %',\n",
    "        titlefont=dict(\n",
    "            size=16,\n",
    "            color='rgb(107, 107, 107)'\n",
    "        ),\n",
    "        tickfont=dict(\n",
    "            size=14,\n",
    "            color='rgb(107, 107, 107)'\n",
    "        )\n",
    ")\n",
    ")\n",
    "fig = go.Figure(data=data, layout=layout)\n",
    "py.iplot(fig)"
   ],
   "execution_count": null,
   "outputs": []
  },
  {
   "metadata": {
    "_cell_guid": "cbe64cf3-fa8d-484f-963e-ff1222ee4668",
    "_uuid": "0dca1834ae1ae6d9f61f4a32d912c95ffe03d80b"
   },
   "cell_type": "markdown",
   "source": [
    "## <a id='5-15-14'>5.15.14 Grouped interest rate into small medium and high of the previous application</a>"
   ]
  },
  {
   "metadata": {
    "collapsed": true,
    "_cell_guid": "d234af38-5abd-4c18-a6de-cd75fcc4ff22",
    "_kg_hide-input": true,
    "_uuid": "d29a23d98989f28c2a4587f98386c23f92586475",
    "trusted": false
   },
   "cell_type": "code",
   "source": [
    "temp = previous_application[\"NAME_YIELD_GROUP\"].value_counts()\n",
    "trace = go.Bar(\n",
    "    x = temp.index,\n",
    "    y = (temp / temp.sum())*100,\n",
    "    marker=dict(\n",
    "        color=(temp / temp.sum())*100,\n",
    "        colorscale = 'Greens',\n",
    "        reversescale = True\n",
    "    ),\n",
    ")\n",
    "data = [trace]\n",
    "layout = go.Layout(\n",
    "    title = \"Grouped interest rate into small medium and high of the previous application in % \",\n",
    "    xaxis=dict(\n",
    "        title='Grouped Interest rate',\n",
    "        tickfont=dict(\n",
    "            size=14,\n",
    "            color='rgb(107, 107, 107)'\n",
    "        )\n",
    "    ),\n",
    "    yaxis=dict(\n",
    "        title='Count in %',\n",
    "        titlefont=dict(\n",
    "            size=16,\n",
    "            color='rgb(107, 107, 107)'\n",
    "        ),\n",
    "        tickfont=dict(\n",
    "            size=14,\n",
    "            color='rgb(107, 107, 107)'\n",
    "        )\n",
    ")\n",
    ")\n",
    "fig = go.Figure(data=data, layout=layout)\n",
    "py.iplot(fig)"
   ],
   "execution_count": null,
   "outputs": []
  },
  {
   "metadata": {
    "_cell_guid": "fa7c5add-75d4-47cc-9ab4-3762dd7fe4a0",
    "_uuid": "2d43a31698e89e284efb0800836f291099415b47"
   },
   "cell_type": "markdown",
   "source": [
    "## <a id='5-15-15'>5.15.15 Top Detailed product combination of the previous application</a>"
   ]
  },
  {
   "metadata": {
    "collapsed": true,
    "_cell_guid": "6a9b42be-9e78-40cf-b6c8-eca2984074d1",
    "_kg_hide-input": true,
    "_uuid": "e3f0ff8cb0ec3beaf6db6cfa658df4cd28bc8b4a",
    "trusted": false
   },
   "cell_type": "code",
   "source": [
    "temp = previous_application[\"PRODUCT_COMBINATION\"].value_counts()\n",
    "df = pd.DataFrame({'labels': temp.index,\n",
    "                   'values': temp.values\n",
    "                  })\n",
    "df.iplot(kind='pie',labels='labels',values='values', title='Top Detailed product combination of the previous application', hole = 0.7)"
   ],
   "execution_count": null,
   "outputs": []
  },
  {
   "metadata": {
    "_cell_guid": "e7bc55f3-38c3-4d64-9754-b1ae7aea68ba",
    "_uuid": "449294340c38142748520c222b6bac6fbcd8cac4"
   },
   "cell_type": "markdown",
   "source": [
    "## <a id='5-15-16'>5.15.16 Did the client requested insurance during the previous application</a>"
   ]
  },
  {
   "metadata": {
    "collapsed": true,
    "_cell_guid": "b3d8dae6-6ac0-4d87-bfc6-eda1de1ce5ce",
    "_kg_hide-input": true,
    "_uuid": "0f7afd96103455b606a1052f0d3eb2090610c064",
    "trusted": false
   },
   "cell_type": "code",
   "source": [
    "temp = previous_application[\"NFLAG_INSURED_ON_APPROVAL\"].value_counts()\n",
    "df = pd.DataFrame({'labels': temp.index,\n",
    "                   'values': temp.values\n",
    "                  })\n",
    "df.iplot(kind='pie',labels='labels',values='values', title='Did the client requested insurance during the previous application(YES : 1, NO : 0)', hole = 0.7, colors=['#ea7c96','#75e575',])"
   ],
   "execution_count": null,
   "outputs": []
  },
  {
   "metadata": {
    "_cell_guid": "e90f6497-123b-4b29-a2b0-b36be1c90dfe",
    "_uuid": "f8a595c3ac710ff55a80afaae761b175bc074742"
   },
   "cell_type": "markdown",
   "source": [
    "# <a id='6'>6. Pearson Correlation of features</a>"
   ]
  },
  {
   "metadata": {
    "_cell_guid": "b0e09721-02c0-414b-9178-eab5b679ee4f",
    "_kg_hide-input": true,
    "_uuid": "4e3314dda3f9720cc73fb77c8c43bd529bb6aadf",
    "trusted": false,
    "collapsed": true,
    "pycharm": {
     "name": "#%%\n"
    }
   },
   "cell_type": "code",
   "source": [
    "data = [\n",
    "    go.Heatmap(\n",
    "        z= application_train.corr().values,\n",
    "        x=application_train.columns.values,\n",
    "        y=application_train.columns.values,\n",
    "        colorscale='Viridis',\n",
    "        reversescale = False,\n",
    "        text = True ,\n",
    "        opacity = 1.0 )\n",
    "]\n",
    "\n",
    "layout = go.Layout(\n",
    "    title='Pearson Correlation of features',\n",
    "    xaxis = dict(ticks='', nticks=36),\n",
    "    yaxis = dict(ticks='' ),\n",
    "    width = 900, height = 700,\n",
    "margin=dict(\n",
    "    l=240,\n",
    "),)\n",
    "\n",
    "fig = go.Figure(data=data, layout=layout)\n",
    "py.iplot(fig, filename='labelled-heatmap')\n",
    "\n",
    "# More To Come. Stayed Tuned "
   ],
   "execution_count": null,
   "outputs": []
  }
 ],
 "metadata": {
  "kernelspec": {
   "display_name": "Python 3",
   "language": "python",
   "name": "python3"
  },
  "language_info": {
   "name": "python",
   "version": "3.6.5",
   "mimetype": "text/x-python",
   "codemirror_mode": {
    "name": "ipython",
    "version": 3
   },
   "pygments_lexer": "ipython3",
   "nbconvert_exporter": "python",
   "file_extension": ".py"
  },
  "pycharm": {
   "stem_cell": {
    "cell_type": "raw",
    "source": [],
    "metadata": {
     "collapsed": false
    }
   }
  }
 },
 "nbformat": 4,
 "nbformat_minor": 1
}