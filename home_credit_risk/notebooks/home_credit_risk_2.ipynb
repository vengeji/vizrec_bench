{
 "cells": [
  {
   "metadata": {
    "_uuid": "80cb70caf962f6d851dbd7845305370fd8c2dfc3"
   },
   "cell_type": "markdown",
   "source": [
    "<h1><center><font size=\"6\">Home Credit Default Risk Extensive EDA</font></center></h1>\n",
    "\n",
    "\n",
    "<img src=\"https://storage.googleapis.com/kaggle-media/competitions/home-credit/about-us-home-credit.jpg\"></img>\n",
    "\n",
    "# <a id='0'>Content</a>\n",
    "\n",
    "- <a href='#1'>Introduction</a>  \n",
    "- <a href='#2'>Load the data</a>   \n",
    "- <a href='#3'>Check the data</a>\n",
    "    - <a href='#31'>Data model</a>  \n",
    "    - <a href='#32'>Glimpse the data</a>  \n",
    "    - <a href='#33'>Check missing data</a>  \n",
    "    - <a href='#34'>Check data unbalance</a>\n",
    "- <a href='#4'>Explore the data</a>\n",
    "    - <a href='#41'>Application data</a>\n",
    "    - <a href='#42'>Bureau data</a>\n",
    "    - <a href='#43'>Previous application data</a> \n",
    "    - <a href='#44'>Contract type</a>     \n",
    "- <a href='#5'>References</a>"
   ]
  },
  {
   "metadata": {
    "_uuid": "1719b66cafeb7d333b65caa37bce8087988c4280"
   },
   "cell_type": "markdown",
   "source": [
    "# <a id=\"1\">Introduction</a>"
   ]
  },
  {
   "metadata": {
    "_uuid": "fdd34136025694f2d71de9f7875c08f26aa4b97a"
   },
   "cell_type": "markdown",
   "source": [
    "<a href=\"http://www.homecredit.net/\">Home Credit</a> is a non-banking financial institution, founded in 1997 in the Czech Republic.\n",
    "\n",
    "The company operates in 14 countries (including United States, Russia, Kazahstan, Belarus, China, India) and focuses on lending primarily to people with little or no credit history which will either not obtain loans or became victims of untrustworthly lenders.\n",
    "\n",
    "Home Credit group has over 29 million customers, total assests of 21 billions Euro, over 160 millions loans, with the majority in Asia and and almost half of them in China (as of 19-05-2018). \n",
    "\n",
    "The company uses of a variety of alternative data - including telco and transactional information - to predict their clients' repayment abilities.\n",
    "\n",
    "They made available their data to the Kaggle community and are challenging Kagglers to help them unlock the full potential of their data.\n",
    "\n"
   ]
  },
  {
   "metadata": {
    "_uuid": "013aadf35263381f72adc6ac9453a6ddab95b14e"
   },
   "cell_type": "markdown",
   "source": [
    "<a href=\"#0\"><font size=\"1\">Go to top</font></a>\n",
    "\n",
    "# <a id=\"2\">Load the data</a>"
   ]
  },
  {
   "metadata": {
    "_uuid": "778d7eb0679cac970a01cbaa64033c78d20d19cc",
    "collapsed": true,
    "trusted": false
   },
   "cell_type": "code",
   "source": [
    "import pandas as pd \n",
    "import numpy as np\n",
    "import matplotlib\n",
    "import matplotlib.pyplot as plt\n",
    "import seaborn as sns\n",
    "%matplotlib inline "
   ],
   "execution_count": null,
   "outputs": []
  },
  {
   "metadata": {
    "_uuid": "48399e01e3d0bc79a6286c395a5bf5365eaa4d2e",
    "collapsed": true,
    "trusted": false
   },
   "cell_type": "code",
   "source": [
    "application_train = pd.read_csv(\"../home_credit_risk.csv\")\n",
    "\n",
    "previous_application = pd.read_csv(\"../previous_application.csv\")\n"
   ],
   "execution_count": null,
   "outputs": []
  },
  {
   "metadata": {
    "_uuid": "65f5e74d6f8123ed86fa87383810329448697fd9"
   },
   "cell_type": "markdown",
   "source": [
    "# <a id=\"3\">Check the data</a> "
   ]
  },
  {
   "metadata": {
    "_uuid": "d8fbdfed8145e106059ad50a7397580ff265d048"
   },
   "cell_type": "markdown",
   "source": [
    "## <a id=\"31\">Data model</a>\n",
    "\n",
    "The structure of the data is explained in the following image (from the data description on the competition page)\n",
    "\n",
    "<img src=\"https://storage.googleapis.com/kaggle-media/competitions/home-credit/home_credit.png\" width=\"800\"></img>\n",
    "\n",
    "The dataframe *application_train* and *application_test* contains the loan and loan applicants. The dataframe *bureau* contains the application data from other loans that the client took from other credit institutions and were reported to the credit bureau. The dataframe *previous_applications* contains information about previous loans at **Home Credit** by the same client, previous loans information and client information at the time of the loan (there is a line in the dataframe per previous loan application).\n",
    "\n",
    "**SK_ID_CURR** is connecting the dataframes *application_train*|*test* with *bureau*, *previous_application* and also with dataframes *POS_CASH_balance*, *installments_payment* and *credit_card_balance*. **SK_ID_PREV** connects dataframe *previous_application* with *POS_CASH_balance*, *installments_payment* and *credit_card_balance*. **SK_ID_BUREAU** connects dataframe *bureau* with dataframe *bureau_balance*."
   ]
  },
  {
   "metadata": {
    "_uuid": "2051b38cd4378e3883bc2650fdc3ecea46889771"
   },
   "cell_type": "markdown",
   "source": [
    "<a href=\"#0\"><font size=\"1\">Go to top</font></a>\n",
    "\n",
    "\n",
    "## <a id=\"32\">Glimpse the data</a>"
   ]
  },
  {
   "metadata": {
    "_uuid": "04c03c9cb0e91ec109c230a5e642c3be0e323b18",
    "trusted": false,
    "collapsed": true
   },
   "cell_type": "code",
   "source": [
    "print(\"application_train -  rows:\",application_train.shape[0],\" columns:\", application_train.shape[1])\n",
    "print(\"previous_application -  rows:\",previous_application.shape[0],\" columns:\", previous_application.shape[1])"
   ],
   "execution_count": null,
   "outputs": []
  },
  {
   "metadata": {
    "_uuid": "826eb603c6ec38baa403bbeaae96e5b6f0292541"
   },
   "cell_type": "markdown",
   "source": [
    "### application_train"
   ]
  },
  {
   "metadata": {
    "_uuid": "809d130fe526f61f5dfec86c2949729a8f0b7bae",
    "trusted": false,
    "collapsed": true
   },
   "cell_type": "code",
   "source": [
    "application_train.head()"
   ],
   "execution_count": null,
   "outputs": []
  },
  {
   "metadata": {
    "_uuid": "9b306869ea04674a98903383a2dff7621bceb1ec",
    "trusted": false,
    "collapsed": true
   },
   "cell_type": "code",
   "source": [
    "application_train.columns.values"
   ],
   "execution_count": null,
   "outputs": []
  },
  {
   "metadata": {
    "_uuid": "29fe069c5a168f5fd745e92b8125b5de3c9ffe2d"
   },
   "cell_type": "markdown",
   "source": [
    "\n"
   ]
  },
  {
   "metadata": {
    "_uuid": "99a853aba6439bbf1a6384ebada5c9d7b2508c6b",
    "collapsed": true
   },
   "cell_type": "markdown",
   "source": [
    "### previous_applications"
   ]
  },
  {
   "metadata": {
    "_uuid": "5c4bb768afd83bdb264834d004a536de78b4b72e",
    "trusted": false,
    "collapsed": true
   },
   "cell_type": "code",
   "source": [
    "previous_application.head()"
   ],
   "execution_count": null,
   "outputs": []
  },
  {
   "metadata": {
    "_uuid": "6965b06cbec257f6b0067c30a2ba62f5a5f76df6",
    "trusted": false,
    "collapsed": true
   },
   "cell_type": "code",
   "source": [
    "previous_application.columns.values"
   ],
   "execution_count": null,
   "outputs": []
  },
  {
   "metadata": {
    "_uuid": "2f7e0144f4b18b9fa26a7a0326c1d437454f8255"
   },
   "cell_type": "markdown",
   "source": []
  },
  {
   "metadata": {
    "_uuid": "5587a1972da3851be7d70844dda7a5dcb9db8948"
   },
   "cell_type": "markdown",
   "source": [
    "<a href=\"#0\"><font size=\"1\">Go to top</font></a>\n",
    "\n",
    "## <a id=\"33\">Check missing data</a>"
   ]
  },
  {
   "metadata": {
    "_uuid": "5366839d630c62c8b4cca50c3a5a189ef9eca59b",
    "collapsed": true,
    "trusted": false
   },
   "cell_type": "code",
   "source": [
    "def missing_data(data):\n",
    "    total = data.isnull().sum().sort_values(ascending = False)\n",
    "    percent = (data.isnull().sum()/data.isnull().count()*100).sort_values(ascending = False)\n",
    "    return pd.concat([total, percent], axis=1, keys=['Total', 'Percent'])"
   ],
   "execution_count": null,
   "outputs": []
  },
  {
   "metadata": {
    "_uuid": "5bcf6c1f53543ababfcd7e071096a84de97530e5"
   },
   "cell_type": "markdown",
   "source": [
    "## application_train"
   ]
  },
  {
   "metadata": {
    "_uuid": "3d8fb6b70cac8a967022747ae513d4f4b8a21221",
    "trusted": false,
    "collapsed": true
   },
   "cell_type": "code",
   "source": [
    "missing_data(application_train).head(10)\n",
    "\n",
    "\n",
    "\n",
    "### previous_applications"
   ],
   "execution_count": null,
   "outputs": []
  },
  {
   "metadata": {
    "_uuid": "692250809e705d6a0ffbaf73e228b33047aef710",
    "trusted": false,
    "collapsed": true
   },
   "cell_type": "code",
   "source": [
    "missing_data(previous_application).head(20)"
   ],
   "execution_count": null,
   "outputs": []
  },
  {
   "metadata": {
    "_uuid": "9081911d3de186406fa4ffb001a38c7d181901ec"
   },
   "cell_type": "markdown",
   "source": []
  },
  {
   "metadata": {
    "_uuid": "f4046f05746923f377a08e5caf78e2ce413779ea"
   },
   "cell_type": "markdown",
   "source": [
    "<a href=\"#0\"><font size=\"1\">Go to top</font></a>\n",
    "\n",
    "\n",
    "## <a id=\"34\">Check data unbalance</a>\n",
    "\n",
    "**TARGET** value 0 means loan is repayed, value 1 means loan is not repayed."
   ]
  },
  {
   "metadata": {
    "_uuid": "9e04bf7eea76a62dcb5148b0a1bba6911e7ea1ef",
    "trusted": false,
    "collapsed": true
   },
   "cell_type": "code",
   "source": [
    "temp = application_train[\"TARGET\"].value_counts()\n",
    "df = pd.DataFrame({'labels': temp.index,\n",
    "                   'values': temp.values\n",
    "                  })\n",
    "plt.figure(figsize = (6,6))\n",
    "plt.title('Application loans repayed - train dataset')\n",
    "sns.set_color_codes(\"pastel\")\n",
    "sns.barplot(x = 'labels', y=\"values\", data=df)\n",
    "locs, labels = plt.xticks()\n",
    "plt.show()\n"
   ],
   "execution_count": null,
   "outputs": []
  },
  {
   "metadata": {
    "_uuid": "e8a37f4f887a38250baefb1bf369d37df4a04217"
   },
   "cell_type": "markdown",
   "source": [
    "<a href=\"#0\"><font size=\"1\">Go to top</font></a>\n",
    "\n",
    "# <a id=\"4\">Explore the data</a>"
   ]
  },
  {
   "metadata": {
    "_uuid": "49306864478929715c625600f5bf52225131b9cf"
   },
   "cell_type": "markdown",
   "source": [
    "## <a id=\"41\">Application data</a>\n",
    "\n",
    "### Loan types\n",
    "\n",
    "\n",
    "    \n",
    "Let's see the type of the loans taken and also, on a separate plot, the percent of the loans (by type of the loan) with **TARGET** value 1 (not returned loan)."
   ]
  },
  {
   "metadata": {
    "_uuid": "f826b3e15a75d077d1a2c91ce1f6d2472944dbfe",
    "collapsed": true,
    "trusted": false
   },
   "cell_type": "code",
   "source": [
    "def plot_stats(feature,label_rotation=False,horizontal_layout=True):\n",
    "    temp = application_train[feature].value_counts()\n",
    "    df1 = pd.DataFrame({feature: temp.index,'Number of contracts': temp.values})\n",
    "\n",
    "    # Calculate the percentage of target=1 per category value\n",
    "    cat_perc = application_train[[feature, 'TARGET']].groupby([feature],as_index=False).mean()\n",
    "    cat_perc.sort_values(by='TARGET', ascending=False, inplace=True)\n",
    "    \n",
    "    if(horizontal_layout):\n",
    "        fig, (ax1, ax2) = plt.subplots(ncols=2, figsize=(12,6))\n",
    "    else:\n",
    "        fig, (ax1, ax2) = plt.subplots(nrows=2, figsize=(12,14))\n",
    "    sns.set_color_codes(\"pastel\")\n",
    "    s = sns.barplot(ax=ax1, x = feature, y=\"Number of contracts\",data=df1)\n",
    "    if(label_rotation):\n",
    "        s.set_xticklabels(s.get_xticklabels(),rotation=90)\n",
    "    \n",
    "    s = sns.barplot(ax=ax2, x = feature, y='TARGET', order=cat_perc[feature], data=cat_perc)\n",
    "    if(label_rotation):\n",
    "        s.set_xticklabels(s.get_xticklabels(),rotation=90)\n",
    "    plt.ylabel('Percent of target with value 1 [%]', fontsize=10)\n",
    "    plt.tick_params(axis='both', which='major', labelsize=10)\n",
    "\n",
    "    plt.show();"
   ],
   "execution_count": null,
   "outputs": []
  },
  {
   "metadata": {
    "collapsed": true,
    "trusted": false,
    "_uuid": "3db53be323d614b951e13d6d2abad47888119e20"
   },
   "cell_type": "code",
   "source": [
    "def plot_distribution(var):\n",
    "    \n",
    "    i = 0\n",
    "    t1 = application_train.loc[application_train['TARGET'] != 0]\n",
    "    t0 = application_train.loc[application_train['TARGET'] == 0]\n",
    "\n",
    "    sns.set_style('whitegrid')\n",
    "    plt.figure()\n",
    "    fig, ax = plt.subplots(2,2,figsize=(12,12))\n",
    "\n",
    "    for feature in var:\n",
    "        i += 1\n",
    "        plt.subplot(2,2,i)\n",
    "        sns.kdeplot(t1[feature], bw=0.5,label=\"TARGET = 1\")\n",
    "        sns.kdeplot(t0[feature], bw=0.5,label=\"TARGET = 0\")\n",
    "        plt.ylabel('Density plot', fontsize=12)\n",
    "        plt.xlabel(feature, fontsize=12)\n",
    "        locs, labels = plt.xticks()\n",
    "        plt.tick_params(axis='both', which='major', labelsize=12)\n",
    "    plt.show();"
   ],
   "execution_count": null,
   "outputs": []
  },
  {
   "metadata": {
    "_uuid": "9c9881ee8d8225809da0598253b3ec3679427f0c",
    "trusted": false,
    "collapsed": true
   },
   "cell_type": "code",
   "source": [
    "plot_stats('NAME_CONTRACT_TYPE')"
   ],
   "execution_count": null,
   "outputs": []
  },
  {
   "metadata": {
    "_uuid": "33db14818922086f014224799d13938e17b003f5"
   },
   "cell_type": "markdown",
   "source": [
    "Contract type *Revolving loans* are just a small fraction (10%) from the total number of loans; in the same time, a larger amount of *Revolving loans*, comparing with their frequency, are not repaid."
   ]
  },
  {
   "metadata": {
    "_uuid": "7930ec8beddabf0cb047965c8e13d5c8297e790e"
   },
   "cell_type": "markdown",
   "source": [
    "### Client gender\n",
    "\n",
    "Let's see the gender of the clients and also, on a separate plot, the percent of the loans (by client gender) with TARGET value 1 (not returned loan)."
   ]
  },
  {
   "metadata": {
    "_uuid": "bf3a8052467c717b3a64ba86e380b64365b8c8c2",
    "trusted": false,
    "collapsed": true
   },
   "cell_type": "code",
   "source": [
    "plot_stats('CODE_GENDER')"
   ],
   "execution_count": null,
   "outputs": []
  },
  {
   "metadata": {
    "_uuid": "9547132f6e01dc968015a4c24d2ca817183d77dd"
   },
   "cell_type": "markdown",
   "source": [
    "The number of female clients is almost double  the number of male clients. Looking to the percent of defaulted credits, males have a higher chance of not returning their loans (~10%), comparing with women (~7%)."
   ]
  },
  {
   "metadata": {
    "_uuid": "1a8e3105b1228ef8a9a47eb231cc18a7a7b6c0fa"
   },
   "cell_type": "markdown",
   "source": [
    "### Flag own car and flag own real estate\n",
    "\n",
    "Let's inspect the  flags that tell us if a client owns a car or real estate and, on separate plots, the percent of the loans value of these flags) with TARGET value 1 (not returned loan)."
   ]
  },
  {
   "metadata": {
    "_uuid": "8c15a69473ead33f83bc5765b66308d646307350",
    "trusted": false,
    "collapsed": true
   },
   "cell_type": "code",
   "source": [
    "plot_stats('FLAG_OWN_CAR')\n",
    "plot_stats('FLAG_OWN_REALTY')"
   ],
   "execution_count": null,
   "outputs": []
  },
  {
   "metadata": {
    "_uuid": "43c7d9d56eeb4ee9930bf9ef0bcc2d17d3e1d25c"
   },
   "cell_type": "markdown",
   "source": [
    "The clients that owns a car are almost a half of the ones that doesn't own one. The clients that owns a car are less likely to not repay a car that the ones that own. Both categories have not-repayment rates around 8%.\n",
    "\n",
    "The clients that owns real estate are more than double of the ones that doesn't own. Both categories (owning real estate or not owning) have not-repayment rates less than 8%.\n"
   ]
  },
  {
   "metadata": {
    "_uuid": "298f25eef31d19439fa5648c6276d7f6f6651eff"
   },
   "cell_type": "markdown",
   "source": [
    "### Family status of client"
   ]
  },
  {
   "metadata": {
    "_uuid": "c12d38a51772b4ac74a85d747f4976a48b305d44",
    "trusted": false,
    "collapsed": true
   },
   "cell_type": "code",
   "source": [
    "plot_stats('NAME_FAMILY_STATUS',True, True)"
   ],
   "execution_count": null,
   "outputs": []
  },
  {
   "metadata": {
    "_uuid": "f7edfb758eb55be9ce7fb36e3413dcad09e9722a"
   },
   "cell_type": "markdown",
   "source": [
    "Most of clients are married, followed by Single/not married and civil marriage.\n",
    "\n",
    "In terms of percentage of not repayment of loan, Civil marriage has the highest percent of not repayment (10%), with Widow the lowest (exception being *Unknown*)."
   ]
  },
  {
   "metadata": {
    "_uuid": "6c8976aed72eea83b6bf2dc2ca3d52e910c2195c"
   },
   "cell_type": "markdown",
   "source": [
    "### Number of children\n",
    "\n",
    "Let's see what is the distribution of the number of children of the clients."
   ]
  },
  {
   "metadata": {
    "_uuid": "b73030793aba6a4597cbac76140549d09dfe06f7",
    "trusted": false,
    "collapsed": true
   },
   "cell_type": "code",
   "source": [
    "plot_stats('CNT_CHILDREN')"
   ],
   "execution_count": null,
   "outputs": []
  },
  {
   "metadata": {
    "_uuid": "5ad13f51f9e74bc1ea1e9223cf3ad3fd9d18d2f8"
   },
   "cell_type": "markdown",
   "source": [
    "Most of the clients taking a loan have no children. The number of loans associated with the clients with one children are 4 times smaller, the number of loans associated with the clients with two children are 8 times smaller; clients with 3, 4 or more children are much more rare. \n",
    "\n",
    "As for repayment, clients with no children, 1, 2, 3, and 5 children have percents of no repayment around the average (10%). The clients with 4 and 6 children are above average in terms of percent of not paid back loans (over 25% for families with 6 children).\n",
    "\n",
    "As for clients with 9 or 11 children, the percent of loans not repaid is 100%.\n",
    "\n"
   ]
  },
  {
   "metadata": {
    "_uuid": "49904a72f647b65dd083bf4f8f20b2d02f10cf04"
   },
   "cell_type": "markdown",
   "source": [
    "### Number of family members of client"
   ]
  },
  {
   "metadata": {
    "_uuid": "0249e5b2221bde1cbf9b951c3bb3f007fbea2df1",
    "trusted": false,
    "collapsed": true
   },
   "cell_type": "code",
   "source": [
    "plot_stats('CNT_FAM_MEMBERS',True)"
   ],
   "execution_count": null,
   "outputs": []
  },
  {
   "metadata": {
    "_uuid": "ccbd742c2ffdaa82b45472ceab5291b24d867090"
   },
   "cell_type": "markdown",
   "source": [
    "Clients with family members of 2 are most numerous, followed by 1 (single persons), 3 (families with one child) and 4.\n",
    "\n",
    "Clients with family size of 11 and 13 have 100% not repayment rate. Other families with 10 or 8 members have percents of not repayment of loans over 30%. Families with 6 or less members have repayment rates close to the 10% average.\n"
   ]
  },
  {
   "metadata": {
    "_uuid": "eed2b369f9483767c0f021cb4db08261edbd9eac"
   },
   "cell_type": "markdown",
   "source": [
    "### Income type of client\n",
    "\n",
    "Let's investigate the numbers of clients with different income type. As well, let's see the percent of not returned loans per income type of applicants."
   ]
  },
  {
   "metadata": {
    "_uuid": "f171f2e5a5e521e9aa5eb8ac0fd68ba0f3737de7",
    "trusted": false,
    "collapsed": true
   },
   "cell_type": "code",
   "source": [
    "plot_stats('NAME_INCOME_TYPE',False,False)"
   ],
   "execution_count": null,
   "outputs": []
  },
  {
   "metadata": {
    "_uuid": "7ba3fb0e75c91217980e3efee3121385d3c0c049"
   },
   "cell_type": "markdown",
   "source": [
    "Most of applicants for loans are income from *Working*, followed by *Commercial associate*, *Pensioner* and *State servant*.\n",
    "\n",
    "The applicants with the type of income *Maternity leave* have almost 40% ratio of not returning loans, followed by *Unemployed* (37%). The rest of types of incomes are under the average of 10% for not returning loans.\n"
   ]
  },
  {
   "metadata": {
    "_uuid": "2d96ccf91f913d7cec62b97c0e78dfec3e7fc853"
   },
   "cell_type": "markdown",
   "source": [
    "### Ocupation of client\n",
    "\n"
   ]
  },
  {
   "metadata": {
    "_uuid": "36a27cbfe6fb251e9a58f668e4f585a89d5d00d5",
    "trusted": false,
    "collapsed": true
   },
   "cell_type": "code",
   "source": [
    "plot_stats('OCCUPATION_TYPE',True, False)"
   ],
   "execution_count": null,
   "outputs": []
  },
  {
   "metadata": {
    "_uuid": "dd7aeecc41cc843c38e02c333e752d8212939901"
   },
   "cell_type": "markdown",
   "source": [
    "Most of the loans are taken by *Laborers*, followed by *Sales staff*. *IT staff* take the lowest amount of loans.\n",
    "\n",
    "The category with highest percent of not repaid loans are *Low-skill Laborers* (above 17%), followed by *Drivers* and *Waiters/barmen staff*, *Security staff*, *Laborers* and *Cooking staff*."
   ]
  },
  {
   "metadata": {
    "_uuid": "d6579159b562cc8d989cc3f0aec068257742537b"
   },
   "cell_type": "markdown",
   "source": [
    "### Organization type"
   ]
  },
  {
   "metadata": {
    "_uuid": "f329b133c295e12aeca73a62d38c7f886dcd6ecf",
    "trusted": false,
    "collapsed": true
   },
   "cell_type": "code",
   "source": [
    "plot_stats('ORGANIZATION_TYPE',True, False)"
   ],
   "execution_count": null,
   "outputs": []
  },
  {
   "metadata": {
    "_uuid": "911aba8ec50bf4681485294a98c87bab306bb356"
   },
   "cell_type": "markdown",
   "source": [
    "Oraganizations with highest percent of loans not repaid are *Transport: type 3* (16%), *Industry: type 13* (13.5%), *Industry: type 8* (12.5%) and *Restaurant* (less than 12%)."
   ]
  },
  {
   "metadata": {
    "_uuid": "59d1b402025665c9ff884d7dde9dc78ec78cc7ad"
   },
   "cell_type": "markdown",
   "source": [
    "### Education type of the client"
   ]
  },
  {
   "metadata": {
    "_uuid": "7b74eb79e73db85d37d1096877d3e274e8c47797",
    "trusted": false,
    "collapsed": true
   },
   "cell_type": "code",
   "source": [
    "plot_stats('NAME_EDUCATION_TYPE',True)"
   ],
   "execution_count": null,
   "outputs": []
  },
  {
   "metadata": {
    "_uuid": "071a71154f0c8498887141261ec3fd53a74d4637"
   },
   "cell_type": "markdown",
   "source": [
    "Majority of the clients have Secondary / secondary special education, followed by clients with Higher education. Only a very small number having an academic degree.\n",
    "\n",
    "The Lower secondary category, although rare, have the largest rate of not returning the loan (11%). The people with Academic degree have less than 2% not-repayment rate.\n"
   ]
  },
  {
   "metadata": {
    "_uuid": "c3a7519eaab58b6545282f2a551bf4a9002a5887"
   },
   "cell_type": "markdown",
   "source": [
    "### Type of the housing of client"
   ]
  },
  {
   "metadata": {
    "_uuid": "aa9ae83eb73cb3e058b5afea91c64a0aaccb88e2",
    "trusted": false,
    "collapsed": true
   },
   "cell_type": "code",
   "source": [
    "plot_stats('NAME_HOUSING_TYPE',True)"
   ],
   "execution_count": null,
   "outputs": []
  },
  {
   "metadata": {
    "_uuid": "09a9338c8cd6c2d513288753dddece4390a01ffd"
   },
   "cell_type": "markdown",
   "source": [
    "Over 250,000 applicants for credits registered their housing as House/apartment. Following categories have a very small number of clients (With parents, Municipal appartment).\n",
    "\n",
    "From these categories, *Rented apartment* and *With parents* have higher than 10% not-repayment rate."
   ]
  },
  {
   "metadata": {
    "_uuid": "2b4424b3692a60ee09cd65e7c244196a0031f01e"
   },
   "cell_type": "markdown",
   "source": [
    "### Total income distribution\n",
    "\n",
    "Let's plot the distribution of total income for the clients."
   ]
  },
  {
   "metadata": {
    "_uuid": "b2e8acc9477806b4728e270e1fb1cd024ef64430",
    "collapsed": true,
    "trusted": false
   },
   "cell_type": "code",
   "source": [
    "# Plot distribution of one feature\n",
    "def plot_distribution(feature,color):\n",
    "    plt.figure(figsize=(10,6))\n",
    "    plt.title(\"Distribution of %s\" % feature)\n",
    "    sns.distplot(application_train[feature].dropna(),color=color, kde=True,bins=100)\n",
    "    plt.show()   "
   ],
   "execution_count": null,
   "outputs": []
  },
  {
   "metadata": {
    "collapsed": true,
    "trusted": false,
    "_uuid": "741c2867a88087fe0bfd74f212f9533ddb6cbd13"
   },
   "cell_type": "code",
   "source": [
    "# Plot distribution of multiple features, with TARGET = 1/0 on the same graph\n",
    "def plot_distribution_comp(var,nrow=2):\n",
    "    \n",
    "    i = 0\n",
    "    t1 = application_train.loc[application_train['TARGET'] != 0]\n",
    "    t0 = application_train.loc[application_train['TARGET'] == 0]\n",
    "\n",
    "    sns.set_style('whitegrid')\n",
    "    plt.figure()\n",
    "    fig, ax = plt.subplots(nrow,2,figsize=(12,6*nrow))\n",
    "\n",
    "    for feature in var:\n",
    "        i += 1\n",
    "        plt.subplot(nrow,2,i)\n",
    "        sns.kdeplot(t1[feature], bw=0.5,label=\"TARGET = 1\")\n",
    "        sns.kdeplot(t0[feature], bw=0.5,label=\"TARGET = 0\")\n",
    "        plt.ylabel('Density plot', fontsize=12)\n",
    "        plt.xlabel(feature, fontsize=12)\n",
    "        locs, labels = plt.xticks()\n",
    "        plt.tick_params(axis='both', which='major', labelsize=12)\n",
    "    plt.show();"
   ],
   "execution_count": null,
   "outputs": []
  },
  {
   "metadata": {
    "_uuid": "a6909ed695bfa3b683218ab6ed5154c23106218d",
    "trusted": false,
    "collapsed": true
   },
   "cell_type": "code",
   "source": [
    "plot_distribution('AMT_INCOME_TOTAL','green')\n"
   ],
   "execution_count": null,
   "outputs": []
  },
  {
   "metadata": {
    "_uuid": "49165194e4633f4263b92fc9bc2b106689152635"
   },
   "cell_type": "markdown",
   "source": [
    "### Credit distribution\n",
    "\n",
    "Let's plot the credit distribution."
   ]
  },
  {
   "metadata": {
    "_uuid": "72790c4b0da42da638070ad588c72c60a3234902",
    "trusted": false,
    "collapsed": true
   },
   "cell_type": "code",
   "source": [
    "plot_distribution('AMT_CREDIT','blue')"
   ],
   "execution_count": null,
   "outputs": []
  },
  {
   "metadata": {
    "_uuid": "5cb0a211938168cd1b0d897ef54a2d273c887de4"
   },
   "cell_type": "markdown",
   "source": [
    "### Annuity distribution\n",
    "\n",
    "Let's plot the annuity distribution."
   ]
  },
  {
   "metadata": {
    "_uuid": "d10830d3ed1ad6fead28b1d8a183caf6d78e9ac0",
    "trusted": false,
    "collapsed": true
   },
   "cell_type": "code",
   "source": [
    "plot_distribution('AMT_ANNUITY','tomato')"
   ],
   "execution_count": null,
   "outputs": []
  },
  {
   "metadata": {
    "_uuid": "26a011129ad42759957c2866851810a72453c362"
   },
   "cell_type": "markdown",
   "source": [
    "### Goods price\n",
    "\n",
    "Let's plot the good price distribution."
   ]
  },
  {
   "metadata": {
    "_uuid": "ba6b94a2167f67862a6a4b1b37c7eb5f855aa11c",
    "trusted": false,
    "collapsed": true
   },
   "cell_type": "code",
   "source": [
    "plot_distribution('AMT_GOODS_PRICE','brown')"
   ],
   "execution_count": null,
   "outputs": []
  },
  {
   "metadata": {
    "_uuid": "16d516d2b239f2efe0e21f1ecf45824456ea6637"
   },
   "cell_type": "markdown",
   "source": [
    "### Days from birth distribution\n",
    "\n",
    "Let's plot the distribution number of days from birth."
   ]
  },
  {
   "metadata": {
    "_uuid": "d76b37f971aa94bb9876ea49b7bd9ab1c1e3ad20",
    "trusted": false,
    "collapsed": true
   },
   "cell_type": "code",
   "source": [
    "plot_distribution('DAYS_BIRTH','blue')"
   ],
   "execution_count": null,
   "outputs": []
  },
  {
   "metadata": {
    "_uuid": "029ebc4b744b586e860fd1395bbbb3f303021aa0"
   },
   "cell_type": "markdown",
   "source": [
    "The negative value means that the date of birth is in the past. The age range is between approximative 20 and 68 years."
   ]
  },
  {
   "metadata": {
    "_uuid": "1143f9093f5c3cbd49dd3744d56886322583ff6d"
   },
   "cell_type": "markdown",
   "source": [
    "### Days employed distribution\n",
    "\n",
    "Let's represent the distribution of number of days employed."
   ]
  },
  {
   "metadata": {
    "_uuid": "2fe4a97094963068776a94a03602c8ffcabd2de6",
    "trusted": false,
    "collapsed": true
   },
   "cell_type": "code",
   "source": [
    "plot_distribution('DAYS_EMPLOYED','red')"
   ],
   "execution_count": null,
   "outputs": []
  },
  {
   "metadata": {
    "_uuid": "b3af1570ec2a57b17569ffae7f46577efdc36b60"
   },
   "cell_type": "markdown",
   "source": [
    "The negative values means *Days since employed* and most probably these negative values means *Unemployed*. It is not clear what will be the meaning of the very large numbers at the far end (it is not realistic such a large set of people employed more than 100 years).\n"
   ]
  },
  {
   "metadata": {
    "_uuid": "27d89bb2d98b5be12005a11641473d34d32c4f1e"
   },
   "cell_type": "markdown",
   "source": [
    "### Days of registration distribution\n",
    "\n",
    "Let's plot the distribution of `DAYS_REGISTRATION`."
   ]
  },
  {
   "metadata": {
    "_uuid": "e87ec45e77c76e2779550ea81d61723043ccf7b9",
    "trusted": false,
    "collapsed": true
   },
   "cell_type": "code",
   "source": [
    "plot_distribution('DAYS_REGISTRATION','green')"
   ],
   "execution_count": null,
   "outputs": []
  },
  {
   "metadata": {
    "_uuid": "fbaa6ab1fa882333a43c19351635ae6f598e9116"
   },
   "cell_type": "markdown",
   "source": [
    "### Days ID publish distribution\n",
    "\n",
    "Let's plot the distribution of DAYS_ID_PUBLISH."
   ]
  },
  {
   "metadata": {
    "_uuid": "2483628d2c635e9cbb826e9d93f41073b708b8a2",
    "trusted": false,
    "collapsed": true
   },
   "cell_type": "code",
   "source": [
    "plot_distribution('DAYS_ID_PUBLISH','blue')"
   ],
   "execution_count": null,
   "outputs": []
  },
  {
   "metadata": {
    "_uuid": "1e574578c15c0a3c921debe4e5a6fe036c7665de"
   },
   "cell_type": "markdown",
   "source": [
    "### Comparison of interval values with TARGET = 1 and TARGET = 0\n",
    "\n",
    "Let's compare the distribution of interval values ploted above for values of **TARGET = 1** and **TARGET = 0**"
   ]
  },
  {
   "metadata": {
    "trusted": false,
    "collapsed": true,
    "_uuid": "d915633070cbff9b8890b17dd8b75ba2c91be514"
   },
   "cell_type": "code",
   "source": [
    "var = ['AMT_ANNUITY','AMT_GOODS_PRICE','DAYS_EMPLOYED', 'DAYS_REGISTRATION','DAYS_BIRTH','DAYS_ID_PUBLISH']\n",
    "plot_distribution_comp(var,nrow=3)"
   ],
   "execution_count": null,
   "outputs": []
  },
  {
   "metadata": {
    "_uuid": "3fa1d884f240002a5ae2c7904413ae175b03f157"
   },
   "cell_type": "markdown",
   "source": [
    "### Region registered not live region and not work region\n",
    "\n",
    "Let's represent the values of region registered and not live region and region registered and not work region."
   ]
  },
  {
   "metadata": {
    "_uuid": "91f918de284aca43aebb4812770cb1e24900a8ec",
    "trusted": false,
    "collapsed": true
   },
   "cell_type": "code",
   "source": [
    "plot_stats('REG_REGION_NOT_LIVE_REGION')\n",
    "plot_stats('REG_REGION_NOT_WORK_REGION')"
   ],
   "execution_count": null,
   "outputs": []
  },
  {
   "metadata": {
    "_uuid": "5e961c681f427fc3569685ee070eb3ad283b3628"
   },
   "cell_type": "markdown",
   "source": [
    "Very few people are registered in not live or not work region. Generally, the rate of not return is slightly larger for these cases than in the rest (slightly above 8% compared with approx. 8%)"
   ]
  },
  {
   "metadata": {
    "_uuid": "3534fa73238111ca977f8e8f2014f3e7cf490580"
   },
   "cell_type": "markdown",
   "source": [
    "### City registered not live city and not work city\n",
    "\n",
    "Let's represent the values of City registered not live city and not work city."
   ]
  },
  {
   "metadata": {
    "_uuid": "57f52e06166d2fc3ffeed2e1e9b7f39a809981a4",
    "trusted": false,
    "collapsed": true
   },
   "cell_type": "code",
   "source": [
    "plot_stats('REG_CITY_NOT_LIVE_CITY')\n",
    "plot_stats('REG_CITY_NOT_WORK_CITY')"
   ],
   "execution_count": null,
   "outputs": []
  },
  {
   "metadata": {
    "_uuid": "1d94cfb3e62f7f9eecab8a58882b932b4ce84430"
   },
   "cell_type": "markdown",
   "source": [
    "Generally, much more people register in the city they live or work (a larger number register differently in the working city than living city).\n",
    "\n",
    "The ones that register in different city than the working or living city are more frequently not-repaying the loans than the ones that register same city (work 11% or live 12%)."
   ]
  },
  {
   "metadata": {
    "_uuid": "5ec869d92997860884dcd646dbd29797e126f26f"
   },
   "cell_type": "markdown",
   "source": [
    "<a href=\"#0\"><font size=\"1\">Go to top</font></a>\n",
    "\n",
    "\n",
    "## <a id=\"42\">Bureau data</a>\n",
    "\n",
    "Bureau data contains all client's previous credits provided by other financial institutions that were reported to Credit Bureau (for clients who have a loan in the sample). For every loan in the sample, there are as many rows as number of credits the client had in Credit Bureau before the application date. **SK_ID_CURR** is the key connecting *application_train*|*test* data with *bureau* data.\n",
    "\n",
    "Let's merge *application_train* with *bureau*."
   ]
  },
  {
   "metadata": {
    "_uuid": "f1805697225e6dcef917222599c5d91c5d84a91c",
    "collapsed": true,
    "trusted": false
   },
   "cell_type": "code",
   "source": [
    "application_bureau_train = application_train"
   ],
   "execution_count": null,
   "outputs": []
  },
  {
   "metadata": {
    "_uuid": "9f7bd2adcadd87b6bb227b618790aace373b5bf6",
    "trusted": false,
    "collapsed": true
   },
   "cell_type": "code",
   "source": "print(\"The resulting dataframe `application_bureau_train` has \",application_bureau_train.shape[0],\" rows and \", \n      application_bureau_train.shape[1],\" columns.\")",
   "execution_count": null,
   "outputs": []
  },
  {
   "metadata": {
    "_uuid": "5446cc73ff2b0afc1bac6553b742af5f60a62ae6"
   },
   "cell_type": "markdown",
   "source": "Let's now analize the *application_bureau_train* data."
  },
  {
   "metadata": {
    "_uuid": "6359f917bdb9fd8effc87a8dae559b9f358bc3b8",
    "collapsed": true,
    "trusted": false
   },
   "cell_type": "code",
   "source": "def plot_b_stats(feature,label_rotation=False,horizontal_layout=True):\n    temp = application_bureau_train[feature].value_counts()\n    df1 = pd.DataFrame({feature: temp.index,'Number of contracts': temp.values})\n\n    # Calculate the percentage of target=1 per category value\n    cat_perc = application_bureau_train[[feature, 'TARGET']].groupby([feature],as_index=False).mean()\n    cat_perc.sort_values(by='TARGET', ascending=False, inplace=True)\n    \n    if(horizontal_layout):\n        fig, (ax1, ax2) = plt.subplots(ncols=2, figsize=(12,6))\n    else:\n        fig, (ax1, ax2) = plt.subplots(nrows=2, figsize=(12,14))\n    sns.set_color_codes(\"pastel\")\n    s = sns.barplot(ax=ax1, x = feature, y=\"Number of contracts\",data=df1)\n    if(label_rotation):\n        s.set_xticklabels(s.get_xticklabels(),rotation=90)\n    \n    s = sns.barplot(ax=ax2, x = feature, y='TARGET', order=cat_perc[feature], data=cat_perc)\n    if(label_rotation):\n        s.set_xticklabels(s.get_xticklabels(),rotation=90)\n    plt.ylabel('Percent of target with value 1 [%]', fontsize=10)\n    plt.tick_params(axis='both', which='major', labelsize=10)\n\n    plt.show();",
   "execution_count": null,
   "outputs": []
  },
  {
   "metadata": {
    "_uuid": "6a9b4c939cfa7f7a0fd1b41a2f371bf2194febbe"
   },
   "cell_type": "markdown",
   "source": "### Credit status\n\nLet's see the credit status distribution. We show first the number of credits per category (could be *Closed*, *Active*, *Sold* and *Bad debt*)."
  },
  {
   "metadata": {
    "_uuid": "9bdb70d2d488699b848bf8d8656b96e63053ed33",
    "trusted": false,
    "collapsed": true
   },
   "cell_type": "code",
   "source": "plot_b_stats('CREDIT_ACTIVE')",
   "execution_count": null,
   "outputs": []
  },
  {
   "metadata": {
    "_uuid": "41b45d8ddac588bb80d0eddbe31a973050e024a0"
   },
   "cell_type": "markdown",
   "source": "Most of the credits registered at the Credit Bureau are in the status *Closed* (~900K). On the second place are the *Active* credits ( a bit under 600K). *Sold* and *Bad debt* are just a few.\n\nIn the same time, as percent having **TARGET = 1** from total number per category, clients with credits registered to the Credit Bureau with *Bad debt* have 20%  default on the currrent applications. \n\n\nClients with credits *Sold*, *Active* and *Closed* have percent of **TARGET == 1** (default credit) equal or less than 10% (10% being the rate overall). The smallest rate of default credit have the clients with credits registered at the Credit Bureau with *Closed* credits.\n\nThat means the former registered credit history (as registered at Credit Bureau) is a strong predictor for the dafault credit, since the percent of applications defaulting with a history of *Bad debt* is twice as large as for *Sold* or *Active* and almost three times larger as for *Closed*."
  },
  {
   "metadata": {
    "_uuid": "71f743ff3760277886b989b09780b794b8f4ed1a"
   },
   "cell_type": "markdown",
   "source": "### Credit currency\n\nLet's check now the number of credits registered at the Credit Bureau with different currencies. Also, let's check procent of defaulting credits (for current applications) per different currencies of credits credits registered at the Credit Bureau in the past for the same client."
  },
  {
   "metadata": {
    "_uuid": "cd03f302c803b755043191c1ede895de16d37227",
    "trusted": false,
    "collapsed": true
   },
   "cell_type": "code",
   "source": "plot_b_stats('CREDIT_CURRENCY')",
   "execution_count": null,
   "outputs": []
  },
  {
   "metadata": {
    "_uuid": "01ad12a822833881d19f1767d383955cada6fe07"
   },
   "cell_type": "markdown",
   "source": "Credits are mostly in *currency_1*.\n\nDepending on the currency, the percent of clients defaulting is quite different. Starting with *currency_3*, then *currency_1* and *currency_2*, the percent of clients defaulting is 11%, 8% and 5%. Percent of defaulting applications for clients that have credits registered with *currency_4* is close to 0."
  },
  {
   "metadata": {
    "_uuid": "f569d551e112965029982eb330e3118cce2178ed"
   },
   "cell_type": "markdown",
   "source": "### Credit type\n\nLet's check now the credit types for credits registered at the Credit Bureau."
  },
  {
   "metadata": {
    "_uuid": "e471ce759d4111d186237b5648d3a20e615fb79e",
    "trusted": false,
    "collapsed": true
   },
   "cell_type": "code",
   "source": "plot_b_stats('CREDIT_TYPE', True, True)",
   "execution_count": null,
   "outputs": []
  },
  {
   "metadata": {
    "_uuid": "044985b11147f883bddc087136c70410d63b70d7"
   },
   "cell_type": "markdown",
   "source": "Majority of historical credits registered at the Credit Bureau are *Consumer credit* and *Credit card*. Smaller number of credits are *Car loan*, *Mortgage* and *Microloan*.\n\nLooking now to the types of historical credits registered at the Credit Bureau, there are few types with a high percent of current credit defaults, as following:  \n* *Loan for the purchase of equipment* - with over 20% current credits defaults;  \n* *Microloan* - with over 20% current credits defaults;  \n* *Loan for working capital replenishement* - with over 12% current credits defaults.  \n"
  },
  {
   "metadata": {
    "_uuid": "ab5bbd3b4c60abf6aec0508950bff3190fc0aa3c"
   },
   "cell_type": "markdown",
   "source": "### Duration of credit (DAYS_CREDIT)\n\nLet's check the distribution of number of days for the credit (registered at the Credit bureau).\n"
  },
  {
   "metadata": {
    "_uuid": "6233f11876f0a549864133b0e3b604a2d335c1cc",
    "trusted": false,
    "collapsed": true
   },
   "cell_type": "code",
   "source": "def plot_b_distribution(feature,color):\n    plt.figure(figsize=(10,6))\n    plt.title(\"Distribution of %s\" % feature)\n    sns.distplot(application_bureau_train[feature].dropna(),color=color, kde=True,bins=100)\n    plt.show() \n    \nplot_b_distribution('DAYS_CREDIT','green')",
   "execution_count": null,
   "outputs": []
  },
  {
   "metadata": {
    "_uuid": "8b087a703039eb6eaeee80b8a5e90e76aac95ab6"
   },
   "cell_type": "markdown",
   "source": "The credit duration (in days) is ranging between less than 3000 days (with a local sadle around 2000 days) and with a increasing frequence for shorter number of days - and with a peak around 300 days (or less than one year)."
  },
  {
   "metadata": {
    "_uuid": "d76ec51f4775d12aaac1d915e5a4cc2e1b125c00"
   },
   "cell_type": "markdown",
   "source": "### Credit overdue (CREDIT_DAY_OVERDUE)\n\nLet's check the distribution of number of days for the credit overdue (registered at the Credit bureau)."
  },
  {
   "metadata": {
    "_uuid": "002212a6a82b14d92a4b8bd74bf33ccdb762c284",
    "trusted": false,
    "collapsed": true
   },
   "cell_type": "code",
   "source": "plot_b_distribution('CREDIT_DAY_OVERDUE','red')",
   "execution_count": null,
   "outputs": []
  },
  {
   "metadata": {
    "_uuid": "aa1882d59166a57375af2f9b78b05286d068fa20"
   },
   "cell_type": "markdown",
   "source": "Most of the credits have 0 or close to 0 days overdue. The maximum number of credit days overdue is ~3000 days."
  },
  {
   "metadata": {
    "_uuid": "c18b2015ac86150131dba4eded90e324ccc3fdfe"
   },
   "cell_type": "markdown",
   "source": "### Credit sum  (AMT_CREDIT_SUM)"
  },
  {
   "metadata": {
    "_uuid": "364585a95f9573dd127f8d9dadeae220202749cc",
    "trusted": false,
    "collapsed": true
   },
   "cell_type": "code",
   "source": "plot_b_distribution('AMT_CREDIT_SUM','blue')",
   "execution_count": null,
   "outputs": []
  },
  {
   "metadata": {
    "_uuid": "5e0b64f5634df8a27553dc62412cfa219feba1e3"
   },
   "cell_type": "markdown",
   "source": "The distribution of the AMT_CREDIT_SUM shows a concentration of the credits for the lower credit sum range.\n\nLet's remove the outliers so that we can see better the distribution around 0.\n\nLet's introduce a function to identify and filter the outliers (with a predefined threshold). \n\nThen, let's also modify the function to display a distribution, this time by using the function to filter the outliers."
  },
  {
   "metadata": {
    "_uuid": "780d14366fa00fb7a2d714f5538e1390c18cc29d",
    "trusted": false,
    "collapsed": true
   },
   "cell_type": "code",
   "source": "# Source: https://stackoverflow.com/questions/11882393/matplotlib-disregard-outliers-when-plotting (see references)\n\ndef is_outlier(points, thresh=3.5):\n    \"\"\"\n    Returns a boolean array with True if points are outliers and False \n    otherwise.\n\n    Parameters:\n    -----------\n        points : An numobservations by numdimensions array of observations\n        thresh : The modified z-score to use as a threshold. Observations with\n            a modified z-score (based on the median absolute deviation) greater\n            than this value will be classified as outliers.\n\n    Returns:\n    --------\n        mask : A numobservations-length boolean array.\n\n    References:\n    ----------\n        Boris Iglewicz and David Hoaglin (1993), \"Volume 16: How to Detect and\n        Handle Outliers\", The ASQC Basic References in Quality Control:\n        Statistical Techniques, Edward F. Mykytka, Ph.D., Editor. \n    \"\"\"\n    if len(points.shape) == 1:\n        points = points[:,None]\n    median = np.median(points, axis=0)\n    diff = np.sum((points - median)**2, axis=-1)\n    diff = np.sqrt(diff)\n    med_abs_deviation = np.median(diff)\n\n    modified_z_score = 0.6745 * diff / med_abs_deviation\n\n    return modified_z_score > thresh\n\ndef plot_b_o_distribution(feature,color):\n    plt.figure(figsize=(10,6))\n    plt.title(\"Distribution of %s\" % feature)\n    x = application_bureau_train[feature].dropna()\n    filtered = x[~is_outlier(x)]\n    sns.distplot(filtered,color=color, kde=True,bins=100)\n    plt.show() \n\nplot_b_o_distribution('AMT_CREDIT_SUM','blue')",
   "execution_count": null,
   "outputs": []
  },
  {
   "metadata": {
    "_uuid": "a56a05c2048d5e803af5d97459bd774d8cc14364"
   },
   "cell_type": "markdown",
   "source": "We can observe that the distribution function shows several peaks and the maximum concentration of the values is around 20,000 but we also see several other peaks at higher values."
  },
  {
   "metadata": {
    "_uuid": "f34bdbf847ce8ee80dc5e38ec794641b44cdaa7d"
   },
   "cell_type": "markdown",
   "source": "### Credit sum limit (AMT_CREDIT_SUM_LIMIT)"
  },
  {
   "metadata": {
    "_uuid": "91d6084e10a348c52d89c8c26a0c4b6790d615f8",
    "trusted": false,
    "collapsed": true
   },
   "cell_type": "code",
   "source": "plot_b_distribution('AMT_CREDIT_SUM_LIMIT','blue')",
   "execution_count": null,
   "outputs": []
  },
  {
   "metadata": {
    "_uuid": "7f7a9481801372ccd733e65ad18da226b2ff37bc"
   },
   "cell_type": "markdown",
   "source": "### Comparison of interval values with TARGET = 1 and TARGET = 0\n\nLet's compare the distribution of interval values ploted above for values of **TARGET = 1** and **TARGET = 0**"
  },
  {
   "metadata": {
    "collapsed": true,
    "trusted": false,
    "_uuid": "95a4c5e8a442cea921a3caf3ffd8aa78479f08cc"
   },
   "cell_type": "code",
   "source": "# Plot distribution of multiple features, with TARGET = 1/0 on the same graph\ndef plot_b_distribution_comp(var,nrow=2):\n    \n    i = 0\n    t1 = application_bureau_train.loc[application_bureau_train['TARGET'] != 0]\n    t0 = application_bureau_train.loc[application_bureau_train['TARGET'] == 0]\n\n    sns.set_style('whitegrid')\n    plt.figure()\n    fig, ax = plt.subplots(nrow,2,figsize=(12,6*nrow))\n\n    for feature in var:\n        i += 1\n        plt.subplot(nrow,2,i)\n        sns.kdeplot(t1[feature], bw=0.5,label=\"TARGET = 1\")\n        sns.kdeplot(t0[feature], bw=0.5,label=\"TARGET = 0\")\n        plt.ylabel('Density plot', fontsize=12)\n        plt.xlabel(feature, fontsize=12)\n        locs, labels = plt.xticks()\n        plt.tick_params(axis='both', which='major', labelsize=12)\n    plt.show();",
   "execution_count": null,
   "outputs": []
  },
  {
   "metadata": {
    "trusted": false,
    "collapsed": true,
    "_uuid": "c36c1a3fb1f7c0df2208b57302a9a41c7043cf5d"
   },
   "cell_type": "code",
   "source": "var = ['DAYS_CREDIT','CREDIT_DAY_OVERDUE','AMT_CREDIT_SUM','AMT_CREDIT_SUM_LIMIT']\n\nplot_b_distribution_comp(var, nrow=2)",
   "execution_count": null,
   "outputs": []
  },
  {
   "metadata": {
    "_uuid": "a177e06cc452c26a3a8899d686c18d9c105ca804"
   },
   "cell_type": "markdown",
   "source": "<a href=\"#0\"><font size=\"1\">Go to top</font></a>\n\n## <a id=\"43\">Previous application data</a>\n\n\nThe dataframe *previous_application* contains information about all previous applications for Home Credit loans of clients who have loans in the sample. There is one row for each previous application related to loans in our data sample. **SK_ID_CURR** is the key connecting *application_train*|*test* data with *previous_application* data.\n\nLet's merge *application_train* with *previous_application*."
  },
  {
   "metadata": {
    "collapsed": true,
    "trusted": false,
    "_uuid": "66eed8cb3cb82d5565732753391c96c071807f4d"
   },
   "cell_type": "code",
   "source": "application_prev_train = application_train.merge(previous_application, left_on='SK_ID_CURR', right_on='SK_ID_CURR', how='inner')",
   "execution_count": null,
   "outputs": []
  },
  {
   "metadata": {
    "trusted": false,
    "collapsed": true,
    "_uuid": "235a6398b97ee1997319a28e10b66c01c3631e62"
   },
   "cell_type": "code",
   "source": "print(\"The resulting dataframe `application_prev_train` has \",application_prev_train.shape[0],\" rows and \", \n      application_prev_train.shape[1],\" columns.\")",
   "execution_count": null,
   "outputs": []
  },
  {
   "metadata": {
    "collapsed": true,
    "trusted": false,
    "_uuid": "98d40af16c009ab59a2c1f02d63495e7856051e1"
   },
   "cell_type": "code",
   "source": "def plot_p_stats(feature,label_rotation=False,horizontal_layout=True):\n    temp = application_prev_train[feature].value_counts()\n    df1 = pd.DataFrame({feature: temp.index,'Number of contracts': temp.values})\n\n    # Calculate the percentage of target=1 per category value\n    cat_perc = application_prev_train[[feature, 'TARGET']].groupby([feature],as_index=False).mean()\n    cat_perc.sort_values(by='TARGET', ascending=False, inplace=True)\n    \n    if(horizontal_layout):\n        fig, (ax1, ax2) = plt.subplots(ncols=2, figsize=(12,6))\n    else:\n        fig, (ax1, ax2) = plt.subplots(nrows=2, figsize=(12,14))\n    sns.set_color_codes(\"pastel\")\n    s = sns.barplot(ax=ax1, x = feature, y=\"Number of contracts\",data=df1)\n    if(label_rotation):\n        s.set_xticklabels(s.get_xticklabels(),rotation=90)\n    \n    s = sns.barplot(ax=ax2, x = feature, y='TARGET', order=cat_perc[feature], data=cat_perc)\n    if(label_rotation):\n        s.set_xticklabels(s.get_xticklabels(),rotation=90)\n    plt.ylabel('Percent of target with value 1 [%]', fontsize=10)\n    plt.tick_params(axis='both', which='major', labelsize=10)\n\n    plt.show();",
   "execution_count": null,
   "outputs": []
  },
  {
   "metadata": {
    "_uuid": "235dddf25e8a2569a6190fe2abc6b516f1f398e2"
   },
   "cell_type": "markdown",
   "source": "<a href=\"#0\"><font size=\"1\">Go to top</font></a>\n\n\n## <a id=\"44\">Contract type</a>\n"
  },
  {
   "metadata": {
    "trusted": false,
    "collapsed": true,
    "_uuid": "96a8cba1ddcf46faa5cff9a8c5c689553dfb3f05"
   },
   "cell_type": "code",
   "source": "plot_p_stats('NAME_CONTRACT_TYPE_y')",
   "execution_count": null,
   "outputs": []
  },
  {
   "metadata": {
    "_uuid": "2313c7ed41f77bf3ba257c1f8cf414f3fdebd186"
   },
   "cell_type": "markdown",
   "source": "There are three types of contract in the previous application data: *Cash loans*, *Consumer loans*, *Revolving loans*. *Cash loans* and *Consumer loans* are almost the same number (~600K) whilst *Revolving loans* are ~150K.\n\nThe percent of defauls loans for clients with previous applications is different for the type of previous applications contracts, decreasing from ~10% for *Revolving loans*, then ~ 9.5% for *Cash loans* and ~8% for *Consumer loans*."
  },
  {
   "metadata": {
    "_uuid": "5dd184211fb7392d4992c31b8bb036f518893f7e"
   },
   "cell_type": "markdown",
   "source": "### Cash loan purpose\n\nLet's look to the cash loan purpose, in the case of cash loans."
  },
  {
   "metadata": {
    "trusted": false,
    "collapsed": true,
    "_uuid": "585c122b332822ac5faa12418b7caa1d69619741"
   },
   "cell_type": "code",
   "source": "plot_p_stats('NAME_CASH_LOAN_PURPOSE', True, True)",
   "execution_count": null,
   "outputs": []
  },
  {
   "metadata": {
    "_uuid": "73638d1e2309ce726e227a5fed03a51efd3a24b3"
   },
   "cell_type": "markdown",
   "source": "Besides not identifed/not available categories, *Repairs*, *Other*, *Urgent needs*, *Buying a used car*, *Building a house or an annex* accounts for the largest number of contracts.\n\n\nIn terms of percent of defaults for current applications in the sample, clients with history of previous applications have largest percents of defaults when in their history are previous applications for cash loans for *Refusal to name the goal* - ~23% (which makes a lot of sense), *Hobby* (20%), *Car repairs* (~18%)."
  },
  {
   "metadata": {
    "_uuid": "202a136e0159989b8fd40d4c477328670ed1b1c5"
   },
   "cell_type": "markdown",
   "source": "### Contract status\n\nLet's look to the contract status."
  },
  {
   "metadata": {
    "trusted": false,
    "collapsed": true,
    "_uuid": "b0091d0c028d36fc5e6527cd4717dc021835eebf"
   },
   "cell_type": "code",
   "source": "plot_p_stats('NAME_CONTRACT_STATUS', True, True)",
   "execution_count": null,
   "outputs": []
  },
  {
   "metadata": {
    "_uuid": "0e0aa837fe4e4b275e46d760b52a1de3190aebd3"
   },
   "cell_type": "markdown",
   "source": "Most previous applications contract statuses are *Approved* (~850K), *Canceled* and *Refused* (~240K). There are only ~20K in status *Unused offer*.\n\nIn terms of percent of defaults for current applications in the sample, clients with history of previous applications have largest percents of defaults when in their history contract statuses are *Refused* (12%), followed by *Canceled* (9%), *Unused offer* (~8%) and *Approved* (lowest percent of defaults in current applictions, with less than 8%)."
  },
  {
   "metadata": {
    "_uuid": "5c374c9cd86fc3943583159b5726a2ffc601f730"
   },
   "cell_type": "markdown",
   "source": "### Payment type\n\nLet's check the payment type."
  },
  {
   "metadata": {
    "trusted": false,
    "collapsed": true,
    "_uuid": "fd4e9893d2335f3a9869210a1bdc1b302f22d11d"
   },
   "cell_type": "code",
   "source": "plot_p_stats('NAME_PAYMENT_TYPE', True, True)",
   "execution_count": null,
   "outputs": []
  },
  {
   "metadata": {
    "_uuid": "8471d520a4908b1950db60dd29794e2fa122b918"
   },
   "cell_type": "markdown",
   "source": "Most of the previous applications were paid with *Cash through the bank* (~850K). Payments using *Non-cash from your account* or *Cashless from the account of the employer* are much rare. These three types of payments in previous applications results in allmost the same percent of defaults for current clients (~8% each)."
  },
  {
   "metadata": {
    "_uuid": "ebc790a6a284166fda46be328a80d8df5f695c4f"
   },
   "cell_type": "markdown",
   "source": "### Client type\n\nLet's check the client type for previous applications."
  },
  {
   "metadata": {
    "trusted": false,
    "collapsed": true,
    "_uuid": "a8c1679c4b2bc09d30dd943228fad94537c6c613"
   },
   "cell_type": "code",
   "source": "plot_p_stats('NAME_CLIENT_TYPE')",
   "execution_count": null,
   "outputs": []
  },
  {
   "metadata": {
    "_uuid": "b6c2cfcedd5c66ee8343b264b86084d9c9979450"
   },
   "cell_type": "markdown",
   "source": "Most of the previous applications have client type *Repeater* (~1M), just over 200K are *New* and ~100K are *Refreshed*.\n\nIn terms of default percent for current applications of clients with history of previous applications, current clients with previous applications have values of percent of defaults ranging from from 8.5%, 8.25% and 7% corresponding to client types in the past *New*, *Repeater* and *Refreshed*, respectivelly."
  },
  {
   "metadata": {
    "_uuid": "23cea6aab4e960546d358cd08dcfbc43d8bc9da0"
   },
   "cell_type": "markdown",
   "source": "<a href=\"#0\"><font size=\"1\">Go to top</font></a>\n\n# <a id=\"5\">References</a>\n\n[1] Home Credit Group, http://www.homecredit.net/  \n[2] Home Credit, Wikipedia page, https://en.wikipedia.org/wiki/Home_Credit   \n[3] Home Credit, Financial report, http://www.homecredit.net/~/media/Files/H/Home-Credit-Group/documents/reports/2016/hcbv-ar-2015.pdf   \n[4] Function to disregard outliers when plotting, using matplotlib, https://stackoverflow.com/questions/11882393/matplotlib-disregard-outliers-when-plotting   \n\n\n\n"
  }
 ],
 "metadata": {
  "kernelspec": {
   "display_name": "Python 3",
   "language": "python",
   "name": "python3"
  },
  "language_info": {
   "codemirror_mode": {
    "name": "ipython",
    "version": 3
   },
   "file_extension": ".py",
   "mimetype": "text/x-python",
   "name": "python",
   "nbconvert_exporter": "python",
   "pygments_lexer": "ipython3",
   "version": "3.6.2"
  },
  "pycharm": {
   "stem_cell": {
    "cell_type": "raw",
    "source": [],
    "metadata": {
     "collapsed": false
    }
   }
  }
 },
 "nbformat": 4,
 "nbformat_minor": 1
}