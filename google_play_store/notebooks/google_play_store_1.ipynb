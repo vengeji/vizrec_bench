{
 "cells": [
  {
   "metadata": {
    "_uuid": "02a0195d31d0ee976d58762e82529d00088037f8"
   },
   "cell_type": "raw",
   "source": [
    "<script>\n",
    "  function code_toggle() {\n",
    "    if (code_shown){\n",
    "      $('div.input').hide('500');\n",
    "      $('#toggleButton').val('Show Code')\n",
    "    } else {\n",
    "      $('div.input').show('500');\n",
    "      $('#toggleButton').val('Hide Code')\n",
    "    }\n",
    "    code_shown = !code_shown\n",
    "  }\n",
    "\n",
    "  $( document ).ready(function(){\n",
    "    code_shown=false;\n",
    "    $('div.input').hide()\n",
    "  });\n",
    "</script>\n",
    "<form action=\"javascript:code_toggle()\"><input type=\"submit\" id=\"toggleButton\" value=\"Show Code\"></form>"
   ]
  },
  {
   "metadata": {
    "trusted": true,
    "_uuid": "35b1003e85bf8bd8ec29edbbf5fc15cba60dff31"
   },
   "cell_type": "code",
   "source": [
    "from IPython.display import HTML\n",
    "HTML('''\n",
    "<script>\n",
    "  function code_toggle() {\n",
    "    if (code_shown){\n",
    "      $('div.input').hide('500');\n",
    "      $('#toggleButton').val('Show Code')\n",
    "    } else {\n",
    "      $('div.input').show('500');\n",
    "      $('#toggleButton').val('Hide Code')\n",
    "    }\n",
    "    code_shown = !code_shown\n",
    "  }\n",
    "\n",
    "  $( document ).ready(function(){\n",
    "    code_shown=false;\n",
    "    $('div.input').hide()\n",
    "  });\n",
    "</script>\n",
    "<form action=\"javascript:code_toggle()\"><input type=\"submit\" id=\"toggleButton\" value=\"Show Code\"></form>''')"
   ],
   "execution_count": null,
   "outputs": []
  },
  {
   "metadata": {
    "trusted": true,
    "_uuid": "934617411d9a90cb1908fa39ef19182a9f687bcd"
   },
   "cell_type": "code",
   "source": [
    "%matplotlib inline\n",
    "import pandas as pd\n",
    "import numpy as np\n",
    "from matplotlib import pyplot as plt\n",
    "plt.style.use('ggplot')\n",
    "\n",
    "import seaborn as sns # for making plots with seaborn\n",
    "color = sns.color_palette()\n",
    "sns.set(rc={'figure.figsize':(25,15)})\n",
    "\n",
    "import plotly\n",
    "# connected=True means it will download the latest version of plotly javascript library.\n",
    "plotly.offline.init_notebook_mode(connected=True)\n",
    "import plotly.graph_objs as go\n",
    "\n",
    "import plotly.figure_factory as ff\n",
    "import cufflinks as cf\n",
    "\n",
    "\n",
    "import warnings\n",
    "warnings.filterwarnings('ignore')"
   ],
   "execution_count": null,
   "outputs": []
  },
  {
   "metadata": {
    "_uuid": "309b2c5ec034d00ef7af86385fd237de3e16803a"
   },
   "cell_type": "markdown",
   "source": [
    "# Sneak peek at the dataset"
   ]
  },
  {
   "metadata": {
    "trusted": true,
    "_uuid": "0e8b875458e89be19a137659c0eb584b30c5f8af"
   },
   "cell_type": "code",
   "source": [
    "\n",
    "df = pd.read_csv('../input/googleplaystore.csv')\n",
    "\n",
    "#print(df.dtypes)\n",
    "#df.loc[df.App=='Tiny Scanner - PDF Scanner App']\n",
    "# df[df.duplicated(keep='first')]\n",
    "df.drop_duplicates(subset='App', inplace=True)\n",
    "df = df[df['Android Ver'] != np.nan]\n",
    "df = df[df['Android Ver'] != 'NaN']\n",
    "df = df[df['Installs'] != 'Free']\n",
    "df = df[df['Installs'] != 'Paid']\n",
    "\n",
    "#print(len(df))"
   ],
   "execution_count": null,
   "outputs": []
  },
  {
   "metadata": {
    "trusted": true,
    "_uuid": "105881234e87222e888250ef9342b1c35286dac2"
   },
   "cell_type": "code",
   "source": [
    "print('Number of apps in the dataset : ' , len(df))\n",
    "df.sample(7)"
   ],
   "execution_count": null,
   "outputs": []
  },
  {
   "metadata": {
    "_uuid": "e59c60dd5ce8397554ee677ae075d8019eb7edb8"
   },
   "cell_type": "markdown",
   "source": [
    "## Data Cleaning\n",
    " - Convert all app sizes to MB\n",
    " - Remove '+' from 'Number of Installs' to make it numeric\n",
    " - Convert all review text to English language using Google Translator library"
   ]
  },
  {
   "metadata": {
    "trusted": true,
    "_uuid": "5c239830945537534e113d91f82f47e2c5476284"
   },
   "cell_type": "code",
   "source": [
    "\n",
    "# - Installs : Remove + and ,\n",
    "\n",
    "df['Installs'] = df['Installs'].apply(lambda x: x.replace('+', '') if '+' in str(x) else x)\n",
    "df['Installs'] = df['Installs'].apply(lambda x: x.replace(',', '') if ',' in str(x) else x)\n",
    "df['Installs'] = df['Installs'].apply(lambda x: int(x))\n",
    "#print(type(df['Installs'].values))\n"
   ],
   "execution_count": null,
   "outputs": []
  },
  {
   "metadata": {
    "trusted": true,
    "_uuid": "64ef32917e7eadb65cbf6ef76142a26a6879b9f4"
   },
   "cell_type": "code",
   "source": [
    "# - Size : Remove 'M', Replace 'k' and divide by 10^-3\n",
    "#df['Size'] = df['Size'].fillna(0)\n",
    "\n",
    "df['Size'] = df['Size'].apply(lambda x: str(x).replace('Varies with device', 'NaN') if 'Varies with device' in str(x) else x)\n",
    "\n",
    "df['Size'] = df['Size'].apply(lambda x: str(x).replace('M', '') if 'M' in str(x) else x)\n",
    "df['Size'] = df['Size'].apply(lambda x: str(x).replace(',', '') if 'M' in str(x) else x)\n",
    "df['Size'] = df['Size'].apply(lambda x: float(str(x).replace('k', '')) / 1000 if 'k' in str(x) else x)\n",
    "\n",
    "\n",
    "df['Size'] = df['Size'].apply(lambda x: float(x))\n",
    "df['Installs'] = df['Installs'].apply(lambda x: float(x))\n",
    "\n",
    "df['Price'] = df['Price'].apply(lambda x: str(x).replace('$', '') if '$' in str(x) else str(x))\n",
    "df['Price'] = df['Price'].apply(lambda x: float(x))\n",
    "\n",
    "df['Reviews'] = df['Reviews'].apply(lambda x: int(x))\n",
    "#df['Reviews'] = df['Reviews'].apply(lambda x: 'NaN' if int(x) == 0 else int(x))\n",
    "#print(df.loc[df.Size == 0.713]) #index = 3384\n",
    "#df.loc[df.col1 == '']['col2']\n",
    "\n",
    "# 0 - Free, 1 - Paid\n",
    "# df['Type'] = pd.factorize(df['Type'])[0]\n",
    "#print(df.dtypes)"
   ],
   "execution_count": null,
   "outputs": []
  },
  {
   "metadata": {
    "_uuid": "61f1c736bee72d3b29e7cd912b82b76a6d2ed2b7"
   },
   "cell_type": "markdown",
   "source": [
    "## Basic EDA"
   ]
  },
  {
   "metadata": {
    "trusted": true,
    "_uuid": "bba10aa0f7e495a1f78135f054e0243061a71bd3"
   },
   "cell_type": "code",
   "source": [
    "#print(df.dtypes)\n",
    "\n",
    "\n",
    "x = df['Rating'].dropna()\n",
    "y = df['Size'].dropna()\n",
    "z = df['Installs'][df.Installs!=0].dropna()\n",
    "p = df['Reviews'][df.Reviews!=0].dropna()\n",
    "t = df['Type'].dropna()\n",
    "price = df['Price']\n",
    "\n",
    "p = sns.pairplot(pd.DataFrame(list(zip(x, y, np.log(z), np.log10(p), t, price)), \n",
    "                        columns=['Rating','Size', 'Installs', 'Reviews', 'Type', 'Price']), hue='Type', palette=\"Set2\")"
   ],
   "execution_count": null,
   "outputs": []
  },
  {
   "metadata": {
    "_uuid": "341af02e797d359f9db0f61a0c1a706eeadc5cb5"
   },
   "cell_type": "markdown",
   "source": [
    "    This is the basic exploratory analysis to look for any evident patterns or relationships between the features. "
   ]
  },
  {
   "metadata": {
    "_uuid": "5842c5256ee12a45c51eb54fa8d9a9f05708742a"
   },
   "cell_type": "markdown",
   "source": [
    "## Android market breakdown\n",
    "Which category has the highest share of (active) apps in the market?"
   ]
  },
  {
   "metadata": {
    "trusted": true,
    "_uuid": "9e6b0e19d0f13f8899e0360738d8fd104f372fc8"
   },
   "cell_type": "code",
   "source": [
    "number_of_apps_in_category = df['Category'].value_counts().sort_values(ascending=True)\n",
    "\n",
    "data = [go.Pie(\n",
    "        labels = number_of_apps_in_category.index,\n",
    "        values = number_of_apps_in_category.values,\n",
    "        hoverinfo = 'label+value'\n",
    "    \n",
    ")]\n",
    "\n",
    "plotly.offline.iplot(data, filename='active_category')"
   ],
   "execution_count": null,
   "outputs": []
  },
  {
   "metadata": {
    "_uuid": "bf697f6a0f916ae15d57dac40107a4b893c7370a"
   },
   "cell_type": "markdown",
   "source": [
    "- **Family** and **Game** apps have the highest market prevelance. \n",
    "- Interestingly, **Tools, Business and Medical** apps are also catching up."
   ]
  },
  {
   "metadata": {
    "_uuid": "124af3ed96f9bd5267dc571de1bddb8fe2938469"
   },
   "cell_type": "markdown",
   "source": [
    "## Average rating of apps\n",
    "Do any apps perform really good or really bad?"
   ]
  },
  {
   "metadata": {
    "trusted": true,
    "_uuid": "b9fcf64e5d60a48138f84d47fcce72a5886cd96c"
   },
   "cell_type": "code",
   "source": [
    "data = [go.Histogram(\n",
    "        x = df.Rating,\n",
    "        xbins = {'start': 1, 'size': 0.1, 'end' :5}\n",
    ")]\n",
    "\n",
    "print('Average app rating = ', np.mean(df['Rating']))\n",
    "plotly.offline.iplot(data, filename='overall_rating_distribution')"
   ],
   "execution_count": null,
   "outputs": []
  },
  {
   "metadata": {
    "_uuid": "a20d551cfdfeb1a471d2243473e1bbd74f3d3b59"
   },
   "cell_type": "markdown",
   "source": [
    "Generally, most apps do well with an average rating of **4.17**.\n",
    "\n",
    "Let's break this down and inspect if we have categories which perform exceptionally good or bad."
   ]
  },
  {
   "metadata": {
    "_uuid": "d36a379586dd07746b6a04b765022665a388ec40"
   },
   "cell_type": "markdown",
   "source": [
    "## App ratings across categories - One Way Anova Test"
   ]
  },
  {
   "metadata": {
    "trusted": true,
    "_uuid": "2d1901fef56b29431cdce08ea2118efced9783c3"
   },
   "cell_type": "code",
   "source": [
    "import scipy.stats as stats\n",
    "f = stats.f_oneway(df.loc[df.Category == 'BUSINESS']['Rating'].dropna(), \n",
    "               df.loc[df.Category == 'FAMILY']['Rating'].dropna(),\n",
    "               df.loc[df.Category == 'GAME']['Rating'].dropna(),\n",
    "               df.loc[df.Category == 'PERSONALIZATION']['Rating'].dropna(),\n",
    "               df.loc[df.Category == 'LIFESTYLE']['Rating'].dropna(),\n",
    "               df.loc[df.Category == 'FINANCE']['Rating'].dropna(),\n",
    "               df.loc[df.Category == 'EDUCATION']['Rating'].dropna(),\n",
    "               df.loc[df.Category == 'MEDICAL']['Rating'].dropna(),\n",
    "               df.loc[df.Category == 'TOOLS']['Rating'].dropna(),\n",
    "               df.loc[df.Category == 'PRODUCTIVITY']['Rating'].dropna()\n",
    "              )\n",
    "\n",
    "print(f)\n",
    "print('\\nThe p-value is extremely small, hence we reject the null hypothesis in favor of the alternate hypothesis.\\n')\n",
    "#temp = df.loc[df.Category.isin(['BUSINESS', 'DATING'])]\n",
    "\n",
    "groups = df.groupby('Category').filter(lambda x: len(x) > 286).reset_index()\n",
    "array = groups['Rating'].hist(by=groups['Category'], sharex=True, figsize=(20,20))"
   ],
   "execution_count": null,
   "outputs": []
  },
  {
   "metadata": {
    "_uuid": "198052aca38d96f8725307637896d326bde65ac3"
   },
   "cell_type": "markdown",
   "source": [
    "                            The average app ratings across categories is significantly different."
   ]
  },
  {
   "metadata": {
    "_uuid": "e1bc9d7a367778e29cfcf9a643f6bacd4c1bb88f"
   },
   "cell_type": "markdown",
   "source": [
    "## Best performing categories"
   ]
  },
  {
   "metadata": {
    "trusted": true,
    "_uuid": "aa4aa7372a3ca8c23746f5db630ca5bf0e61bd7a"
   },
   "cell_type": "code",
   "source": [
    "groups = df.groupby('Category').filter(lambda x: len(x) >= 170).reset_index()\n",
    "#print(type(groups.item.['BUSINESS']))\n",
    "print('Average rating = ', np.nanmean(list(groups.Rating)))\n",
    "#print(len(groups.loc[df.Category == 'DATING']))\n",
    "c = ['hsl('+str(h)+',50%'+',50%)' for h in np.linspace(0, 720, len(set(groups.Category)))]\n",
    "\n",
    "\n",
    "#df_sorted = df.groupby('Category').agg({'Rating':'median'}).reset_index().sort_values(by='Rating', ascending=False)\n",
    "#print(df_sorted)\n",
    "\n",
    "layout = {'title' : 'App ratings across major categories',\n",
    "        'xaxis': {'tickangle':-40},\n",
    "        'yaxis': {'title': 'Rating'},\n",
    "          'plot_bgcolor': 'rgb(250,250,250)',\n",
    "          'shapes': [{\n",
    "              'type' :'line',\n",
    "              'x0': -.5,\n",
    "              'y0': np.nanmean(list(groups.Rating)),\n",
    "              'x1': 19,\n",
    "              'y1': np.nanmean(list(groups.Rating)),\n",
    "              'line': { 'dash': 'dashdot'}\n",
    "          }]\n",
    "          }\n",
    "\n",
    "data = [{\n",
    "    'y': df.loc[df.Category==category]['Rating'], \n",
    "    'type':'violin',\n",
    "    'name' : category,\n",
    "    'showlegend':False,\n",
    "    #'marker': {'color': 'Set2'},\n",
    "    } for i,category in enumerate(list(set(groups.Category)))]\n",
    "\n",
    "\n",
    "\n",
    "plotly.offline.iplot({'data': data, 'layout': layout})\n",
    "\n"
   ],
   "execution_count": null,
   "outputs": []
  },
  {
   "metadata": {
    "_uuid": "49cc1370a44753806e021ff6ef103d977a9ea03e"
   },
   "cell_type": "markdown",
   "source": [
    "\n",
    "- Almost all app categories perform decently. **Health and Fitness** and **Books and Reference** produce the highest quality apps with **50% apps having a rating greater than 4.5.** This is extremely high!\n",
    "\n",
    "\n",
    "- On the contrary, **50% of apps in the Dating category have a rating lesser than the average rating**. \n",
    "\n",
    "\n",
    "- A few **junk apps** also exist in the **Lifestyle**, **Family** and **Finance** category.\n"
   ]
  },
  {
   "metadata": {
    "_uuid": "643f3e8feaafe41870f3dc68b14ca2f66c899b78"
   },
   "cell_type": "markdown",
   "source": [
    "# Sizing Strategy - Light Vs Bulky?\n",
    "\n",
    "How do app sizes impact the app rating?"
   ]
  },
  {
   "metadata": {
    "trusted": true,
    "_uuid": "49cbd0f8121be97cf49f115780be7f291cbb4476"
   },
   "cell_type": "code",
   "source": [
    "groups = df.groupby('Category').filter(lambda x: len(x) >= 50).reset_index()"
   ],
   "execution_count": null,
   "outputs": []
  },
  {
   "metadata": {
    "trusted": true,
    "_uuid": "8e3467d63729b62be762333725f1fa7fbf68b468"
   },
   "cell_type": "code",
   "source": [
    "# sns.set_style('ticks')\n",
    "# fig, ax = plt.subplots()\n",
    "# fig.set_size_inches(8, 8)\n",
    "sns.set_style(\"darkgrid\")\n",
    "ax = sns.jointplot(df['Size'], df['Rating'])\n",
    "#ax.set_title('Rating Vs Size')"
   ],
   "execution_count": null,
   "outputs": []
  },
  {
   "metadata": {
    "_uuid": "5415738fe12d026a38097e924bea0a7c2cbd0801"
   },
   "cell_type": "markdown",
   "source": [
    "Most top rated apps are optimally sized between **~2MB to ~40MB** - neither too light nor too heavy."
   ]
  },
  {
   "metadata": {
    "trusted": true,
    "_uuid": "323310bb43862584a19a9879cc6ad2aca8ddbfbf"
   },
   "cell_type": "code",
   "source": [
    "\n",
    "c = ['hsl('+str(h)+',50%'+',50%)' for h in np.linspace(0, 360, len(list(set(groups.Category))))]\n",
    "\n",
    "subset_df = df[df.Size > 40]\n",
    "groups_temp = subset_df.groupby('Category').filter(lambda x: len(x) >20)\n",
    "\n",
    "# for category in enumerate(list(set(groups_temp.Category))):\n",
    "#     print (category)\n",
    "\n",
    "data = [{\n",
    "    'x': groups_temp.loc[subset_df.Category==category[1]]['Rating'], \n",
    "    'type':'scatter',\n",
    "    'y' : subset_df['Size'],\n",
    "    'name' : str(category[1]),\n",
    "    'mode' : 'markers',\n",
    "    'showlegend': True,\n",
    "    #'marker': {'color':c[i]}\n",
    "    #'text' : df['rating'],\n",
    "    } for category in enumerate(['GAME', 'FAMILY'])]\n",
    "\n",
    "\n",
    "layout = {'title':\"Rating vs Size\", \n",
    "          'xaxis': {'title' : 'Rating'},\n",
    "          'yaxis' : {'title' : 'Size (in MB)'},\n",
    "         'plot_bgcolor': 'rgb(0,0,0)'}\n",
    "\n",
    "plotly.offline.iplot({'data': data, 'layout': layout})\n",
    "\n",
    "# heavy_categories = [ 'ENTERTAINMENT', 'MEDICAL', 'DATING']\n",
    "\n",
    "# data = [{\n",
    "#     'x': groups.loc[df.Category==category]['Rating'], \n",
    "#     'type':'scatter',\n",
    "#     'y' : df['Size'],\n",
    "#     'name' : category,\n",
    "#     'mode' : 'markers',\n",
    "#     'showlegend': True,\n",
    "#     #'text' : df['rating'],\n",
    "#     } for category in heavy_categories]"
   ],
   "execution_count": null,
   "outputs": []
  },
  {
   "metadata": {
    "_uuid": "4b2d31755a833efede213d57aabdf024d6b99580"
   },
   "cell_type": "markdown",
   "source": [
    "Most bulky apps ( >50MB) belong to the **Game** and **Family** category. Despite this, these bulky apps are fairly highly rated indicating that they are bulky for a purpose."
   ]
  },
  {
   "metadata": {
    "_uuid": "af934cd79179651ad510367930745d569635bddf"
   },
   "cell_type": "markdown",
   "source": [
    "# Pricing Strategy - Free Vs Paid?\n",
    "How do app prices impact app rating?"
   ]
  },
  {
   "metadata": {
    "trusted": true,
    "_uuid": "0167c9bcaced191ad7b8cd4750bb389890679b4e"
   },
   "cell_type": "code",
   "source": [
    "paid_apps = df[df.Price>0]\n",
    "p = sns.jointplot( \"Price\", \"Rating\", paid_apps)"
   ],
   "execution_count": null,
   "outputs": []
  },
  {
   "metadata": {
    "_uuid": "833cf10a9f998ab0e6fafa71db025e62224b397b"
   },
   "cell_type": "markdown",
   "source": [
    "Most top rated apps are optimally priced between **~1\\$ to ~30\\$**. There are only a very few apps priced above 20\\$."
   ]
  },
  {
   "metadata": {
    "_uuid": "b8b21993bc8754e3705b9ec77995673369de6085"
   },
   "cell_type": "markdown",
   "source": [
    "## Current pricing trend - How to price your app?"
   ]
  },
  {
   "metadata": {
    "trusted": true,
    "_uuid": "f8da607e6574bd68a05f076f9705b28ac15f571e"
   },
   "cell_type": "code",
   "source": [
    "subset_df = df[df.Category.isin(['GAME', 'FAMILY', 'PHOTOGRAPHY', 'MEDICAL', 'TOOLS', 'FINANCE',\n",
    "                                 'LIFESTYLE','BUSINESS'])]\n",
    "sns.set_style('darkgrid')\n",
    "fig, ax = plt.subplots()\n",
    "fig.set_size_inches(15, 8)\n",
    "p = sns.stripplot(x=\"Price\", y=\"Category\", data=subset_df, jitter=True, linewidth=1)\n",
    "title = ax.set_title('App pricing trend across categories')\n"
   ],
   "execution_count": null,
   "outputs": []
  },
  {
   "metadata": {
    "_uuid": "ef0572367091d05a0fcd634dc0eb7421b7193f4c"
   },
   "cell_type": "markdown",
   "source": [
    "**Shocking...Apps priced above 250\\$ !!! ** Let's quickly examine what these junk apps are."
   ]
  },
  {
   "metadata": {
    "trusted": true,
    "_uuid": "c990205fa90ee2930e19d5227f7a5cb69d8651d7"
   },
   "cell_type": "code",
   "source": [
    "#print('Junk apps priced above 350$')\n",
    "df[['Category', 'App']][df.Price > 200]"
   ],
   "execution_count": null,
   "outputs": []
  },
  {
   "metadata": {
    "trusted": true,
    "_uuid": "e3e8d66bcf83a56ffcd8d369249d6afadc77bba1"
   },
   "cell_type": "code",
   "source": [
    "fig, ax = plt.subplots()\n",
    "fig.set_size_inches(15, 8)\n",
    "subset_df_price = subset_df[subset_df.Price<100]\n",
    "p = sns.stripplot(x=\"Price\", y=\"Category\", data=subset_df_price, jitter=True, linewidth=1)\n",
    "title = ax.set_title('App pricing trend across categories - after filtering for junk apps')"
   ],
   "execution_count": null,
   "outputs": []
  },
  {
   "metadata": {
    "_uuid": "90d97370a63030c271b6d9bd3cd06d36464825c0"
   },
   "cell_type": "markdown",
   "source": [
    "- Clearly, **Medical and Family apps** are the most expensive. Some medical apps extend even upto 80\\$.\n",
    "\n",
    "\n",
    "- All other apps are priced under 30\\$.\n",
    "\n",
    "\n",
    "- Surprisingly, **all game apps are reasonably priced below 20\\$.**"
   ]
  },
  {
   "metadata": {
    "_uuid": "f2ef2460ea3182aee4ffcda1999c6c221f71c852"
   },
   "cell_type": "markdown",
   "source": [
    "## Distribution of paid and free apps across categories"
   ]
  },
  {
   "metadata": {
    "trusted": true,
    "_uuid": "45846adc0574dd557d1a04f05e83adc82aa540e8"
   },
   "cell_type": "code",
   "source": [
    "# Stacked bar graph for top 5-10 categories - Ratio of paid and free apps\n",
    "#fig, ax = plt.subplots(figsize=(15,10))\n",
    "\n",
    "new_df = df.groupby(['Category', 'Type']).agg({'App' : 'count'}).reset_index()\n",
    "#print(new_df)\n",
    "\n",
    "# outer_group_names = df['Category'].sort_values().value_counts()[:5].index\n",
    "# outer_group_values = df['Category'].sort_values().value_counts()[:5].values\n",
    "\n",
    "outer_group_names = ['GAME', 'FAMILY', 'MEDICAL', 'TOOLS']\n",
    "outer_group_values = [len(df.App[df.Category == category]) for category in outer_group_names]\n",
    "\n",
    "a, b, c, d=[plt.cm.Blues, plt.cm.Reds, plt.cm.Greens, plt.cm.Purples]\n",
    "\n",
    "\n",
    "inner_group_names = ['Paid', 'Free'] * 4\n",
    "inner_group_values = []\n",
    "#inner_colors = ['#58a27c','#FFD433']\n",
    "\n",
    "\n",
    "for category in outer_group_names:\n",
    "    for t in ['Paid', 'Free']:\n",
    "        x = new_df[new_df.Category == category]\n",
    "        try:\n",
    "            #print(x.App[x.Type == t].values[0])\n",
    "            inner_group_values.append(int(x.App[x.Type == t].values[0]))\n",
    "        except:\n",
    "            #print(x.App[x.Type == t].values[0])\n",
    "            inner_group_values.append(0)\n",
    "\n",
    "explode = (0.025,0.025,0.025,0.025)\n",
    "# First Ring (outside)\n",
    "fig, ax = plt.subplots(figsize=(10,10))\n",
    "ax.axis('equal')\n",
    "mypie, texts, _ = ax.pie(outer_group_values, radius=1.2, labels=outer_group_names, autopct='%1.1f%%', pctdistance=1.1,\n",
    "                                 labeldistance= 0.75,  explode = explode, colors=[a(0.6), b(0.6), c(0.6), d(0.6)], textprops={'fontsize': 16})\n",
    "plt.setp( mypie, width=0.5, edgecolor='black')\n",
    " \n",
    "# Second Ring (Inside)\n",
    "mypie2, _ = ax.pie(inner_group_values, radius=1.2-0.5, labels=inner_group_names, labeldistance= 0.7, \n",
    "                   textprops={'fontsize': 12}, colors = [a(0.4), a(0.2), b(0.4), b(0.2), c(0.4), c(0.2), d(0.4), d(0.2)])\n",
    "plt.setp( mypie2, width=0.5, edgecolor='black')\n",
    "plt.margins(0,0)\n",
    " \n",
    "# show it\n",
    "plt.tight_layout()\n",
    "plt.show()\n",
    "\n",
    "\n",
    "\n",
    "#ax = sns.countplot(x=\"Category\", hue=\"Type\", data=new_df)\n",
    "\n",
    "#df.groupby(['Category', 'Type']).count()['App'].unstack().plot(kind='bar', stacked=True, ax=ax)\n",
    "#ylabel = plt.ylabel('Number of apps')\n",
    "\n"
   ],
   "execution_count": null,
   "outputs": []
  },
  {
   "metadata": {
    "_uuid": "db7716647580f54be14f2a3604d7566395727f12"
   },
   "cell_type": "markdown",
   "source": [
    "                    Distribution of free and paid apps across major categories"
   ]
  },
  {
   "metadata": {
    "_uuid": "de0e673d481d2ecf0d15736988a313958d571ac9"
   },
   "cell_type": "markdown",
   "source": [
    "# Are paid apps downloaded as much as free apps?"
   ]
  },
  {
   "metadata": {
    "trusted": true,
    "_uuid": "d90833318fecd8647af0b5961f33cf0ee7ba42f4"
   },
   "cell_type": "code",
   "source": [
    "trace0 = go.Box(\n",
    "    y=np.log10(df['Installs'][df.Type=='Paid']),\n",
    "    name = 'Paid',\n",
    "    marker = dict(\n",
    "        color = 'rgb(214, 12, 140)',\n",
    "    )\n",
    "\n",
    ")\n",
    "trace1 = go.Box(\n",
    "    y=np.log10(df['Installs'][df.Type=='Free']),\n",
    "    name = 'Free',\n",
    "    marker = dict(\n",
    "        color = 'rgb(0, 128, 128)',\n",
    "    )\n",
    ")\n",
    "layout = go.Layout(\n",
    "    title = \"Number of downloads of paid apps Vs free apps\",\n",
    "    yaxis= {'title': 'Number of downloads (log-scaled)'}\n",
    ")\n",
    "data = [trace0, trace1]\n",
    "plotly.offline.iplot({'data': data, 'layout': layout})"
   ],
   "execution_count": null,
   "outputs": []
  },
  {
   "metadata": {
    "_uuid": "f46cd670a5a3a3ae67f0d24d9d13c1821d9c8f69"
   },
   "cell_type": "markdown",
   "source": [
    "**Paid apps have a relatively lower number of downloads than free apps.** However, it is not too bad."
   ]
  },
  {
   "metadata": {
    "_uuid": "d08fe4e58781150c226093e03a3b943636387cd6"
   },
   "cell_type": "markdown",
   "source": [
    "# How do the sizes of paid apps and free apps vary?"
   ]
  },
  {
   "metadata": {
    "trusted": true,
    "_uuid": "d450fadafca7aff65a0577d314ca755cada208f7"
   },
   "cell_type": "code",
   "source": [
    "temp_df = df[df.Type == 'Paid']\n",
    "temp_df = temp_df[temp_df.Size > 5]\n",
    "#type_groups = df.groupby('Type')\n",
    "\n",
    "data = [{\n",
    "    #'x': type_groups.get_group(t)['Rating'], \n",
    "    'x' : temp_df['Rating'],\n",
    "    'type':'scatter',\n",
    "    'y' : temp_df['Size'],\n",
    "    #'name' : t,\n",
    "    'mode' : 'markers',\n",
    "    #'showlegend': True,\n",
    "    'text' : df['Size'],\n",
    "    } for t in set(temp_df.Type)]\n",
    "\n",
    "\n",
    "layout = {'title':\"Rating vs Size\", \n",
    "          'xaxis': {'title' : 'Rating'},\n",
    "          'yaxis' : {'title' : 'Size (in MB)'},\n",
    "         'plot_bgcolor': 'rgb(0,0,0)'}\n",
    "\n",
    "plotly.offline.iplot({'data': data, 'layout': layout})"
   ],
   "execution_count": null,
   "outputs": []
  },
  {
   "metadata": {
    "_uuid": "366119464fe3e702fbd6a914f99fe9907ef689f7"
   },
   "cell_type": "markdown",
   "source": [
    "- **Majority of the paid apps that are highly rated have small sizes.** This means that most paid apps are designed and developed to cater to specific functionalities and hence are not bulky.\n",
    "\n",
    "\n",
    "- **Users prefer to pay for apps that are light-weighted.** A paid app that is bulky may not perform well in the market."
   ]
  },
  {
   "metadata": {
    "_uuid": "ed2fc3dcf90d8f8fb5496ff2cf90415e1ceed10f"
   },
   "cell_type": "markdown",
   "source": [
    "# Exploring Correlations"
   ]
  },
  {
   "metadata": {
    "trusted": true,
    "_uuid": "d0a945bc858bda008544fc2c677e9ad8e6b88393"
   },
   "cell_type": "code",
   "source": [
    "#df['Installs'].corr(df['Reviews'])#df['Insta \n",
    "#print(np.corrcoef(l, rating))\n",
    "\n",
    "corrmat = df.corr()\n",
    "#f, ax = plt.subplots()\n",
    "p =sns.heatmap(corrmat, annot=True, cmap=sns.diverging_palette(220, 20, as_cmap=True))"
   ],
   "execution_count": null,
   "outputs": []
  },
  {
   "metadata": {
    "trusted": true,
    "_uuid": "514da71efc2472b492a3d1e4ef07f377678bd142"
   },
   "cell_type": "code",
   "source": [
    "df_copy = df.copy()\n",
    "\n",
    "df_copy = df_copy[df_copy.Reviews > 10]\n",
    "df_copy = df_copy[df_copy.Installs > 0]\n",
    "\n",
    "df_copy['Installs'] = np.log10(df['Installs'])\n",
    "df_copy['Reviews'] = np.log10(df['Reviews'])\n",
    "\n",
    "sns.lmplot(\"Reviews\", \"Installs\", data=df_copy)\n",
    "ax = plt.gca()\n",
    "_ = ax.set_title('Number of Reviews Vs Number of Downloads (Log scaled)')"
   ],
   "execution_count": null,
   "outputs": []
  },
  {
   "metadata": {
    "_uuid": "ddd30caba274b3aa495924e21f125848103f6fb9"
   },
   "cell_type": "markdown",
   "source": [
    "**A moderate positive correlation of 0.63 exists between the number of reviews and number of downloads.** This means that customers tend to download a given app more if it has been reviewed by a larger number of people. \n",
    "\n",
    "This also means that many active users who download an app usually also leave back a review or feedback. \n",
    "\n",
    "So, getting your app reviewed by more people maybe a good idea to increase your app's capture in the market!"
   ]
  },
  {
   "metadata": {
    "_uuid": "cd7683ea6aa097ee952ec1b0c24d8f5ded2a5764"
   },
   "cell_type": "markdown",
   "source": [
    "# Basic sentiment analysis - User reviews "
   ]
  },
  {
   "metadata": {
    "trusted": true,
    "_uuid": "00abbf41d82744515c19a009a216e1fa2ddb113a"
   },
   "cell_type": "code",
   "source": [
    "reviews_df = pd.read_csv('../input/googleplaystore_user_reviews.csv')"
   ],
   "execution_count": null,
   "outputs": []
  },
  {
   "metadata": {
    "trusted": true,
    "_uuid": "a8739201b8e8256dc54c056899d43abff17692dc"
   },
   "cell_type": "code",
   "source": [
    "merged_df = pd.merge(df, reviews_df, on = \"App\", how = \"inner\")\n",
    "merged_df = merged_df.dropna(subset=['Sentiment', 'Translated_Review'])"
   ],
   "execution_count": null,
   "outputs": []
  },
  {
   "metadata": {
    "trusted": true,
    "_uuid": "ca57eac7c4910a748f7b8a6e1b6d3db81384df03"
   },
   "cell_type": "code",
   "source": [
    "grouped_sentiment_category_count = merged_df.groupby(['Category', 'Sentiment']).agg({'App': 'count'}).reset_index()\n",
    "grouped_sentiment_category_sum = merged_df.groupby(['Category']).agg({'Sentiment': 'count'}).reset_index()\n",
    "\n",
    "new_df = pd.merge(grouped_sentiment_category_count, grouped_sentiment_category_sum, on=[\"Category\"])\n",
    "#print(new_df)\n",
    "new_df['Sentiment_Normalized'] = new_df.App/new_df.Sentiment_y\n",
    "new_df = new_df.groupby('Category').filter(lambda x: len(x) ==3)\n",
    "# new_df = new_df[new_df.Category.isin(['HEALTH_AND_FITNESS', 'GAME', 'FAMILY', 'EDUCATION', 'COMMUNICATION', \n",
    "#                                      'ENTERTAINMENT', 'TOOLS', 'SOCIAL', 'TRAVEL_AND_LOCAL'])]\n",
    "new_df\n",
    "\n",
    "trace1 = go.Bar(\n",
    "    x=list(new_df.Category[::3])[6:-5],\n",
    "    y= new_df.Sentiment_Normalized[::3][6:-5],\n",
    "    name='Negative',\n",
    "    marker=dict(color = 'rgb(209,49,20)')\n",
    ")\n",
    "\n",
    "trace2 = go.Bar(\n",
    "    x=list(new_df.Category[::3])[6:-5],\n",
    "    y= new_df.Sentiment_Normalized[1::3][6:-5],\n",
    "    name='Neutral',\n",
    "    marker=dict(color = 'rgb(49,130,189)')\n",
    ")\n",
    "\n",
    "trace3 = go.Bar(\n",
    "    x=list(new_df.Category[::3])[6:-5],\n",
    "    y= new_df.Sentiment_Normalized[2::3][6:-5],\n",
    "    name='Positive',\n",
    "    marker=dict(color = 'rgb(49,189,120)')\n",
    ")\n",
    "\n",
    "data = [trace1, trace2, trace3]\n",
    "layout = go.Layout(\n",
    "    title = 'Sentiment analysis',\n",
    "    barmode='stack',\n",
    "    xaxis = {'tickangle': -45},\n",
    "    yaxis = {'title': 'Fraction of reviews'}\n",
    ")\n",
    "\n",
    "fig = go.Figure(data=data, layout=layout)\n",
    "\n",
    "plotly.offline.iplot({'data': data, 'layout': layout})"
   ],
   "execution_count": null,
   "outputs": []
  },
  {
   "metadata": {
    "_uuid": "09a7b58d7165461389ececc2c8675da66016dbdf"
   },
   "cell_type": "markdown",
   "source": [
    "- **Health and Fitness** apps perform the best, having more than **85% positive reviews**.\n",
    "\n",
    "\n",
    "- On the contrary, many **Game and Social** apps perform bad leading to **50% positive and 50% negative**."
   ]
  },
  {
   "metadata": {
    "trusted": true,
    "_uuid": "f489fbf1c71a3f20b8f3d4056ff695b1d15d2d70"
   },
   "cell_type": "code",
   "source": [
    "#merged_df.loc[merged_df.Type=='Free']['Sentiment_Polarity']\n",
    "sns.set_style('ticks')\n",
    "sns.set_style(\"darkgrid\")\n",
    "fig, ax = plt.subplots()\n",
    "fig.set_size_inches(11.7, 8.27)\n",
    "ax = sns.boxplot(x='Type', y='Sentiment_Polarity', data=merged_df)\n",
    "title = ax.set_title('Sentiment Polarity Distribution')"
   ],
   "execution_count": null,
   "outputs": []
  },
  {
   "metadata": {
    "_uuid": "35e3034b1c979635e95ffd0bcb570621463670d0"
   },
   "cell_type": "markdown",
   "source": [
    "- **Free apps receive a lot of harsh comments** which are indicated as outliers on the negative Y-axis. \n",
    "\n",
    "- **Users are more lenient and tolerant while reviewing paid apps - moderate choice of words.** They are never extremely negative while reviewing a paid app. "
   ]
  },
  {
   "metadata": {
    "_uuid": "f6a121c411373a7767c32b784add5a9a2a5dc790"
   },
   "cell_type": "markdown",
   "source": [
    "## WORDCLOUD - A quick look on reviews\n"
   ]
  },
  {
   "metadata": {
    "trusted": true,
    "_uuid": "442193303c51f05c59199474e68fb9a4abd17f15"
   },
   "cell_type": "code",
   "source": [
    "from wordcloud import WordCloud\n",
    "wc = WordCloud(background_color=\"white\", max_words=200, colormap=\"Set2\")\n",
    "# generate word cloud\n",
    "\n",
    "from nltk.corpus import stopwords\n",
    "stop = stopwords.words('english')\n",
    "stop = stop + ['app', 'APP' ,'ap', 'App', 'apps', 'application', 'browser', 'website', 'websites', 'chrome', 'click', 'web', 'ip', 'address',\n",
    "            'files', 'android', 'browse', 'service', 'use', 'one', 'download', 'email', 'Launcher']\n",
    "\n",
    "#merged_df = merged_df.dropna(subset=['Translated_Review'])\n",
    "merged_df['Translated_Review'] = merged_df['Translated_Review'].apply(lambda x: \" \".join(x for x in str(x).split(' ') if x not in stop))\n",
    "#print(any(merged_df.Translated_Review.isna()))\n",
    "merged_df.Translated_Review = merged_df.Translated_Review.apply(lambda x: x if 'app' not in x.split(' ') else np.nan)\n",
    "merged_df.dropna(subset=['Translated_Review'], inplace=True)\n",
    "\n",
    "\n",
    "free = merged_df.loc[merged_df.Type=='Free']['Translated_Review'].apply(lambda x: '' if x=='nan' else x)\n",
    "wc.generate(''.join(str(free)))\n",
    "plt.figure(figsize=(10, 10))\n",
    "plt.imshow(wc, interpolation='bilinear')\n",
    "plt.axis(\"off\")\n",
    "plt.show()"
   ],
   "execution_count": null,
   "outputs": []
  },
  {
   "metadata": {
    "_uuid": "12d087618b75bb0a8d3071984fdedfa588268058"
   },
   "cell_type": "markdown",
   "source": "   ** FREE APPS **\n> \n**Negative words: ads, bad, hate**\n>\n**Positive words: good, love, best, great**"
  },
  {
   "metadata": {
    "trusted": true,
    "_uuid": "cf322aa056d0776bc254790af95c2b2f5cb64003"
   },
   "cell_type": "code",
   "source": "paid = merged_df.loc[merged_df.Type=='Paid']['Translated_Review'].apply(lambda x: '' if x=='nan' else x)\nwc.generate(''.join(str(paid)))\nplt.figure(figsize=(10, 10))\nplt.imshow(wc, interpolation='bilinear')\nplt.axis(\"off\")\nplt.show()",
   "execution_count": null,
   "outputs": []
  },
  {
   "metadata": {
    "_uuid": "01dcb2b582c373b6e390b71f844d4c93d6cf3017"
   },
   "cell_type": "markdown",
   "source": "   ** PAID APPS **\n> \n**Negative words: malware, problem**\n>\n**Positive words: great, love, easy**"
  },
  {
   "metadata": {
    "_uuid": "4ece4a9377c31579da9208c0eb9da67059723de9"
   },
   "cell_type": "markdown",
   "source": "# CONCLUSION\n\n - Average rating of (active) apps on Google Play Store is **4.17**.\n \n \n - **Users prefer to pay for apps that are light-weighted.** Thus, a paid app that is bulky may not perform well in the market.\n \n \n - Most of the top rated apps are **optimally sized between ~2MB to ~40MB** - neither too light nor too heavy.\n \n \n - Most of the top rated apps are **optimally priced between ~1\\$ to ~30\\$** - neither too cheap nor too expensive.\n \n \n - **Medical and Family apps are the most expensive** and even extend upto 80\\$.\n \n \n - Users tend to download a given app more if it has been reviewed by a large number of people.\n \n \n - **Health and Fitness** apps receive more than **85% positive reviews**. **Game and Social** apps receive mixed feedback - **50% positive and 50% negative.**\n \n \n - **Users are more grim and harsh while reviewing free apps** than paid apps. "
  },
  {
   "metadata": {
    "trusted": true,
    "_uuid": "2cdb904c7e6d811c279a56f411fb490f82282eef"
   },
   "cell_type": "code",
   "source": "",
   "execution_count": null,
   "outputs": []
  }
 ],
 "metadata": {
  "kernelspec": {
   "display_name": "Python 3",
   "language": "python",
   "name": "python3"
  },
  "language_info": {
   "name": "python",
   "version": "3.6.6",
   "mimetype": "text/x-python",
   "codemirror_mode": {
    "name": "ipython",
    "version": 3
   },
   "pygments_lexer": "ipython3",
   "nbconvert_exporter": "python",
   "file_extension": ".py"
  },
  "pycharm": {
   "stem_cell": {
    "cell_type": "raw",
    "source": [],
    "metadata": {
     "collapsed": false
    }
   }
  }
 },
 "nbformat": 4,
 "nbformat_minor": 1
}