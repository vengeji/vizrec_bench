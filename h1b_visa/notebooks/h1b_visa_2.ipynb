{
 "cells": [
  {
   "cell_type": "markdown",
   "metadata": {
    "_cell_guid": "b78bec07-9965-4b3a-b230-b181ad9cd04c",
    "_uuid": "1cc45792f7a5b85eb406d9a4732e1587cb9c0dfe"
   },
   "source": [
    "# 1. Introduction\n",
    "H-1B Visa has been a controversial topic in recent political debates. Here, without any political bias, we perform an extensive analysis on this Visa."
   ]
  },
  {
   "cell_type": "code",
   "execution_count": 9,
   "metadata": {
    "_cell_guid": "1506b406-691b-4f5a-9515-577a9370593d",
    "_uuid": "d08dc4ce35103c75987ea0c861c54a75e855f376",
    "pycharm": {
     "is_executing": false
    }
   },
   "outputs": [],
   "source": [
    "import numpy as np \n",
    "import pandas as pd\n",
    "import matplotlib\n",
    "import seaborn as sns\n",
    "from matplotlib import pyplot as plt\n",
    "from subprocess import check_output\n",
    "from matplotlib.ticker import FuncFormatter\n",
    "%matplotlib inline"
   ]
  },
  {
   "cell_type": "markdown",
   "metadata": {
    "_cell_guid": "a65cddc6-a918-472a-83d0-e739d0460bed",
    "_uuid": "f6d63fd38c99f79a8d01f8bdfb08fa0c5379e5dc"
   },
   "source": [
    "# 2. Loading and Cleaning the Data"
   ]
  },
  {
   "cell_type": "code",
   "execution_count": 10,
   "metadata": {
    "_cell_guid": "abd03141-4396-49d4-9111-c4932dc192b8",
    "_kg_hide-input": true,
    "_kg_hide-output": true,
    "_uuid": "c032f6a66afd5376ce031b422f6bf412594d7e31",
    "pycharm": {
     "is_executing": false
    }
   },
   "outputs": [
    {
     "name": "stdout",
     "text": [
      "Loading h1b_kaggle file... wait...\n"
     ],
     "output_type": "stream"
    }
   ],
   "source": [
    "h1b_kaggle_df = pd.read_csv('../h1b_visa.csv', nrows=3000000)\n",
    "print('Loading h1b_kaggle file... wait...')\n",
    "df = h1b_kaggle_df[(h1b_kaggle_df['PREVAILING_WAGE']<600000) & (h1b_kaggle_df['CASE_STATUS']=='CERTIFIED')]\n",
    "df = df.dropna(axis=0, how='all')"
   ]
  },
  {
   "cell_type": "markdown",
   "metadata": {
    "_cell_guid": "54c66b22-1881-4e2f-ae93-1fed419c4c45",
    "_uuid": "973d5343e6aeaac2703f0b4f294f62d500aefc5f"
   },
   "source": [
    "# 3. Results and Discusions\n",
    "## 3.1. Total H1-B Wage Distribution (Period 2011-2016)"
   ]
  },
  {
   "cell_type": "code",
   "execution_count": 11,
   "metadata": {
    "_cell_guid": "873bec16-5c96-4bf9-9878-64d3206920dc",
    "_uuid": "359643c5ada92372cca17469fc50c719a06c4ef6",
    "scrolled": false,
    "pycharm": {
     "is_executing": false
    }
   },
   "outputs": [
    {
     "data": {
      "text/plain": "Text(0.5, 1.0, 'H-1B Salary From 2011 to 2016')"
     },
     "metadata": {},
     "output_type": "execute_result",
     "execution_count": 11
    },
    {
     "data": {
      "text/plain": "<Figure size 864x288 with 1 Axes>",
      "image/png": "[encoded data removed]"
     },
     "metadata": {},
     "output_type": "display_data"
    }
   ],
   "source": [
    "font = {'family' : 'sans-serif',\n",
    "        'weight' : 'normal',\n",
    "        'size'   : 14}\n",
    "\n",
    "matplotlib.rc('font', **font)\n",
    "with plt.style.context('fivethirtyeight'):\n",
    "    fig, ax = plt.subplots(1, 1, figsize=(12, 4))\n",
    "    ax.hist(df['PREVAILING_WAGE'],bins=200, edgecolor='#E6E6E6', color='#EE6666');\n",
    "plt.xlim([0, 200000])\n",
    "\n",
    "def thousandUSD(x, pos):\n",
    "    return '$%1.0fk' % (x*1e-3)\n",
    "def thousand(x, pos):\n",
    "    return '%1.0f' % (x*1e-3)\n",
    "formatterUSD = FuncFormatter(thousandUSD)\n",
    "formatter = FuncFormatter(thousand)\n",
    "\n",
    "plt.xlabel('Salary',size=20)\n",
    "plt.ylabel('Number of H-1B Visas \\n (x1000)', size=20)\n",
    "ax.xaxis.set_major_formatter(formatterUSD)\n",
    "ax.yaxis.set_major_formatter(formatter)\n",
    "ax.set_title('H-1B Salary From 2011 to 2016')"
   ]
  },
  {
   "cell_type": "markdown",
   "metadata": {
    "_cell_guid": "f615cfd3-3f0b-47d2-b8a5-a3fc6b6f0a6d",
    "_uuid": "e12aef8e17c765e258cf42093d39b020e8c067b7"
   },
   "source": [
    "## 3.2. H1-B Wage Distribution per Year "
   ]
  },
  {
   "cell_type": "code",
   "execution_count": 12,
   "metadata": {
    "_cell_guid": "a61fc21e-5464-4538-b555-032dc2220e0c",
    "_uuid": "ee429baf0c33129038032abdce8a9563d7373703",
    "pycharm": {
     "is_executing": false
    }
   },
   "outputs": [
    {
     "traceback": [
      "\u001b[1;31m---------------------------------------------------------------------------\u001b[0m",
      "\u001b[1;31mKeyError\u001b[0m                                  Traceback (most recent call last)",
      "\u001b[1;32m<ipython-input-12-f6af8bc9b40d>\u001b[0m in \u001b[0;36m<module>\u001b[1;34m\u001b[0m\n\u001b[0;32m      6\u001b[0m                           \u001b[0mdf_temp\u001b[0m\u001b[1;33m[\u001b[0m\u001b[0mdf_temp\u001b[0m\u001b[1;33m.\u001b[0m\u001b[0mYEAR\u001b[0m \u001b[1;33m==\u001b[0m \u001b[1;36m2013\u001b[0m\u001b[1;33m]\u001b[0m\u001b[1;33m[\u001b[0m\u001b[1;34m'PREVAILING_WAGE'\u001b[0m\u001b[1;33m]\u001b[0m\u001b[1;33m,\u001b[0m\u001b[1;33m\u001b[0m\u001b[1;33m\u001b[0m\u001b[0m\n\u001b[0;32m      7\u001b[0m                           \u001b[0mdf_temp\u001b[0m\u001b[1;33m[\u001b[0m\u001b[0mdf_temp\u001b[0m\u001b[1;33m.\u001b[0m\u001b[0mYEAR\u001b[0m \u001b[1;33m==\u001b[0m \u001b[1;36m2014\u001b[0m\u001b[1;33m]\u001b[0m\u001b[1;33m[\u001b[0m\u001b[1;34m'PREVAILING_WAGE'\u001b[0m\u001b[1;33m]\u001b[0m\u001b[1;33m,\u001b[0m\u001b[1;33m\u001b[0m\u001b[1;33m\u001b[0m\u001b[0m\n\u001b[1;32m----> 8\u001b[1;33m                           df_temp[df_temp.YEAR == 2015]['PREVAILING_WAGE']])\n\u001b[0m\u001b[0;32m      9\u001b[0m \u001b[1;32mdef\u001b[0m \u001b[0mthousandUSD\u001b[0m\u001b[1;33m(\u001b[0m\u001b[0mx\u001b[0m\u001b[1;33m,\u001b[0m \u001b[0mpos\u001b[0m\u001b[1;33m)\u001b[0m\u001b[1;33m:\u001b[0m\u001b[1;33m\u001b[0m\u001b[1;33m\u001b[0m\u001b[0m\n\u001b[0;32m     10\u001b[0m     \u001b[1;32mreturn\u001b[0m \u001b[1;34m'$%1.0fk'\u001b[0m \u001b[1;33m%\u001b[0m \u001b[1;33m(\u001b[0m\u001b[0mx\u001b[0m\u001b[1;33m*\u001b[0m\u001b[1;36m1e-3\u001b[0m\u001b[1;33m)\u001b[0m\u001b[1;33m\u001b[0m\u001b[1;33m\u001b[0m\u001b[0m\n",
      "\u001b[1;32mE:\\DevEnvir\\py\\anaconda\\envs\\VisRecom\\lib\\site-packages\\matplotlib\\__init__.py\u001b[0m in \u001b[0;36minner\u001b[1;34m(ax, data, *args, **kwargs)\u001b[0m\n\u001b[0;32m   1599\u001b[0m     \u001b[1;32mdef\u001b[0m \u001b[0minner\u001b[0m\u001b[1;33m(\u001b[0m\u001b[0max\u001b[0m\u001b[1;33m,\u001b[0m \u001b[1;33m*\u001b[0m\u001b[0margs\u001b[0m\u001b[1;33m,\u001b[0m \u001b[0mdata\u001b[0m\u001b[1;33m=\u001b[0m\u001b[1;32mNone\u001b[0m\u001b[1;33m,\u001b[0m \u001b[1;33m**\u001b[0m\u001b[0mkwargs\u001b[0m\u001b[1;33m)\u001b[0m\u001b[1;33m:\u001b[0m\u001b[1;33m\u001b[0m\u001b[1;33m\u001b[0m\u001b[0m\n\u001b[0;32m   1600\u001b[0m         \u001b[1;32mif\u001b[0m \u001b[0mdata\u001b[0m \u001b[1;32mis\u001b[0m \u001b[1;32mNone\u001b[0m\u001b[1;33m:\u001b[0m\u001b[1;33m\u001b[0m\u001b[1;33m\u001b[0m\u001b[0m\n\u001b[1;32m-> 1601\u001b[1;33m             \u001b[1;32mreturn\u001b[0m \u001b[0mfunc\u001b[0m\u001b[1;33m(\u001b[0m\u001b[0max\u001b[0m\u001b[1;33m,\u001b[0m \u001b[1;33m*\u001b[0m\u001b[0mmap\u001b[0m\u001b[1;33m(\u001b[0m\u001b[0msanitize_sequence\u001b[0m\u001b[1;33m,\u001b[0m \u001b[0margs\u001b[0m\u001b[1;33m)\u001b[0m\u001b[1;33m,\u001b[0m \u001b[1;33m**\u001b[0m\u001b[0mkwargs\u001b[0m\u001b[1;33m)\u001b[0m\u001b[1;33m\u001b[0m\u001b[1;33m\u001b[0m\u001b[0m\n\u001b[0m\u001b[0;32m   1602\u001b[0m \u001b[1;33m\u001b[0m\u001b[0m\n\u001b[0;32m   1603\u001b[0m         \u001b[0mbound\u001b[0m \u001b[1;33m=\u001b[0m \u001b[0mnew_sig\u001b[0m\u001b[1;33m.\u001b[0m\u001b[0mbind\u001b[0m\u001b[1;33m(\u001b[0m\u001b[0max\u001b[0m\u001b[1;33m,\u001b[0m \u001b[1;33m*\u001b[0m\u001b[0margs\u001b[0m\u001b[1;33m,\u001b[0m \u001b[1;33m**\u001b[0m\u001b[0mkwargs\u001b[0m\u001b[1;33m)\u001b[0m\u001b[1;33m\u001b[0m\u001b[1;33m\u001b[0m\u001b[0m\n",
      "\u001b[1;32mE:\\DevEnvir\\py\\anaconda\\envs\\VisRecom\\lib\\site-packages\\matplotlib\\axes\\_axes.py\u001b[0m in \u001b[0;36mviolinplot\u001b[1;34m(self, dataset, positions, vert, widths, showmeans, showextrema, showmedians, points, bw_method)\u001b[0m\n\u001b[0;32m   8044\u001b[0m             \u001b[1;32mreturn\u001b[0m \u001b[0mkde\u001b[0m\u001b[1;33m.\u001b[0m\u001b[0mevaluate\u001b[0m\u001b[1;33m(\u001b[0m\u001b[0mcoords\u001b[0m\u001b[1;33m)\u001b[0m\u001b[1;33m\u001b[0m\u001b[1;33m\u001b[0m\u001b[0m\n\u001b[0;32m   8045\u001b[0m \u001b[1;33m\u001b[0m\u001b[0m\n\u001b[1;32m-> 8046\u001b[1;33m         \u001b[0mvpstats\u001b[0m \u001b[1;33m=\u001b[0m \u001b[0mcbook\u001b[0m\u001b[1;33m.\u001b[0m\u001b[0mviolin_stats\u001b[0m\u001b[1;33m(\u001b[0m\u001b[0mdataset\u001b[0m\u001b[1;33m,\u001b[0m \u001b[0m_kde_method\u001b[0m\u001b[1;33m,\u001b[0m \u001b[0mpoints\u001b[0m\u001b[1;33m=\u001b[0m\u001b[0mpoints\u001b[0m\u001b[1;33m)\u001b[0m\u001b[1;33m\u001b[0m\u001b[1;33m\u001b[0m\u001b[0m\n\u001b[0m\u001b[0;32m   8047\u001b[0m         return self.violin(vpstats, positions=positions, vert=vert,\n\u001b[0;32m   8048\u001b[0m                            \u001b[0mwidths\u001b[0m\u001b[1;33m=\u001b[0m\u001b[0mwidths\u001b[0m\u001b[1;33m,\u001b[0m \u001b[0mshowmeans\u001b[0m\u001b[1;33m=\u001b[0m\u001b[0mshowmeans\u001b[0m\u001b[1;33m,\u001b[0m\u001b[1;33m\u001b[0m\u001b[1;33m\u001b[0m\u001b[0m\n",
      "\u001b[1;32mE:\\DevEnvir\\py\\anaconda\\envs\\VisRecom\\lib\\site-packages\\matplotlib\\cbook\\__init__.py\u001b[0m in \u001b[0;36mviolin_stats\u001b[1;34m(X, method, points)\u001b[0m\n\u001b[0;32m   1487\u001b[0m         \u001b[1;31m# Evaluate the kernel density estimate\u001b[0m\u001b[1;33m\u001b[0m\u001b[1;33m\u001b[0m\u001b[1;33m\u001b[0m\u001b[0m\n\u001b[0;32m   1488\u001b[0m         \u001b[0mcoords\u001b[0m \u001b[1;33m=\u001b[0m \u001b[0mnp\u001b[0m\u001b[1;33m.\u001b[0m\u001b[0mlinspace\u001b[0m\u001b[1;33m(\u001b[0m\u001b[0mmin_val\u001b[0m\u001b[1;33m,\u001b[0m \u001b[0mmax_val\u001b[0m\u001b[1;33m,\u001b[0m \u001b[0mpoints\u001b[0m\u001b[1;33m)\u001b[0m\u001b[1;33m\u001b[0m\u001b[1;33m\u001b[0m\u001b[0m\n\u001b[1;32m-> 1489\u001b[1;33m         \u001b[0mstats\u001b[0m\u001b[1;33m[\u001b[0m\u001b[1;34m'vals'\u001b[0m\u001b[1;33m]\u001b[0m \u001b[1;33m=\u001b[0m \u001b[0mmethod\u001b[0m\u001b[1;33m(\u001b[0m\u001b[0mx\u001b[0m\u001b[1;33m,\u001b[0m \u001b[0mcoords\u001b[0m\u001b[1;33m)\u001b[0m\u001b[1;33m\u001b[0m\u001b[1;33m\u001b[0m\u001b[0m\n\u001b[0m\u001b[0;32m   1490\u001b[0m         \u001b[0mstats\u001b[0m\u001b[1;33m[\u001b[0m\u001b[1;34m'coords'\u001b[0m\u001b[1;33m]\u001b[0m \u001b[1;33m=\u001b[0m \u001b[0mcoords\u001b[0m\u001b[1;33m\u001b[0m\u001b[1;33m\u001b[0m\u001b[0m\n\u001b[0;32m   1491\u001b[0m \u001b[1;33m\u001b[0m\u001b[0m\n",
      "\u001b[1;32mE:\\DevEnvir\\py\\anaconda\\envs\\VisRecom\\lib\\site-packages\\matplotlib\\axes\\_axes.py\u001b[0m in \u001b[0;36m_kde_method\u001b[1;34m(X, coords)\u001b[0m\n\u001b[0;32m   8039\u001b[0m         \u001b[1;32mdef\u001b[0m \u001b[0m_kde_method\u001b[0m\u001b[1;33m(\u001b[0m\u001b[0mX\u001b[0m\u001b[1;33m,\u001b[0m \u001b[0mcoords\u001b[0m\u001b[1;33m)\u001b[0m\u001b[1;33m:\u001b[0m\u001b[1;33m\u001b[0m\u001b[1;33m\u001b[0m\u001b[0m\n\u001b[0;32m   8040\u001b[0m             \u001b[1;31m# fallback gracefully if the vector contains only one value\u001b[0m\u001b[1;33m\u001b[0m\u001b[1;33m\u001b[0m\u001b[1;33m\u001b[0m\u001b[0m\n\u001b[1;32m-> 8041\u001b[1;33m             \u001b[1;32mif\u001b[0m \u001b[0mnp\u001b[0m\u001b[1;33m.\u001b[0m\u001b[0mall\u001b[0m\u001b[1;33m(\u001b[0m\u001b[0mX\u001b[0m\u001b[1;33m[\u001b[0m\u001b[1;36m0\u001b[0m\u001b[1;33m]\u001b[0m \u001b[1;33m==\u001b[0m \u001b[0mX\u001b[0m\u001b[1;33m)\u001b[0m\u001b[1;33m:\u001b[0m\u001b[1;33m\u001b[0m\u001b[1;33m\u001b[0m\u001b[0m\n\u001b[0m\u001b[0;32m   8042\u001b[0m                 \u001b[1;32mreturn\u001b[0m \u001b[1;33m(\u001b[0m\u001b[0mX\u001b[0m\u001b[1;33m[\u001b[0m\u001b[1;36m0\u001b[0m\u001b[1;33m]\u001b[0m \u001b[1;33m==\u001b[0m \u001b[0mcoords\u001b[0m\u001b[1;33m)\u001b[0m\u001b[1;33m.\u001b[0m\u001b[0mastype\u001b[0m\u001b[1;33m(\u001b[0m\u001b[0mfloat\u001b[0m\u001b[1;33m)\u001b[0m\u001b[1;33m\u001b[0m\u001b[1;33m\u001b[0m\u001b[0m\n\u001b[0;32m   8043\u001b[0m             \u001b[0mkde\u001b[0m \u001b[1;33m=\u001b[0m \u001b[0mmlab\u001b[0m\u001b[1;33m.\u001b[0m\u001b[0mGaussianKDE\u001b[0m\u001b[1;33m(\u001b[0m\u001b[0mX\u001b[0m\u001b[1;33m,\u001b[0m \u001b[0mbw_method\u001b[0m\u001b[1;33m)\u001b[0m\u001b[1;33m\u001b[0m\u001b[1;33m\u001b[0m\u001b[0m\n",
      "\u001b[1;32mE:\\DevEnvir\\py\\anaconda\\envs\\VisRecom\\lib\\site-packages\\pandas\\core\\series.py\u001b[0m in \u001b[0;36m__getitem__\u001b[1;34m(self, key)\u001b[0m\n\u001b[0;32m   1066\u001b[0m         \u001b[0mkey\u001b[0m \u001b[1;33m=\u001b[0m \u001b[0mcom\u001b[0m\u001b[1;33m.\u001b[0m\u001b[0mapply_if_callable\u001b[0m\u001b[1;33m(\u001b[0m\u001b[0mkey\u001b[0m\u001b[1;33m,\u001b[0m \u001b[0mself\u001b[0m\u001b[1;33m)\u001b[0m\u001b[1;33m\u001b[0m\u001b[1;33m\u001b[0m\u001b[0m\n\u001b[0;32m   1067\u001b[0m         \u001b[1;32mtry\u001b[0m\u001b[1;33m:\u001b[0m\u001b[1;33m\u001b[0m\u001b[1;33m\u001b[0m\u001b[0m\n\u001b[1;32m-> 1068\u001b[1;33m             \u001b[0mresult\u001b[0m \u001b[1;33m=\u001b[0m \u001b[0mself\u001b[0m\u001b[1;33m.\u001b[0m\u001b[0mindex\u001b[0m\u001b[1;33m.\u001b[0m\u001b[0mget_value\u001b[0m\u001b[1;33m(\u001b[0m\u001b[0mself\u001b[0m\u001b[1;33m,\u001b[0m \u001b[0mkey\u001b[0m\u001b[1;33m)\u001b[0m\u001b[1;33m\u001b[0m\u001b[1;33m\u001b[0m\u001b[0m\n\u001b[0m\u001b[0;32m   1069\u001b[0m \u001b[1;33m\u001b[0m\u001b[0m\n\u001b[0;32m   1070\u001b[0m             \u001b[1;32mif\u001b[0m \u001b[1;32mnot\u001b[0m \u001b[0mis_scalar\u001b[0m\u001b[1;33m(\u001b[0m\u001b[0mresult\u001b[0m\u001b[1;33m)\u001b[0m\u001b[1;33m:\u001b[0m\u001b[1;33m\u001b[0m\u001b[1;33m\u001b[0m\u001b[0m\n",
      "\u001b[1;32mE:\\DevEnvir\\py\\anaconda\\envs\\VisRecom\\lib\\site-packages\\pandas\\core\\indexes\\base.py\u001b[0m in \u001b[0;36mget_value\u001b[1;34m(self, series, key)\u001b[0m\n\u001b[0;32m   4728\u001b[0m         \u001b[0mk\u001b[0m \u001b[1;33m=\u001b[0m \u001b[0mself\u001b[0m\u001b[1;33m.\u001b[0m\u001b[0m_convert_scalar_indexer\u001b[0m\u001b[1;33m(\u001b[0m\u001b[0mk\u001b[0m\u001b[1;33m,\u001b[0m \u001b[0mkind\u001b[0m\u001b[1;33m=\u001b[0m\u001b[1;34m\"getitem\"\u001b[0m\u001b[1;33m)\u001b[0m\u001b[1;33m\u001b[0m\u001b[1;33m\u001b[0m\u001b[0m\n\u001b[0;32m   4729\u001b[0m         \u001b[1;32mtry\u001b[0m\u001b[1;33m:\u001b[0m\u001b[1;33m\u001b[0m\u001b[1;33m\u001b[0m\u001b[0m\n\u001b[1;32m-> 4730\u001b[1;33m             \u001b[1;32mreturn\u001b[0m \u001b[0mself\u001b[0m\u001b[1;33m.\u001b[0m\u001b[0m_engine\u001b[0m\u001b[1;33m.\u001b[0m\u001b[0mget_value\u001b[0m\u001b[1;33m(\u001b[0m\u001b[0ms\u001b[0m\u001b[1;33m,\u001b[0m \u001b[0mk\u001b[0m\u001b[1;33m,\u001b[0m \u001b[0mtz\u001b[0m\u001b[1;33m=\u001b[0m\u001b[0mgetattr\u001b[0m\u001b[1;33m(\u001b[0m\u001b[0mseries\u001b[0m\u001b[1;33m.\u001b[0m\u001b[0mdtype\u001b[0m\u001b[1;33m,\u001b[0m \u001b[1;34m\"tz\"\u001b[0m\u001b[1;33m,\u001b[0m \u001b[1;32mNone\u001b[0m\u001b[1;33m)\u001b[0m\u001b[1;33m)\u001b[0m\u001b[1;33m\u001b[0m\u001b[1;33m\u001b[0m\u001b[0m\n\u001b[0m\u001b[0;32m   4731\u001b[0m         \u001b[1;32mexcept\u001b[0m \u001b[0mKeyError\u001b[0m \u001b[1;32mas\u001b[0m \u001b[0me1\u001b[0m\u001b[1;33m:\u001b[0m\u001b[1;33m\u001b[0m\u001b[1;33m\u001b[0m\u001b[0m\n\u001b[0;32m   4732\u001b[0m             \u001b[1;32mif\u001b[0m \u001b[0mlen\u001b[0m\u001b[1;33m(\u001b[0m\u001b[0mself\u001b[0m\u001b[1;33m)\u001b[0m \u001b[1;33m>\u001b[0m \u001b[1;36m0\u001b[0m \u001b[1;32mand\u001b[0m \u001b[1;33m(\u001b[0m\u001b[0mself\u001b[0m\u001b[1;33m.\u001b[0m\u001b[0mholds_integer\u001b[0m\u001b[1;33m(\u001b[0m\u001b[1;33m)\u001b[0m \u001b[1;32mor\u001b[0m \u001b[0mself\u001b[0m\u001b[1;33m.\u001b[0m\u001b[0mis_boolean\u001b[0m\u001b[1;33m(\u001b[0m\u001b[1;33m)\u001b[0m\u001b[1;33m)\u001b[0m\u001b[1;33m:\u001b[0m\u001b[1;33m\u001b[0m\u001b[1;33m\u001b[0m\u001b[0m\n",
      "\u001b[1;32mpandas/_libs/index.pyx\u001b[0m in \u001b[0;36mpandas._libs.index.IndexEngine.get_value\u001b[1;34m()\u001b[0m\n",
      "\u001b[1;32mpandas/_libs/index.pyx\u001b[0m in \u001b[0;36mpandas._libs.index.IndexEngine.get_value\u001b[1;34m()\u001b[0m\n",
      "\u001b[1;32mpandas/_libs/index.pyx\u001b[0m in \u001b[0;36mpandas._libs.index.IndexEngine.get_loc\u001b[1;34m()\u001b[0m\n",
      "\u001b[1;32mpandas/_libs/hashtable_class_helper.pxi\u001b[0m in \u001b[0;36mpandas._libs.hashtable.Int64HashTable.get_item\u001b[1;34m()\u001b[0m\n",
      "\u001b[1;32mpandas/_libs/hashtable_class_helper.pxi\u001b[0m in \u001b[0;36mpandas._libs.hashtable.Int64HashTable.get_item\u001b[1;34m()\u001b[0m\n",
      "\u001b[1;31mKeyError\u001b[0m: 0"
     ],
     "ename": "KeyError",
     "evalue": "0",
     "output_type": "error"
    },
    {
     "data": {
      "text/plain": "<Figure size 792x288 with 1 Axes>",
      "image/png": "[encoded data removed]"
     },
     "metadata": {},
     "output_type": "display_data"
    }
   ],
   "source": [
    "with plt.style.context('fivethirtyeight'):\n",
    "    fig, ax = plt.subplots(1, 1, figsize=(11, 4))\n",
    "    df_temp = df[df['PREVAILING_WAGE']<150000]\n",
    "    ax.violinplot(dataset = [df_temp[df_temp.YEAR == 2011]['PREVAILING_WAGE'],\n",
    "                          df_temp[df_temp.YEAR == 2012]['PREVAILING_WAGE'],\n",
    "                          df_temp[df_temp.YEAR == 2013]['PREVAILING_WAGE'],\n",
    "                          df_temp[df_temp.YEAR == 2014]['PREVAILING_WAGE'],\n",
    "                          df_temp[df_temp.YEAR == 2015]['PREVAILING_WAGE'],\n",
    "                          df_temp[df_temp.YEAR == 2016]['PREVAILING_WAGE']])\n",
    "def thousandUSD(x, pos):\n",
    "    return '$%1.0fk' % (x*1e-3)\n",
    "formatterUSD = FuncFormatter(thousandUSD)\n",
    "\n",
    "plt.xlabel('Year',size=20)\n",
    "plt.ylabel('H-1B Salary', size=20)\n",
    "ax.yaxis.set_major_formatter(formatterUSD)\n",
    "ax.tick_params(direction='out', length=10, width=2, colors='k')\n",
    "ax.set_xticklabels(range(2010,2017))\n",
    "plt.title('H-1B Wage Distribution (2011 to 2016)')"
   ]
  },
  {
   "cell_type": "markdown",
   "metadata": {
    "_cell_guid": "54ad5c5c-0860-466c-b488-c21ea403dabf",
    "_uuid": "ef5b39ec2fdd0e104216f8713800b610597cfc18"
   },
   "source": [
    "# 3.3. Distribution of H-1B mployers"
   ]
  },
  {
   "cell_type": "code",
   "execution_count": null,
   "metadata": {
    "_cell_guid": "31c5e77b-56f0-4cf3-a01c-5155ec7e6ede",
    "_uuid": "d90ebbd1f3e33ecc7eefeb1b2ec63ffa6fb3ad70",
    "pycharm": {
     "is_executing": false
    }
   },
   "outputs": [],
   "source": [
    "employer_name = df['EMPLOYER_NAME'].value_counts().index.tolist()\n",
    "employer_petitions = df['EMPLOYER_NAME'].value_counts().tolist()\n",
    "employer_petitions\n",
    "df_employer = df['EMPLOYER_NAME'].value_counts().to_frame().head(50)\n",
    "df_employer = df_employer.reset_index()\n",
    "df_employer.columns = ['EMPLOYER_NAME','H1B_COUNT']"
   ]
  },
  {
   "cell_type": "code",
   "execution_count": null,
   "metadata": {
    "_cell_guid": "a9dad6ec-5379-43ba-84ed-f0eb872452d9",
    "_uuid": "8b927e2bca1399573f15d60f564f9ba22683f856",
    "scrolled": false,
    "pycharm": {
     "is_executing": false
    }
   },
   "outputs": [],
   "source": [
    "fig, ax = plt.subplots()# figsize=(8,4))\n",
    "s = df_employer.set_index('EMPLOYER_NAME')['H1B_COUNT']\n",
    "plt.style.use('fivethirtyeight')\n",
    "ax = s.plot(kind='barh', figsize=(8, 25), \n",
    "            title='Top 50 H-1B Visa Sponsors')\n",
    "ax.set_ylabel('', visible=False)\n",
    "ax.tick_params(direction='out', length=10, width=2, colors='k')\n",
    "ax.invert_yaxis()\n",
    "def thousand(x, pos):\n",
    "    return '%1.0f' % (x*1e-3)\n",
    "formatter = FuncFormatter(thousand)\n",
    "ax.xaxis.set_major_formatter(formatter)\n",
    "ax.set_xlabel('Number of Petitions (x1000)',size=20)"
   ]
  },
  {
   "cell_type": "markdown",
   "metadata": {
    "_cell_guid": "176c3372-69c2-4fb7-bc49-bdebfbcf644f",
    "_uuid": "ddd0a4d35e5b7229172f4ae3949d51409a5789e0"
   },
   "source": [
    "# 3.4. Wage Distribution in Top H-1B Visa Sponsors"
   ]
  },
  {
   "cell_type": "code",
   "execution_count": null,
   "metadata": {
    "_cell_guid": "3d136b3c-11af-42cd-989f-7d11426b9cc5",
    "_uuid": "1fa13c544405eaca6d6084c078e02d73589b0d4a",
    "pycharm": {
     "is_executing": false
    }
   },
   "outputs": [],
   "source": [
    "#df.info();\n",
    "employer_name[0];\n",
    "\n",
    "def thousandUSD(x, pos):\n",
    "    return '$%1.0fk' % (x*1e-3)\n",
    "def thousand(x, pos):\n",
    "    return '%1.0f' % (x*1e-3)\n",
    "formatterUSD = FuncFormatter(thousandUSD)\n",
    "formatter = FuncFormatter(thousand)\n",
    "\n",
    "\n",
    "\n",
    "with plt.style.context('fivethirtyeight'):\n",
    "    fig, ax = plt.subplots(5, 1, figsize=(12, 20))\n",
    "    for i in range(0,5):\n",
    "        ax[i].hist(df[df['EMPLOYER_NAME']==employer_name[i]]['PREVAILING_WAGE'],\n",
    "          bins=200, edgecolor='#E6E6E6', color='#EE6666');\n",
    "        ax[i].set_title('%d-%s'%(i+1, employer_name[i]))\n",
    "        ax[i].set_xlabel('Salary',size=20)\n",
    "        ax[i].set_ylabel('Number of H-1B Visas \\n (x1000)', size=20)\n",
    "        ax[i].xaxis.set_major_formatter(formatterUSD)\n",
    "        ax[i].yaxis.set_major_formatter(formatter)\n",
    "\n",
    "plt.xlim([0, 200000])\n",
    "fig.tight_layout()"
   ]
  },
  {
   "cell_type": "markdown",
   "metadata": {
    "_cell_guid": "e46865bd-cee3-487c-9703-5fdb6888a8a2",
    "_uuid": "54c240c94b895fcda5779089a78252b937a08496"
   },
   "source": [
    "# 3.5. Geographical Distribution of H-1B Employers"
   ]
  },
  {
   "cell_type": "code",
   "execution_count": null,
   "metadata": {
    "_cell_guid": "de10da5e-e230-4151-8f9e-9a79db9c4c57",
    "_uuid": "f6673aca571f88ee105ca604b0508309047d4f02",
    "pycharm": {
     "is_executing": false
    }
   },
   "outputs": [],
   "source": [
    "def plotheatmap(df, tittle):\n",
    "    from mpl_toolkits.basemap import Basemap\n",
    "    from scipy.stats import gaussian_kde\n",
    "    import math\n",
    "    scale = 5\n",
    "    fig, ax = plt.subplots(figsize=(12,6))\n",
    "\n",
    "    map = Basemap(llcrnrlon=-119,llcrnrlat=22,urcrnrlon=-64,urcrnrlat=49,\n",
    "        projection='lcc',lat_1=32,lat_2=45,lon_0=-95)\n",
    "    map.readshapefile('../input/basemap/st99_d00', name='states', drawbounds=True)\n",
    "\n",
    "    x = np.asarray(df['lon'].tolist())\n",
    "    y = np.asarray(df['lat'].tolist())\n",
    "    where_are_NaNs = np.isnan(y)\n",
    "    y[where_are_NaNs] = 0\n",
    "    x[where_are_NaNs] = 0\n",
    "    where_are_NaNs = np.isnan(x)\n",
    "    y[where_are_NaNs] = 0\n",
    "    x[where_are_NaNs] = 0\n",
    "\n",
    "    where_are_NonZeros = np.nonzero(x)\n",
    "    x = x[where_are_NonZeros]\n",
    "    y = y[where_are_NonZeros]\n",
    "    if len(x) > 10000: nsamples = 10000\n",
    "    if len(x) < 10000: nsamples = len(x)\n",
    "    simple_random_sampling = np.random.randint(0,len(x),nsamples)\n",
    "\n",
    "    xs = x[simple_random_sampling]\n",
    "    ys = y[simple_random_sampling]\n",
    "    xy = np.vstack([xs,ys])\n",
    "    xy = xy.astype('int')\n",
    "    z = gaussian_kde(xy)(xy)\n",
    "    idx = z.argsort()\n",
    "    xs, ys, z = xs[idx], ys[idx], z[idx]\n",
    "    xmap,ymap = map(xs,ys)\n",
    "    heatmap = ax.scatter(xmap,ymap,c=z,s=20,cmap='viridis')\n",
    "    cb = plt.colorbar(heatmap)\n",
    "    cb.set_label('Probability Density')\n",
    "    plt.title(tittle)\n",
    "\n",
    "plotheatmap(df, 'H-1B Visa Petitions')\n",
    "\n"
   ]
  },
  {
   "cell_type": "markdown",
   "metadata": {
    "_cell_guid": "ae4c3040-a743-4c00-ab4d-c904e5a82ecf",
    "_uuid": "1fb227de2ee496926862915ba55992a5abcde44a"
   },
   "source": [
    "# 3.6. Geographical Distribution of H-1B Top Employers"
   ]
  },
  {
   "cell_type": "code",
   "execution_count": null,
   "metadata": {
    "_cell_guid": "81598a02-9473-4c8a-bb43-4bf5086b6cb0",
    "_uuid": "28eb930549079ec5d1a2779b0da54e01a6d91f7c",
    "pycharm": {
     "is_executing": false
    }
   },
   "outputs": [],
   "source": [
    "employer_name[0];\n",
    "for i in range(0,3):\n",
    " plotheatmap(df[df['EMPLOYER_NAME']==employer_name[i]],\n",
    "          '%d-%s'%(i+1, employer_name[i]));\n",
    "#plt.show()"
   ]
  },
  {
   "cell_type": "code",
   "execution_count": null,
   "metadata": {
    "_cell_guid": "f3a44c70-3150-454c-b437-3236f00e6cd3",
    "_uuid": "905b8b465a7b0870ffd889f09d5250281cd479ee",
    "pycharm": {
     "is_executing": false
    }
   },
   "outputs": [],
   "source": [
    "df_top20_worksite = df.groupby(['WORKSITE'], sort=False).size().nlargest(20).reset_index(name='top20')"
   ]
  },
  {
   "cell_type": "markdown",
   "metadata": {
    "_cell_guid": "feb74108-4fef-4c1f-90c6-ec063ead85cd",
    "_uuid": "5e686a0767c7b824a26cdf3d0def87e47e330ef3"
   },
   "source": [
    "# 3.7. Salary Distribution in Most Populated Cities"
   ]
  },
  {
   "cell_type": "code",
   "execution_count": null,
   "metadata": {
    "_cell_guid": "fbb6f570-b3e8-4a83-a523-1f52d52b547b",
    "_uuid": "a18558efb6b71d32fdd6ce8b509349d037402c45",
    "pycharm": {
     "is_executing": false
    }
   },
   "outputs": [],
   "source": [
    "df_temp = df_top20_worksite\n",
    "for worksite in df_top20_worksite['WORKSITE']:\n",
    "    if i==0: df_temp = df[df['WORKSITE']==worksite]\n",
    "    if i>0: df_temp = pd.concat([df_temp,df[df['WORKSITE']==worksite]])\n",
    "    i+=1"
   ]
  },
  {
   "cell_type": "code",
   "execution_count": null,
   "metadata": {
    "_cell_guid": "51918b14-bc2f-483d-a434-6e678a8f07aa",
    "_uuid": "15cd60b33f57214420a7b6fcadd9e8d5bb3c448b",
    "pycharm": {
     "is_executing": false
    }
   },
   "outputs": [],
   "source": [
    "import seaborn as sns\n",
    "df_temp = df_temp[df_temp['PREVAILING_WAGE']<150000]\n",
    "fig, ax = plt.subplots(figsize=(8,20))\n",
    "ax = sns.violinplot(y='WORKSITE',x='PREVAILING_WAGE', data=df_temp,dodge=True,inner=\"quartile\",bw=.2, linewidth=1.5)\n",
    "#ax.set_xticklabels(ax.get_xticklabels(),rotation=90)\n",
    "def thousandUSD(x, pos):\n",
    "    return '$%1.0fk' % (x*1e-3)\n",
    "\n",
    "formatterUSD = FuncFormatter(thousandUSD)\n",
    "ax.xaxis.set_major_formatter(formatterUSD)\n",
    "ax.set_title('Distribution of H-1B Salary in Top 20 H-1B Cities', fontsize=20)\n",
    "ax.grid(True)\n",
    "plt.xlabel('Salary',size=20)\n",
    "plt.ylabel('City',size=20)"
   ]
  }
 ],
 "metadata": {
  "kernelspec": {
   "display_name": "Python 3",
   "language": "python",
   "name": "python3"
  },
  "language_info": {
   "codemirror_mode": {
    "name": "ipython",
    "version": 3
   },
   "file_extension": ".py",
   "mimetype": "text/x-python",
   "name": "python",
   "nbconvert_exporter": "python",
   "pygments_lexer": "ipython3",
   "version": "3.7.1"
  },
  "pycharm": {
   "stem_cell": {
    "cell_type": "raw",
    "source": [],
    "metadata": {
     "collapsed": false
    }
   }
  }
 },
 "nbformat": 4,
 "nbformat_minor": 1
}