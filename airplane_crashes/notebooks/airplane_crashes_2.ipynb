{
 "cells": [
  {
   "cell_type": "markdown",
   "metadata": {
    "_cell_guid": "e4908a03-fb76-4c2f-b2b5-d031bd9ef029",
    "_uuid": "3d9d87bab7decddf1f434bd997c4545008ba9b75"
   },
   "source": [
    "# Exploring airplane crashes\n",
    "\n",
    "![img](https://i.kinja-img.com/gawker-media/image/upload/s--73wYzv0D--/c_scale,fl_progressive,q_80,w_800/pfpfmuqq5ffelhlgv0ob.jpg)\n",
    "\n",
    "Hey guys. So here I will visualize data from [Airplane Crashes Dataset](https://www.kaggle.com/saurograndi/airplane-crashes-since-1908) and we will see if we can find some weird or interesting insights.\n",
    "\n",
    "Acording to [WikiHow](https://www.wikihow.com/Survive-a-Plane-Crash)\n",
    "> The odds of dying on a commercial airline flight are actually as low as 9 million to 1. That said, a lot can go wrong at 33,000 feet (10,058.4 m) above the ground, and if you’re unlucky enough to be aboard when something does, the decisions you make could mean the difference between life and death. Almost 95% of airplane crashes have survivors, so even if the worst does happen, your odds aren't as bad as you might think.\n",
    "\n",
    "So let's see..."
   ]
  },
  {
   "cell_type": "markdown",
   "metadata": {
    "_cell_guid": "ca3f69fe-796d-4c12-8f93-877cfe127ca0",
    "_uuid": "ad0ed7b8c73be212080d5b4334a8a92fcdf9598c"
   },
   "source": [
    "## Setting up the environment"
   ]
  },
  {
   "cell_type": "code",
   "execution_count": 2,
   "metadata": {
    "_cell_guid": "b1076dfc-b9ad-4769-8c92-a6c4dae69d19",
    "collapsed": true,
    "_uuid": "8f2839f25d086af736a60e9eeb907d3b93b6e0e5"
   },
   "outputs": [],
   "source": [
    "#importing the libraries and data\n",
    "import numpy as np \n",
    "import pandas as pd \n",
    "import seaborn as sns\n",
    "import matplotlib.pyplot as plt\n",
    "from datetime import date, timedelta, datetime\n",
    "\n",
    "Data = pd.read_csv('benchmark/airplane_crashes/airplane_crashes.csv')"
   ]
  },
  {
   "cell_type": "code",
   "execution_count": 3,
   "metadata": {
    "_kg_hide-input": true,
    "_cell_guid": "e97f90b2-3fc6-4615-8714-b5e084c23a6b",
    "_uuid": "f67cf7e2312dbc9faf460fc66aed03b2e0601d14"
   },
   "outputs": [
    {
     "data": {
      "text/html": [
       "<div>\n",
       "<style scoped>\n",
       "    .dataframe tbody tr th:only-of-type {\n",
       "        vertical-align: middle;\n",
       "    }\n",
       "\n",
       "    .dataframe tbody tr th {\n",
       "        vertical-align: top;\n",
       "    }\n",
       "\n",
       "    .dataframe thead th {\n",
       "        text-align: right;\n",
       "    }\n",
       "</style>\n",
       "<table border=\"1\" class=\"dataframe\">\n",
       "  <thead>\n",
       "    <tr style=\"text-align: right;\">\n",
       "      <th></th>\n",
       "      <th>Date</th>\n",
       "      <th>Time</th>\n",
       "      <th>Location</th>\n",
       "      <th>Operator</th>\n",
       "      <th>Flight #</th>\n",
       "      <th>Route</th>\n",
       "      <th>Type</th>\n",
       "      <th>Registration</th>\n",
       "      <th>cn/In</th>\n",
       "      <th>Aboard</th>\n",
       "      <th>Fatalities</th>\n",
       "      <th>Ground</th>\n",
       "      <th>Summary</th>\n",
       "    </tr>\n",
       "  </thead>\n",
       "  <tbody>\n",
       "    <tr>\n",
       "      <th>4793</th>\n",
       "      <td>07/30/2001</td>\n",
       "      <td>16:00</td>\n",
       "      <td>Haines, Alaska</td>\n",
       "      <td>Air Taxi</td>\n",
       "      <td>NaN</td>\n",
       "      <td>Shagway, AK - Return</td>\n",
       "      <td>Piper PA-32-300</td>\n",
       "      <td>N39586</td>\n",
       "      <td>32-7840168</td>\n",
       "      <td>6.0</td>\n",
       "      <td>6.0</td>\n",
       "      <td>0.0</td>\n",
       "      <td>The sightseeing plane impacted the side of a m...</td>\n",
       "    </tr>\n",
       "    <tr>\n",
       "      <th>5020</th>\n",
       "      <td>11/28/2004</td>\n",
       "      <td>09:55</td>\n",
       "      <td>Montrose, Colorado</td>\n",
       "      <td>Glow Air/Air Castle - Charter</td>\n",
       "      <td>73</td>\n",
       "      <td>Montrose, CO - South Bend, IN</td>\n",
       "      <td>Canadair CL-601-2A12 Challenger</td>\n",
       "      <td>N873G</td>\n",
       "      <td>3009</td>\n",
       "      <td>6.0</td>\n",
       "      <td>3.0</td>\n",
       "      <td>0.0</td>\n",
       "      <td>While attempting to take off from R31, the air...</td>\n",
       "    </tr>\n",
       "    <tr>\n",
       "      <th>655</th>\n",
       "      <td>06/20/1944</td>\n",
       "      <td>NaN</td>\n",
       "      <td>Porto Alegre, Brazil</td>\n",
       "      <td>Varig</td>\n",
       "      <td>NaN</td>\n",
       "      <td>NaN</td>\n",
       "      <td>Lockheed 10C Electra</td>\n",
       "      <td>PP-VAG</td>\n",
       "      <td>1008</td>\n",
       "      <td>10.0</td>\n",
       "      <td>10.0</td>\n",
       "      <td>0.0</td>\n",
       "      <td>Crashed into a river.</td>\n",
       "    </tr>\n",
       "    <tr>\n",
       "      <th>1874</th>\n",
       "      <td>10/09/1963</td>\n",
       "      <td>NaN</td>\n",
       "      <td>Near Marseilles, France</td>\n",
       "      <td>Aeronaves de Panama</td>\n",
       "      <td>NaN</td>\n",
       "      <td>Marseilles, France - Dhah, Saudi Arabia</td>\n",
       "      <td>Douglas C-74</td>\n",
       "      <td>HP-385</td>\n",
       "      <td>13915</td>\n",
       "      <td>6.0</td>\n",
       "      <td>6.0</td>\n",
       "      <td>0.0</td>\n",
       "      <td>Crashed shortly after taking off with a cargo ...</td>\n",
       "    </tr>\n",
       "    <tr>\n",
       "      <th>2318</th>\n",
       "      <td>06/05/1969</td>\n",
       "      <td>07:12</td>\n",
       "      <td>North Bend, Oregon</td>\n",
       "      <td>Eureka Aero Inc. - Air Taxi</td>\n",
       "      <td>NaN</td>\n",
       "      <td>NaN</td>\n",
       "      <td>Cessna 337C</td>\n",
       "      <td>N2665S</td>\n",
       "      <td>NaN</td>\n",
       "      <td>3.0</td>\n",
       "      <td>3.0</td>\n",
       "      <td>0.0</td>\n",
       "      <td>Collided with trees on approach. Improper IFR ...</td>\n",
       "    </tr>\n",
       "  </tbody>\n",
       "</table>\n",
       "</div>"
      ],
      "text/plain": [
       "<div>\n",
       "<style scoped>\n",
       "    .dataframe tbody tr th:only-of-type {\n",
       "        vertical-align: middle;\n",
       "    }\n",
       "\n",
       "    .dataframe tbody tr th {\n",
       "        vertical-align: top;\n",
       "    }\n",
       "\n",
       "    .dataframe thead th {\n",
       "        text-align: right;\n",
       "    }\n",
       "</style>\n",
       "<table border=\"1\" class=\"dataframe\">\n",
       "  <thead>\n",
       "    <tr style=\"text-align: right;\">\n",
       "      <th></th>\n",
       "      <th>Date</th>\n",
       "      <th>Time</th>\n",
       "      <th>Location</th>\n",
       "      <th>Operator</th>\n",
       "      <th>Flight #</th>\n",
       "      <th>Route</th>\n",
       "      <th>Type</th>\n",
       "      <th>Registration</th>\n",
       "      <th>cn/In</th>\n",
       "      <th>Aboard</th>\n",
       "      <th>Fatalities</th>\n",
       "      <th>Ground</th>\n",
       "      <th>Summary</th>\n",
       "    </tr>\n",
       "  </thead>\n",
       "  <tbody>\n",
       "    <tr>\n",
       "      <th>4793</th>\n",
       "      <td>07/30/2001</td>\n",
       "      <td>16:00</td>\n",
       "      <td>Haines, Alaska</td>\n",
       "      <td>Air Taxi</td>\n",
       "      <td>NaN</td>\n",
       "      <td>Shagway, AK - Return</td>\n",
       "      <td>Piper PA-32-300</td>\n",
       "      <td>N39586</td>\n",
       "      <td>32-7840168</td>\n",
       "      <td>6.0</td>\n",
       "      <td>6.0</td>\n",
       "      <td>0.0</td>\n",
       "      <td>The sightseeing plane impacted the side of a m...</td>\n",
       "    </tr>\n",
       "    <tr>\n",
       "      <th>5020</th>\n",
       "      <td>11/28/2004</td>\n",
       "      <td>09:55</td>\n",
       "      <td>Montrose, Colorado</td>\n",
       "      <td>Glow Air/Air Castle - Charter</td>\n",
       "      <td>73</td>\n",
       "      <td>Montrose, CO - South Bend, IN</td>\n",
       "      <td>Canadair CL-601-2A12 Challenger</td>\n",
       "      <td>N873G</td>\n",
       "      <td>3009</td>\n",
       "      <td>6.0</td>\n",
       "      <td>3.0</td>\n",
       "      <td>0.0</td>\n",
       "      <td>While attempting to take off from R31, the air...</td>\n",
       "    </tr>\n",
       "    <tr>\n",
       "      <th>655</th>\n",
       "      <td>06/20/1944</td>\n",
       "      <td>NaN</td>\n",
       "      <td>Porto Alegre, Brazil</td>\n",
       "      <td>Varig</td>\n",
       "      <td>NaN</td>\n",
       "      <td>NaN</td>\n",
       "      <td>Lockheed 10C Electra</td>\n",
       "      <td>PP-VAG</td>\n",
       "      <td>1008</td>\n",
       "      <td>10.0</td>\n",
       "      <td>10.0</td>\n",
       "      <td>0.0</td>\n",
       "      <td>Crashed into a river.</td>\n",
       "    </tr>\n",
       "    <tr>\n",
       "      <th>1874</th>\n",
       "      <td>10/09/1963</td>\n",
       "      <td>NaN</td>\n",
       "      <td>Near Marseilles, France</td>\n",
       "      <td>Aeronaves de Panama</td>\n",
       "      <td>NaN</td>\n",
       "      <td>Marseilles, France - Dhah, Saudi Arabia</td>\n",
       "      <td>Douglas C-74</td>\n",
       "      <td>HP-385</td>\n",
       "      <td>13915</td>\n",
       "      <td>6.0</td>\n",
       "      <td>6.0</td>\n",
       "      <td>0.0</td>\n",
       "      <td>Crashed shortly after taking off with a cargo ...</td>\n",
       "    </tr>\n",
       "    <tr>\n",
       "      <th>2318</th>\n",
       "      <td>06/05/1969</td>\n",
       "      <td>07:12</td>\n",
       "      <td>North Bend, Oregon</td>\n",
       "      <td>Eureka Aero Inc. - Air Taxi</td>\n",
       "      <td>NaN</td>\n",
       "      <td>NaN</td>\n",
       "      <td>Cessna 337C</td>\n",
       "      <td>N2665S</td>\n",
       "      <td>NaN</td>\n",
       "      <td>3.0</td>\n",
       "      <td>3.0</td>\n",
       "      <td>0.0</td>\n",
       "      <td>Collided with trees on approach. Improper IFR ...</td>\n",
       "    </tr>\n",
       "  </tbody>\n",
       "</table>\n",
       "</div>"
      ]
     },
     "execution_count": 3,
     "metadata": {},
     "output_type": "execute_result"
    }
   ],
   "source": [
    "np.random.seed(42) \n",
    "obs, feat = Data.shape\n",
    "Data.sample(5)"
   ]
  },
  {
   "cell_type": "code",
   "execution_count": 4,
   "metadata": {
    "_kg_hide-input": true,
    "_cell_guid": "009554bb-64b2-4034-a527-d2baa51ccc36",
    "_uuid": "72921a9c795a4d2e410aeb72ea9a7872edbfa705"
   },
   "outputs": [
    {
     "name": "stdout",
     "output_type": "stream",
     "text": [
      "Dataset consist of 5268 observations (crashes) and 13 features. Features are following:\n"
     ]
    }
   ],
   "source": [
    "print(str(\"Dataset consist of \" + str(obs) + \" observations (crashes) and \" + str(feat) + \" features. Features are following:\"))"
   ]
  },
  {
   "cell_type": "markdown",
   "metadata": {
    "_cell_guid": "ebc2808a-182b-41e5-997e-b096415f0aab",
    "_uuid": "3af63f753cf48f3d3383ed63f5b81754d6336efd"
   },
   "source": [
    "*  **Date** (date the crash had taken place)\n",
    "* **Time** (time the crash had taken place)\n",
    "* **Location** \n",
    "* **Operator **\n",
    "* **Flight #** \n",
    "* **Route**\n",
    "* **Type**\n",
    "* **Registration**\n",
    "* **cn/In ** - ?\n",
    "* **Aboard **  - number of people aboard\n",
    "* **Fatalities ** - lethal outcome\n",
    "* **Ground** - saved people\n",
    "* **Summary ** - brief summary of the case\n",
    "\n",
    "And actually something does not make sense in this data set. Theoretically, Aboard = Fatalities + Ground, but it does not look like this. So I just skipped Ground row for any further analysis.\n",
    "Now let's look how data looks like and check how many missing values are here."
   ]
  },
  {
   "cell_type": "code",
   "execution_count": 5,
   "metadata": {
    "_cell_guid": "f8abc417-db80-4946-acae-f121c4d3a98e",
    "collapsed": true,
    "_uuid": "927d3c33e48667e5e48ce2e3c01861aa220824d6"
   },
   "outputs": [
    {
     "data": {
      "text/plain": [
       "Date               0\nTime            2219\nLocation          20\nOperator          18\nFlight #        4199\nRoute           1706\nType              27\nRegistration     335\ncn/In           1228\nAboard            22\nFatalities        12\nGround            22\nSummary          390\ndtype: int64"
      ]
     },
     "execution_count": 5,
     "metadata": {},
     "output_type": "execute_result"
    }
   ],
   "source": [
    "Data.isnull().sum() #calculating missing values in rows"
   ]
  },
  {
   "cell_type": "markdown",
   "metadata": {
    "_cell_guid": "51b43f53-2694-4296-bbbc-2ff9d372cd79",
    "_uuid": "dcd44da7bee509c5c63f96c22600103bc11b639a"
   },
   "source": [
    "Nice to see, that there are not so many missing values of variables we are most interested in (Date, Operator, Aboard, Fatalities, ...). \n",
    "Let's move futher and do some manipulations with data."
   ]
  },
  {
   "cell_type": "markdown",
   "metadata": {
    "_cell_guid": "4966d628-4bc4-4171-a1d7-1727d1a6ef66",
    "_uuid": "d5d59cbedc8d890912df266a19158b67315f2ef4"
   },
   "source": [
    "## Data manipulation\n",
    "\n",
    "I want to create a new row with 'Date + Time' format. I replaced all the missing values of Time with 0:00. Then I removed some wrong symbols and fixed broken values. "
   ]
  },
  {
   "cell_type": "code",
   "execution_count": 6,
   "metadata": {
    "_cell_guid": "e58cb438-b54d-42be-921c-56cf856ff06f",
    "_uuid": "2ab1b09df0fefa4192b708d50fccf0dd4ab4bd40"
   },
   "outputs": [],
   "source": [
    "## Getting familiar with data"
   ]
  },
  {
   "cell_type": "code",
   "execution_count": 7,
   "metadata": {
    "_cell_guid": "348c851f-1000-4a08-8fbe-39c095428374",
    "_uuid": "b326155fdda388c547a7a1d366fadbaa2ac5446c"
   },
   "outputs": [
    {
     "name": "stdout",
     "output_type": "stream",
     "text": [
      "Date ranges from 1908-09-17 17:18:00 to 2009-06-08 00:00:00\n"
     ]
    }
   ],
   "source": [
    "#cleaning up\n",
    "Data['Time'] = Data['Time'].replace(np.nan, '00:00') \n",
    "Data['Time'] = Data['Time'].str.replace('c: ', '')\n",
    "Data['Time'] = Data['Time'].str.replace('c:', '')\n",
    "Data['Time'] = Data['Time'].str.replace('c', '')\n",
    "Data['Time'] = Data['Time'].str.replace('12\\'20', '12:20')\n",
    "Data['Time'] = Data['Time'].str.replace('18.40', '18:40')\n",
    "Data['Time'] = Data['Time'].str.replace('0943', '09:43')\n",
    "Data['Time'] = Data['Time'].str.replace('22\\'08', '22:08')\n",
    "Data['Time'] = Data['Time'].str.replace('114:20', '00:00') #is it 11:20 or 14:20 or smth else? \n",
    "\n",
    "Data['Time'] = Data['Date'] + ' ' + Data['Time'] #joining two rows\n",
    "def todate(x):\n",
    "    return datetime.strptime(x, '%m/%d/%Y %H:%M')\n",
    "Data['Time'] = Data['Time'].apply(todate) #convert to date type\n",
    "print('Date ranges from ' + str(Data.Time.min()) + ' to ' + str(Data.Time.max()))\n",
    "\n",
    "Data.Operator = Data.Operator.str.upper() #just to avoid duplicates like 'British Airlines' and 'BRITISH Airlines'\n",
    "\n",
    "\n"
   ]
  },
  {
   "cell_type": "code",
   "execution_count": 8,
   "metadata": {
    "_kg_hide-input": true,
    "_cell_guid": "9790ac8c-0060-4629-93d9-29943fd8d8ca",
    "_uuid": "2ed6fd48acf35e9a08a93407d6a6ea9ad701d9ca"
   },
   "outputs": [],
   "source": [
    "## Data Visualization\n",
    "### Total accidents\n",
    "\n",
    "Temp = Data.groupby(Data.Time.dt.year)[['Date']].count() #Temp is going to be temporary data frame \n",
    "Temp = Temp.rename(columns={\"Date\": \"Count\"})\n"
   ]
  },
  {
   "cell_type": "code",
   "execution_count": 9,
   "metadata": {
    "_kg_hide-input": true,
    "_cell_guid": "9790ac8c-0060-4629-93d9-29943fd8d8ca",
    "_uuid": "2ed6fd48acf35e9a08a93407d6a6ea9ad701d9ca"
   },
   "outputs": [],
   "source": [
    "\n",
    "plt.figure(figsize=(12,6))\n",
    "plt.style.use('bmh')\n",
    "plt.plot(Temp.index, 'Count', data=Temp, color='blue', marker = \".\", linewidth=1)\n",
    "plt.xlabel('Year', fontsize=10)\n",
    "plt.ylabel('Count', fontsize=10)\n",
    "plt.title('Count of accidents by Year', loc='Center', fontsize=14)\n",
    "plt.show()\n"
   ]
  },
  {
   "cell_type": "code",
   "execution_count": 11,
   "metadata": {
    "_kg_hide-input": true,
    "_cell_guid": "1d80c68e-a2ef-47ac-b080-16b5644cc792",
    "_uuid": "a8fa76c08281e29beaf4aafb34c9f5fa1df62e9f"
   },
   "outputs": [],
   "source": [
    "import matplotlib.pylab as pl\n",
    "import matplotlib.gridspec as gridspec\n",
    "\n",
    "gs = gridspec.GridSpec(2, 2)\n",
    "pl.figure(figsize=(15,10))\n",
    "plt.style.use('seaborn-muted')\n",
    "ax = pl.subplot(gs[0, :]) # row 0, col 0\n",
    "sns.barplot(Data.groupby(Data.Time.dt.month)[['Date']].count().index, 'Date', data=Data.groupby(Data.Time.dt.month)[['Date']].count(), color='lightskyblue', linewidth=2)\n",
    "plt.xticks(Data.groupby(Data.Time.dt.month)[['Date']].count().index, ['Jan', 'Feb', 'Mar', 'Apr', 'May', 'Jun', 'Jul', 'Aug', 'Sep', 'Oct', 'Nov', 'Dec'])\n",
    "plt.xlabel('Month', fontsize=10)\n",
    "plt.ylabel('Count', fontsize=10)\n",
    "plt.title('Count of accidents by Month', loc='Center', fontsize=14)\n",
    "\n",
    "ax = pl.subplot(gs[1, 0])\n",
    "sns.barplot(Data.groupby(Data.Time.dt.weekday)[['Date']].count().index, 'Date', data=Data.groupby(Data.Time.dt.weekday)[['Date']].count(), color='lightskyblue', linewidth=2)\n",
    "plt.xticks(Data.groupby(Data.Time.dt.weekday)[['Date']].count().index, ['Mon', 'Tue', 'Wed', 'Thu', 'Fri', 'Sat', 'Sun'])\n",
    "plt.xlabel('Day of Week', fontsize=10)\n",
    "plt.ylabel('Count', fontsize=10)\n",
    "plt.title('Count of accidents by Day of Week', loc='Center', fontsize=14)\n",
    "\n",
    "ax = pl.subplot(gs[1, 1])\n",
    "sns.barplot(Data[Data.Time.dt.hour != 0].groupby(Data.Time.dt.hour)[['Date']].count().index, 'Date', data=Data[Data.Time.dt.hour != 0].groupby(Data.Time.dt.hour)[['Date']].count(),color ='lightskyblue', linewidth=2)\n",
    "plt.xlabel('Hour', fontsize=10)\n",
    "plt.ylabel('Count', fontsize=10)\n",
    "plt.title('Count of accidents by Hour', loc='Center', fontsize=14)\n",
    "plt.tight_layout()\n",
    "plt.show()"
   ]
  },
  {
   "cell_type": "markdown",
   "metadata": {
    "_cell_guid": "0c5c0c31-4a20-4784-af8a-2d52bb5c682d",
    "_uuid": "28ad828a51c526332684e61042dad2e2894218b3"
   },
   "source": [
    "### Military vs Passenger flights"
   ]
  },
  {
   "cell_type": "code",
   "execution_count": 12,
   "metadata": {
    "_kg_hide-input": true,
    "_cell_guid": "b1a10e6f-5408-475a-a9c0-16c8c2b151a1",
    "_uuid": "43f6307275f8a65a0626b138f0899cfa99c09bfb"
   },
   "outputs": [],
   "source": [
    "Temp = Data.copy()\n",
    "Temp['isMilitary'] = Temp.Operator.str.contains('MILITARY')\n",
    "Temp = Temp.groupby('isMilitary')[['isMilitary']].count()\n",
    "Temp.index = ['Passenger', 'Military']\n",
    "\n",
    "Temp2 = Data.copy()\n",
    "Temp2['Military'] = Temp2.Operator.str.contains('MILITARY')\n",
    "Temp2['Passenger'] = Temp2.Military == False\n",
    "Temp2 = Temp2.loc[:, ['Time', 'Military', 'Passenger']]\n",
    "Temp2 = Temp2.groupby(Temp2.Time.dt.year)[['Military', 'Passenger']].aggregate(np.count_nonzero)\n",
    "\n",
    "colors = ['yellowgreen', 'lightskyblue']\n",
    "plt.figure(figsize=(15,6))\n",
    "plt.subplot(1, 2, 1)\n",
    "patches, texts = plt.pie(Temp.isMilitary, colors=colors, labels=Temp.isMilitary, startangle=90)\n",
    "plt.legend(patches, Temp.index, loc=\"best\", fontsize=10)\n",
    "plt.axis('equal')\n",
    "plt.title('Total number of accidents by Type of flight', loc='Center', fontsize=14)\n",
    "\n",
    "plt.subplot(1, 2, 2)\n",
    "plt.plot(Temp2.index, 'Military', data=Temp2, color='lightskyblue', marker = \".\", linewidth=1)\n",
    "plt.plot(Temp2.index, 'Passenger', data=Temp2, color='yellowgreen', marker = \".\", linewidth=1)\n",
    "plt.legend(fontsize=10)\n",
    "plt.xlabel('Year', fontsize=10)\n",
    "plt.ylabel('Count', fontsize=10)\n",
    "plt.title('Count of accidents by Year', loc='Center', fontsize=14)\n",
    "plt.tight_layout()\n",
    "plt.show()"
   ]
  },
  {
   "cell_type": "markdown",
   "metadata": {
    "_cell_guid": "0d3ecd51-08dd-4ba2-95db-e21ea41604d5",
    "_uuid": "af4a11c97fb309cec98b95eac7d009195b214c0d"
   },
   "source": [
    "### Total number of Fatalities"
   ]
  },
  {
   "cell_type": "code",
   "execution_count": 13,
   "metadata": {
    "_kg_hide-input": true,
    "_cell_guid": "c0620e54-aa43-455a-a34c-1961204f4eb9",
    "_uuid": "b2298a7237c6b0f8eb1b636bc6996789f5903b14"
   },
   "outputs": [],
   "source": [
    "Fatalities = Data.groupby(Data.Time.dt.year).sum()\n",
    "Fatalities['Proportion'] = Fatalities['Fatalities'] / Fatalities['Aboard']\n",
    "\n",
    "plt.figure(figsize=(15,6))\n",
    "plt.subplot(1, 2, 1)\n",
    "plt.fill_between(Fatalities.index, 'Aboard', data=Fatalities, color=\"skyblue\", alpha=0.2)\n",
    "plt.plot(Fatalities.index, 'Aboard', data=Fatalities, marker = \".\", color=\"Slateblue\", alpha=0.6, linewidth=1)\n",
    "plt.fill_between(Fatalities.index, 'Fatalities', data=Fatalities, color=\"olive\", alpha=0.2)\n",
    "plt.plot(Fatalities.index, 'Fatalities', data=Fatalities, color=\"olive\", marker = \".\", alpha=0.6, linewidth=1)\n",
    "plt.legend(fontsize=10)\n",
    "plt.xlabel('Year', fontsize=10)\n",
    "plt.ylabel('Amount of people', fontsize=10)\n",
    "plt.title('Total number of people involved by Year', loc='Center', fontsize=14)\n",
    "\n",
    "plt.subplot(1, 2, 2)\n",
    "plt.plot(Fatalities.index, 'Proportion', data=Fatalities, marker = \".\", color = 'red', linewidth=1)\n",
    "plt.xlabel('Year', fontsize=10)\n",
    "plt.ylabel('Ratio', fontsize=10)\n",
    "plt.title('Fatalities / Total Ratio by Year', loc='Center', fontsize=14)\n",
    "plt.tight_layout()\n",
    "plt.show()"
   ]
  },
  {
   "cell_type": "code",
   "execution_count": 2,
   "metadata": {},
   "outputs": [],
   "source": [
    "plt.show()"
   ]
  },
  {
   "cell_type": "code",
   "execution_count": null,
   "metadata": {},
   "outputs": [],
   "source": []
  },
  {
   "cell_type": "markdown",
   "metadata": {
    "_cell_guid": "01b5d2c6-f0d7-4828-bfa9-985174da8457",
    "_uuid": "ec80ba344be39ef005561482e9d99f8afffdeafa"
   },
   "source": [
    "It seems like 1970s were not the best year in history of Aeroflot. More about accidents in this years can be found on [Wikipedia page](https://en.wikipedia.org/wiki/Aeroflot_accidents_and_incidents_in_the_1970s)\n",
    "\n",
    "### Some take-aways\n",
    "\n",
    "Even so the number of crashes and fatalities is increasing, the number of flights is also increasing. And we could actually see that the ratio of fatalities/total amount of passengers trending down (for 2000s). However we can not make decisions about any Operator like \"which airline is much safer to flight with\" without knowledge of total amount flights. If Aeroflot has the largest number of crashes this doesn't mean that it is not worse to flight with because it might have the largest amount of flights. \n",
    "\n",
    "So this project taught me to think more critical about data and not to make decisions without including athe infotmation possible.\n",
    "\n",
    "I hope you enjoyed it :)"
   ]
  }
 ],
 "metadata": {
  "language_info": {
   "codemirror_mode": {
    "version": 3,
    "name": "ipython"
   },
   "name": "python",
   "file_extension": ".py",
   "mimetype": "text/x-python",
   "version": "3.6.4",
   "nbconvert_exporter": "python",
   "pygments_lexer": "ipython3"
  },
  "kernelspec": {
   "display_name": "Python 3",
   "language": "python",
   "name": "python3"
  }
 },
 "nbformat": 4,
 "nbformat_minor": 1
}
