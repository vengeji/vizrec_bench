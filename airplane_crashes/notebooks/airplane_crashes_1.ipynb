{
 "cells": [
  {
   "cell_type": "code",
   "execution_count": 27,
   "metadata": {
    "_cell_guid": "8d75b68b-741c-4cf8-a952-786fe4b1bac9"
   },
   "outputs": [
    {
     "data": {
      "text/plain": [
       "<matplotlib.axes._subplots.AxesSubplot at 0x1f0c3a66ba8>"
      ]
     },
     "execution_count": 27,
     "metadata": {},
     "output_type": "execute_result"
    }
   ],
   "source": [
    "from matplotlib import pyplot as plt\n",
    "import numpy as np\n",
    "import pandas as pd \n",
    "import matplotlib\n",
    "from sklearn.linear_model import LinearRegression\n",
    "\n",
    "# Input data files are available in the \"../input/\" directory.\n",
    "# For example, running this (by clicking run or pressing Shift+Enter) will list the files in the input directory\n",
    "\n",
    "#from subprocess import check_output\n",
    "#print(check_output([\"ls\", \"../input\"]).decode(\"utf8\"))\n",
    "\n",
    "# Any results you write to the current directory are saved as output.\n",
    "frame=pd.read_csv('benchmark/airplane_crashes/airplane_crashes.csv',sep=',')\n",
    "matplotlib.rcParams['figure.figsize'] = (12.0, 8.0)\n",
    "\n",
    "operator = frame[['Operator','Fatalities']].groupby('Operator').agg(['sum','count'])\n",
    "\n",
    "fig_ops,((ax1, ax2), (ax3, ax4))=plt.subplots(2,2,sharex=True)\n",
    "accidents = operator['Fatalities','count'].sort_values(ascending=False)\n",
    "totalacc = accidents.sum()\n",
    "accprop = accidents/totalacc\n",
    "accidents.head(10).plot(kind='bar',title='Accidents by Operator',ax=ax1,grid=True,rot=90)\n",
    "accprop.head(10).plot(kind='bar',title='Proportion of Total Accidents',ax=ax2,grid=True,rot=90)\n",
    "\n",
    "fatalities = operator['Fatalities','sum'].sort_values(ascending=False)\n",
    "fatalities.head(10).plot(kind='bar',title='Fatalities by Operator',ax=ax3,grid=True,rot=90)\n",
    "totalfatal = fatalities.sum()\n",
    "fatalprop = fatalities/totalfatal\n",
    "fatalprop.head(10).plot(kind='bar',title='Proportion of total Fatalities',ax=ax4,grid=True,rot=90)"
   ]
  },
  {
   "cell_type": "code",
   "execution_count": 28,
   "metadata": {
    "_cell_guid": "6a1cd595-b0d2-d548-84ce-04e95e476869"
   },
   "outputs": [
    {
     "data": {
      "text/plain": [
       "<matplotlib.axes._subplots.AxesSubplot at 0x1f0c3c21160>"
      ]
     },
     "execution_count": 28,
     "metadata": {},
     "output_type": "execute_result"
    }
   ],
   "source": [
    "#Lets take a look at the proportion of fatalities per accident for specific operators.\n",
    "#This bears out some interesting statistics. Thanks for the suggestion @Jos Smit.\n",
    "props = operator['Fatalities'].reset_index()\n",
    "props['Fatalities per Crash'] = props['sum']/props['count']\n",
    "props.columns = ['Operator','Fatalities','Accidents','Fatalities per Accident']\n",
    "\n",
    "fig_p,(axp1,axp2) = plt.subplots(2,1,sharex = True)\n",
    "minacc = 5\n",
    "fig_p.suptitle('Fatalities per Accident for airlines with > %s Accidents' % minacc)\n",
    "propstoplot = props[props['Accidents']>minacc]\n",
    "propstoplot.sort_values('Fatalities per Accident').tail(50).plot(x = 'Operator'\n",
    "                                                               , y = 'Fatalities per Accident'\n",
    "                                                               , ax = axp1\n",
    "                                                               , kind = 'bar'\n",
    "                                                               , grid = True)\n",
    "propstoplot.sort_values('Fatalities per Accident').tail(50).plot(x = 'Operator'\n",
    "                                                               , y = 'Accidents'\n",
    "                                                               , ax = axp2\n",
    "                                                               , kind = 'bar'\n",
    "                                                               , grid = True)"
   ]
  },
  {
   "cell_type": "code",
   "execution_count": 29,
   "metadata": {
    "_cell_guid": "6b6469b0-5fdd-48b2-8dcb-d7d9e778fbec"
   },
   "outputs": [
    {
     "data": {
      "text/plain": [
       "<matplotlib.legend.Legend at 0x1f0e1ab9be0>"
      ]
     },
     "execution_count": 29,
     "metadata": {},
     "output_type": "execute_result"
    }
   ],
   "source": [
    "operator.dropna(inplace=True)\n",
    "X = operator['Fatalities','count']\n",
    "Y = operator['Fatalities','sum']\n",
    "model = LinearRegression()\n",
    "model.fit(X.values.reshape(-1,1),Y.values.reshape(-1,1))\n",
    "m = model.coef_[0][0]\n",
    "c = model.intercept_[0]\n",
    "\n",
    "fig_fit,axd=plt.subplots()\n",
    "axd.scatter(X,Y,label='Operators')\n",
    "axd.set_title('Linear Model: Predicting Fatalities given Accidents')\n",
    "axd.plot(X,model.predict(X.values.reshape(-1,1)),label='Linear Fit: y = %2.2fx %2.2f' % (m,c))\n",
    "axd.grid(True)\n",
    "axd.set_xlabel('Accidents')\n",
    "axd.set_ylabel('Fatalities')\n",
    "axd.legend(loc=2)"
   ]
  },
  {
   "cell_type": "code",
   "execution_count": 30,
   "metadata": {
    "_cell_guid": "64eb2a81-d884-494c-ab3a-dd87a8874925"
   },
   "outputs": [
    {
     "data": {
      "text/plain": [
       "<matplotlib.axes._subplots.AxesSubplot at 0x1f0e1b3afd0>"
      ]
     },
     "execution_count": 30,
     "metadata": {},
     "output_type": "execute_result"
    }
   ],
   "source": [
    "types = frame[['Type','Fatalities']].groupby('Type').agg(['sum','count'])\n",
    "\n",
    "fig_type,((ax1,ax2),(ax3,ax4))=plt.subplots(2,2,sharex = True)\n",
    "acctype = types['Fatalities','count'].sort_values(ascending=False)\n",
    "acctype.head(10).plot(kind='bar',title='Accidents by Type',grid=True,ax=ax1,rot=90)\n",
    "typeprop = acctype/totalacc\n",
    "typeprop.head(10).plot(kind='bar',title='Proportion of total accidents',grid=True,ax=ax2,rot=90)\n",
    "\n",
    "fataltype = types['Fatalities','sum'].sort_values(ascending=False)\n",
    "fataltype.head(10).plot(kind='bar',title='Fatalities by Type',grid=True,ax=ax3,rot=90)\n",
    "typefatalprop = fataltype/totalfatal\n",
    "typefatalprop.head(10).plot(kind='bar',title='Proportion of total fatalities',grid=True,ax=ax4,rot=90)"
   ]
  },
  {
   "cell_type": "code",
   "execution_count": 31,
   "metadata": {
    "_cell_guid": "70cc2d0f-42d3-8e6f-7f04-59cd4ab4f448"
   },
   "outputs": [
    {
     "data": {
      "text/plain": [
       "<matplotlib.axes._subplots.AxesSubplot at 0x1f0e1c630f0>"
      ]
     },
     "execution_count": 31,
     "metadata": {},
     "output_type": "execute_result"
    }
   ],
   "source": [
    "#Essentially duplicated code as for the operator... one could write a little\n",
    "#function here but its probably just quicker to copy and paste...\n",
    "propstype = types['Fatalities'].reset_index()\n",
    "propstype['Fatalities per Crash'] = propstype['sum']/propstype['count']\n",
    "propstype.columns = ['Type','Fatalities','Accidents','Fatalities per Accident']\n",
    "\n",
    "\n",
    "fig_p,(axpt1,axpt2) = plt.subplots(2,1,sharex = True)\n",
    "minacc = 5\n",
    "fig_p.suptitle('Fatalities per Accident for Aircraft with > %s Accidents' % minacc)\n",
    "typestoplot = propstype[propstype['Accidents']>minacc]\n",
    "typestoplot.sort_values('Fatalities per Accident').tail(50).plot(x = 'Type'\n",
    "                                                               , y = 'Fatalities per Accident'\n",
    "                                                               , ax = axpt1\n",
    "                                                               , kind = 'bar'\n",
    "                                                               , grid = True)\n",
    "typestoplot.sort_values('Fatalities per Accident').tail(50).plot(x = 'Type'\n",
    "                                                               , y = 'Accidents'\n",
    "                                                               , ax = axpt2\n",
    "                                                               , kind = 'bar'\n",
    "                                                               , grid = True)"
   ]
  },
  {
   "cell_type": "code",
   "execution_count": 32,
   "metadata": {
    "_cell_guid": "ffd2dff5-7a65-49e8-ad4e-e23583fe2364"
   },
   "outputs": [],
   "source": [
    "frame['Year'] = frame['Date'].apply(lambda x: int(str(x)[-4:]))\n",
    "yearly = frame[['Year','Fatalities']].groupby('Year').agg(['sum','count'])\n",
    "\n",
    "fig_yearly,(axy1,axy2)=plt.subplots(2,1,figsize=(15,10))\n",
    "yearly['Fatalities','sum'].plot(kind='bar',title='Fatalities by Year',grid=True,ax=axy1,rot=90)\n",
    "yearly['Fatalities','count'].plot(kind='bar',title='Accidents by Year',grid=True,ax=axy2,rot=90)\n",
    "plt.tight_layout()"
   ]
  },
  {
   "cell_type": "code",
   "execution_count": 33,
   "metadata": {
    "_cell_guid": "3079fe0b-d111-49d5-90c3-01a73bf7b685"
   },
   "outputs": [],
   "source": [
    "#Just having a look at the Accident and Fatality trend by specific operator.\n",
    "#The accident index is sorted from highest to lowest and can be used to select some of the more\n",
    "#interesting operators.\n",
    "\n",
    "#KLM for example have not had an accident since the 60's!\n",
    "\n",
    "interestingOps = accidents.index.values.tolist()[0:5]\n",
    "optrend = frame[['Operator','Year','Fatalities']].groupby(['Operator','Year']).agg(['sum','count'])\n",
    "ops = optrend['Fatalities'].reset_index()\n",
    "fig,axtrend = plt.subplots(2,1)\n",
    "for op in interestingOps:\n",
    "    ops[ops['Operator']==op].plot(x='Year',y='sum',ax=axtrend[0],grid=True,linewidth=2)\n",
    "    ops[ops['Operator']==op].plot(x='Year',y='count',ax=axtrend[1],grid=True,linewidth=2)\n",
    "\n",
    "axtrend[0].set_title('Fatality Trend by Operator')\n",
    "axtrend[1].set_title('Accident Trend by Operator')\n",
    "linesF, labelsF = axtrend[0].get_legend_handles_labels()\n",
    "linesA, labelsA = axtrend[1].get_legend_handles_labels()\n",
    "axtrend[0].legend(linesF,interestingOps)\n",
    "axtrend[1].legend(linesA,interestingOps)\n",
    "plt.tight_layout()"
   ]
  },
  {
   "cell_type": "code",
   "execution_count": 34,
   "metadata": {
    "_cell_guid": "b6a8f107-2bce-4acb-9b68-9cbd17a6e8ba"
   },
   "outputs": [],
   "source": [
    "#Splitting out the country from the location to see if we can find some interesting\n",
    "#statistics about where the most crashes have taken place.\n",
    "\n",
    "s = frame['Location'].str[0:].str.split(',', expand=True)\n",
    "frame['Country'] = s[3].fillna(s[2]).fillna(s[1]).str.strip()\n",
    "#I've pulled out all the US states so as to be able to assign them a country\n",
    "usNames = ['Virginia','New Jersey','Ohio','Pennsylvania', 'Maryland', 'Indiana', 'Iowa',\n",
    "          'Illinois','Wyoming', 'Minnisota', 'Wisconsin', 'Nevada', 'NY','California',\n",
    "          'WY','New York','Oregon', 'Idaho', 'Connecticut','Nebraska', 'Minnesota', 'Kansas',\n",
    "          'Texas', 'Tennessee', 'West Virginia', 'New Mexico', 'Washington', 'Massachusetts',\n",
    "          'Utah', 'Ilinois','Florida', 'Michigan', 'Arkansas','Colorado', 'Georgia''Missouri',\n",
    "          'Montana', 'Mississippi','Alaska','Jersey', 'Cailifornia', 'Oklahoma','North Carolina',\n",
    "          'Kentucky','Delaware','D.C.','Arazona','Arizona','South Dekota','New Hampshire','Hawaii',\n",
    "          'Washingon','Massachusett','Washington DC','Tennesee','Deleware','Louisiana',\n",
    "          'Massachutes', 'Louisana', 'New York (Idlewild)','Oklohoma','North Dakota','Rhode Island',\n",
    "          'Maine','Alakska','Wisconson','Calilfornia','Virginia','Virginia.','CA','Vermont',\n",
    "          'HI','AK','IN','GA','Coloado','Airzona','Alabama','Alaksa' \n",
    "          ]\n",
    "\n",
    "#Decided to try and cleanse the country names.\n",
    "afNames = ['Afghanstan'] #Afghanistan\n",
    "anNames = ['off Angola'] #Angola\n",
    "ausNames = ['Qld. Australia','Queensland  Australia','Tasmania','off Australia'] #Australia\n",
    "argNames = ['Aregntina'] #Argentina\n",
    "azNames = ['Azores (Portugal)'] #Azores\n",
    "baNames = ['Baangladesh'] #Bangladesh\n",
    "bahNames = ['Great Inagua'] #Bahamas\n",
    "berNames = ['off Bermuda'] #Bermuda\n",
    "bolNames = ['Boliva','BO'] #Bolivia\n",
    "bhNames = ['Bosnia-Herzegovina'] #Bosnia Herzegovina\n",
    "bulNames = ['Bugaria','Bulgeria'] #Bulgaria\n",
    "canNames = ['British Columbia', 'British Columbia Canada','Canada2',\n",
    "            'Saskatchewan','Yukon Territory'] #Canada\n",
    "camNames = ['Cameroons','French Cameroons'] #Cameroon\n",
    "caNames = ['Cape Verde Islands'] #Cape Verde\n",
    "chNames = ['Chili'] #Chile\n",
    "coNames = ['Comoro Islands', 'Comoros Islands'] #Comoros\n",
    "djNames = ['Djbouti','Republiof Djibouti'] #Djibouti\n",
    "domNames = ['Domincan Republic', 'Dominica'] #Dominican Republic\n",
    "drcNames = ['Belgian Congo','Belgian Congo (Zaire)','Belgium Congo'\n",
    "           'DR Congo','DemocratiRepubliCogo','DemocratiRepubliCongo',\n",
    "            'DemocratiRepubliof Congo','DemoctratiRepubliCongo','Zaire',\n",
    "           'Zaïre'] #Democratic Republic of Congo\n",
    "faNames = ['French Equitorial Africa'] #French Equatorial Africa\n",
    "gerNames = ['East Germany','West Germany'] #Germany\n",
    "grNames = ['Crete'] #Greece\n",
    "haNames = ['Hati'] #Haiti\n",
    "hunNames = ['Hunary'] #Hungary\n",
    "inNames = ['Indian'] #India\n",
    "indNames = ['Inodnesia','Netherlands Indies'] #Indonesia\n",
    "jamNames = ['Jamacia'] #Jamaica\n",
    "malNames = ['Malaya'] #Malaysia\n",
    "manNames = ['Manmar'] #Myanmar\n",
    "marNames = ['Mauretania'] #Mauritania\n",
    "morNames = ['Morrocco','Morroco'] #Morocco\n",
    "nedNames = ['Amsterdam','The Netherlands'] #Netherlands\n",
    "niNames = ['Niger'] #Nigeria\n",
    "philNames = ['Philipines','Philippine Sea', 'Phillipines',\n",
    "            'off the Philippine island of Elalat'] #Philippines\n",
    "romNames = ['Romainia'] #Romania\n",
    "rusNames = ['Russian','Soviet Union','USSR'] #Russia\n",
    "saNames = ['Saint Lucia Island'] #Saint Lucia\n",
    "samNames = ['Western Samoa'] #Samoa\n",
    "siNames = ['Sierre Leone'] #Sierra Leone\n",
    "soNames = ['South Africa (Namibia)'] #South Africa\n",
    "surNames = ['Suriname'] #Surinam\n",
    "uaeNames = ['United Arab Emirates'] #UAE\n",
    "ukNames = ['England', 'UK','Wales','110 miles West of Ireland'] #United Kingdom\n",
    "uvNames = ['US Virgin Islands','Virgin Islands'] #U.S. Virgin Islands\n",
    "wkNames = ['325 miles east of Wake Island']#Wake Island\n",
    "yuNames = ['Yugosalvia'] #Yugoslavia\n",
    "zimNames = ['Rhodesia', 'Rhodesia (Zimbabwe)'] #Zimbabwe\n",
    "\n",
    "clnames = []\n",
    "for country in frame['Country'].values:\n",
    "    if country in afNames:\n",
    "        clnames.append('Afghanistan')\n",
    "    elif country in anNames:\n",
    "        clnames.append('Angola')\n",
    "    elif country in ausNames:\n",
    "        clnames.append('Australia')\n",
    "    elif country in argNames:\n",
    "        clnames.append('Argentina')\n",
    "    elif country in azNames:\n",
    "        clnames.append('Azores')\n",
    "    elif country in baNames:\n",
    "        clnames.append('Bangladesh')\n",
    "    elif country in bahNames:\n",
    "        clnames.append('Bahamas')\n",
    "    elif country in berNames:\n",
    "        clnames.append('Bermuda')\n",
    "    elif country in bolNames:\n",
    "        clnames.append('Bolivia')\n",
    "    elif country in bhNames:\n",
    "        clnames.append('Bosnia Herzegovina')\n",
    "    elif country in bulNames:\n",
    "        clnames.append('Bulgaria')\n",
    "    elif country in canNames:\n",
    "        clnames.append('Canada')\n",
    "    elif country in camNames:\n",
    "        clnames.append('Cameroon')\n",
    "    elif country in caNames:\n",
    "        clnames.append('Cape Verde')\n",
    "    elif country in chNames:\n",
    "        clnames.append('Chile')\n",
    "    elif country in coNames:\n",
    "        clnames.append('Comoros')\n",
    "    elif country in djNames:\n",
    "        clnames.append('Djibouti')\n",
    "    elif country in domNames:\n",
    "        clnames.append('Dominican Republic')\n",
    "    elif country in drcNames:\n",
    "        clnames.append('Democratic Republic of Congo')\n",
    "    elif country in faNames:\n",
    "        clnames.append('French Equatorial Africa')\n",
    "    elif country in gerNames:\n",
    "        clnames.append('Germany')\n",
    "    elif country in grNames:\n",
    "        clnames.append('Greece')\n",
    "    elif country in haNames:\n",
    "        clnames.append('Haiti')\n",
    "    elif country in hunNames:\n",
    "        clnames.append('Hungary')\n",
    "    elif country in inNames:\n",
    "        clnames.append('India')\n",
    "    elif country in jamNames:\n",
    "        clnames.append('Jamaica')\n",
    "    elif country in malNames:\n",
    "        clnames.append('Malaysia')\n",
    "    elif country in manNames:\n",
    "        clnames.append('Myanmar')\n",
    "    elif country in marNames:\n",
    "        clnames.append('Mauritania')\n",
    "    elif country in morNames:\n",
    "        clnames.append('Morocco')\n",
    "    elif country in nedNames:\n",
    "        clnames.append('Netherlands')\n",
    "    elif country in niNames:\n",
    "        clnames.append('Nigeria')\n",
    "    elif country in philNames:\n",
    "        clnames.append('Philippines')\n",
    "    elif country in romNames:\n",
    "        clnames.append('Romania')\n",
    "    elif country in rusNames:\n",
    "        clnames.append('Russia')\n",
    "    elif country in saNames:\n",
    "        clnames.append('Saint Lucia')\n",
    "    elif country in samNames:\n",
    "        clnames.append('Samoa')\n",
    "    elif country in siNames:\n",
    "        clnames.append('Sierra Leone')\n",
    "    elif country in soNames:\n",
    "        clnames.append('South Africa')\n",
    "    elif country in surNames:\n",
    "        clnames.append('Surinam')\n",
    "    elif country in uaeNames:\n",
    "        clnames.append('UAE')\n",
    "    elif country in ukNames:\n",
    "        clnames.append('United Kingdom')\n",
    "    elif country in usNames:\n",
    "        clnames.append('United States of America')\n",
    "    elif country in uvNames:\n",
    "        clnames.append('U.S. Virgin Islands')\n",
    "    elif country in wkNames:\n",
    "        clnames.append('Wake Island')\n",
    "    elif country in yuNames:\n",
    "        clnames.append('Yugoslavia')\n",
    "    elif country in zimNames:\n",
    "        clnames.append('Zimbabwe')\n",
    "    else:\n",
    "        clnames.append(country)\n",
    "        \n",
    "frame['Cleaned Country'] = clnames        \n",
    "fatalcountries = frame[['Fatalities','Cleaned Country']].groupby(['Cleaned Country']).agg('sum')\n",
    "fatalcountries.reset_index(inplace = True)\n",
    "fatalcountries['Proportion of Total'] = fatalcountries['Fatalities']/totalfatal\n",
    "\n",
    "fig_c, (ax1,ax2) = plt.subplots(2,1,sharex = True)\n",
    "fatalcountries[fatalcountries['Fatalities']>1000].plot(x = 'Cleaned Country'\n",
    "                                                     , y = 'Fatalities'\n",
    "                                                     , ax = ax1\n",
    "                                                     , kind = 'bar'\n",
    "                                                     , grid = True)\n",
    "fatalcountries[fatalcountries['Fatalities']>1000].plot(x = 'Cleaned Country'\n",
    "                                                     , y = 'Proportion of Total'\n",
    "                                                     , ax = ax2\n",
    "                                                     , kind = 'bar'\n",
    "                                                     , grid = True)\n",
    "plt.show()"
   ]
  },
  {
   "cell_type": "code",
   "execution_count": null,
   "metadata": {
    "_cell_guid": "8dae7a40-7d23-1497-90ef-9c6e706824e2"
   },
   "outputs": [],
   "source": [
    "\n",
    "\n",
    "\n"
   ]
  }
 ],
 "metadata": {
  "_change_revision": 357.0,
  "_is_fork": false,
  "kernelspec": {
   "display_name": "Python 3",
   "language": "python",
   "name": "python3"
  },
  "language_info": {
   "codemirror_mode": {
    "name": "ipython",
    "version": 3
   },
   "file_extension": ".py",
   "mimetype": "text/x-python",
   "name": "python",
   "nbconvert_exporter": "python",
   "pygments_lexer": "ipython3",
   "version": "3.5.2"
  }
 },
 "nbformat": 4,
 "nbformat_minor": 0
}
